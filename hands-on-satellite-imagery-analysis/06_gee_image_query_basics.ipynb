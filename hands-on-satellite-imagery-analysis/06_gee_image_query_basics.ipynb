{
 "cells": [
  {
   "attachments": {},
   "cell_type": "markdown",
   "metadata": {},
   "source": [
    "\n",
    "### Satellite Imagery Querying, Parsing and Rendering"
   ]
  },
  {
   "cell_type": "code",
   "execution_count": 6,
   "metadata": {},
   "outputs": [],
   "source": [
    "import bqplot\n",
    "import datetime\n",
    "import dateutil.parser\n",
    "import ee\n",
    "import ipywidgets\n",
    "import ipyleaflet\n",
    "import IPython.display\n",
    "import numpy as np\n",
    "import pprint\n",
    "import pandas as pd\n",
    "import traitlets\n",
    "from humanize import naturalsize as size\n"
   ]
  },
  {
   "cell_type": "code",
   "execution_count": 3,
   "metadata": {},
   "outputs": [],
   "source": [
    "pp = pprint.PrettyPrinter(depth=4)\n"
   ]
  },
  {
   "cell_type": "code",
   "execution_count": 59,
   "metadata": {},
   "outputs": [],
   "source": [
    "# initialize google earth engine\n",
    "ee.Initialize()"
   ]
  },
  {
   "attachments": {},
   "cell_type": "markdown",
   "metadata": {},
   "source": [
    "#### Filtering collections by time period and cloud cover"
   ]
  },
  {
   "cell_type": "code",
   "execution_count": 8,
   "metadata": {},
   "outputs": [
    {
     "name": "stdout",
     "output_type": "stream",
     "text": [
      "Total number of assets with filters: 10681\n",
      "Total size of LS-8 collection: 6.2 TB\n"
     ]
    }
   ],
   "source": [
    "# public image collections\n",
    "l8sr = ee.ImageCollection('LANDSAT/LC08/C01/T1_SR')\\\n",
    "        .filterDate('2018-08-01', '2018-12-01')\\\n",
    "        .filterMetadata('CLOUD_COVER', 'less_than', 2)\n",
    "\n",
    "print(f'Total number of assets with filters: {l8sr.size().getInfo()}')\n",
    "print(f'Total size of LS-8 collection: {size(l8sr.reduceColumns(ee.Reducer.sum(), [\"system:asset_size\"]).getInfo()[\"sum\"])}')\n"
   ]
  },
  {
   "attachments": {},
   "cell_type": "markdown",
   "metadata": {},
   "source": [
    "#### Get image from a collection and query its metadata"
   ]
  },
  {
   "cell_type": "code",
   "execution_count": 14,
   "metadata": {},
   "outputs": [
    {
     "name": "stdout",
     "output_type": "stream",
     "text": [
      "{'bands': [{'crs': 'EPSG:32628',\n",
      "            'crs_transform': [30, 0, 341385, 0, -30, 8807715],\n",
      "            'data_type': {'max': 32767,\n",
      "                          'min': -32768,\n",
      "                          'precision': 'int',\n",
      "                          'type': 'PixelType'},\n",
      "            'dimensions': [9161, 9161],\n",
      "            'id': 'B1'},\n",
      "           {'crs': 'EPSG:32628',\n",
      "            'crs_transform': [30, 0, 341385, 0, -30, 8807715],\n",
      "            'data_type': {'max': 32767,\n",
      "                          'min': -32768,\n",
      "                          'precision': 'int',\n",
      "                          'type': 'PixelType'},\n",
      "            'dimensions': [9161, 9161],\n",
      "            'id': 'B2'},\n",
      "           {'crs': 'EPSG:32628',\n",
      "            'crs_transform': [30, 0, 341385, 0, -30, 8807715],\n",
      "            'data_type': {'max': 32767,\n",
      "                          'min': -32768,\n",
      "                          'precision': 'int',\n",
      "                          'type': 'PixelType'},\n",
      "            'dimensions': [9161, 9161],\n",
      "            'id': 'B3'},\n",
      "           {'crs': 'EPSG:32628',\n",
      "            'crs_transform': [30, 0, 341385, 0, -30, 8807715],\n",
      "            'data_type': {'max': 32767,\n",
      "                          'min': -32768,\n",
      "                          'precision': 'int',\n",
      "                          'type': 'PixelType'},\n",
      "            'dimensions': [9161, 9161],\n",
      "            'id': 'B4'},\n",
      "           {'crs': 'EPSG:32628',\n",
      "            'crs_transform': [30, 0, 341385, 0, -30, 8807715],\n",
      "            'data_type': {'max': 32767,\n",
      "                          'min': -32768,\n",
      "                          'precision': 'int',\n",
      "                          'type': 'PixelType'},\n",
      "            'dimensions': [9161, 9161],\n",
      "            'id': 'B5'},\n",
      "           {'crs': 'EPSG:32628',\n",
      "            'crs_transform': [30, 0, 341385, 0, -30, 8807715],\n",
      "            'data_type': {'max': 32767,\n",
      "                          'min': -32768,\n",
      "                          'precision': 'int',\n",
      "                          'type': 'PixelType'},\n",
      "            'dimensions': [9161, 9161],\n",
      "            'id': 'B6'},\n",
      "           {'crs': 'EPSG:32628',\n",
      "            'crs_transform': [30, 0, 341385, 0, -30, 8807715],\n",
      "            'data_type': {'max': 32767,\n",
      "                          'min': -32768,\n",
      "                          'precision': 'int',\n",
      "                          'type': 'PixelType'},\n",
      "            'dimensions': [9161, 9161],\n",
      "            'id': 'B7'},\n",
      "           {'crs': 'EPSG:32628',\n",
      "            'crs_transform': [30, 0, 341385, 0, -30, 8807715],\n",
      "            'data_type': {'max': 32767,\n",
      "                          'min': -32768,\n",
      "                          'precision': 'int',\n",
      "                          'type': 'PixelType'},\n",
      "            'dimensions': [9161, 9161],\n",
      "            'id': 'B10'},\n",
      "           {'crs': 'EPSG:32628',\n",
      "            'crs_transform': [30, 0, 341385, 0, -30, 8807715],\n",
      "            'data_type': {'max': 32767,\n",
      "                          'min': -32768,\n",
      "                          'precision': 'int',\n",
      "                          'type': 'PixelType'},\n",
      "            'dimensions': [9161, 9161],\n",
      "            'id': 'B11'},\n",
      "           {'crs': 'EPSG:32628',\n",
      "            'crs_transform': [30, 0, 341385, 0, -30, 8807715],\n",
      "            'data_type': {'max': 255,\n",
      "                          'min': 0,\n",
      "                          'precision': 'int',\n",
      "                          'type': 'PixelType'},\n",
      "            'dimensions': [9161, 9161],\n",
      "            'id': 'sr_aerosol'},\n",
      "           {'crs': 'EPSG:32628',\n",
      "            'crs_transform': [30, 0, 341385, 0, -30, 8807715],\n",
      "            'data_type': {'max': 65535,\n",
      "                          'min': 0,\n",
      "                          'precision': 'int',\n",
      "                          'type': 'PixelType'},\n",
      "            'dimensions': [9161, 9161],\n",
      "            'id': 'pixel_qa'},\n",
      "           {'crs': 'EPSG:32628',\n",
      "            'crs_transform': [30, 0, 341385, 0, -30, 8807715],\n",
      "            'data_type': {'max': 65535,\n",
      "                          'min': 0,\n",
      "                          'precision': 'int',\n",
      "                          'type': 'PixelType'},\n",
      "            'dimensions': [9161, 9161],\n",
      "            'id': 'radsat_qa'}],\n",
      " 'id': 'LANDSAT/LC08/C01/T1_SR/LC08_001004_20180807',\n",
      " 'properties': {'CLOUD_COVER': 0.07,\n",
      "                'CLOUD_COVER_LAND': 0,\n",
      "                'EARTH_SUN_DISTANCE': 1.014138,\n",
      "                'ESPA_VERSION': '2_23_0_1a',\n",
      "                'GEOMETRIC_RMSE_MODEL': 7.453,\n",
      "                'GEOMETRIC_RMSE_MODEL_X': 5.24,\n",
      "                'GEOMETRIC_RMSE_MODEL_Y': 5.3,\n",
      "                'IMAGE_QUALITY_OLI': 9,\n",
      "                'IMAGE_QUALITY_TIRS': 9,\n",
      "                'LANDSAT_ID': 'LC08_L1TP_001004_20180807_20180815_01_T1',\n",
      "                'LEVEL1_PRODUCTION_DATE': 1534304141000,\n",
      "                'PIXEL_QA_VERSION': 'generate_pixel_qa_1.6.0',\n",
      "                'SATELLITE': 'LANDSAT_8',\n",
      "                'SENSING_TIME': '2018-08-07T14:07:44.9036280Z',\n",
      "                'SOLAR_AZIMUTH_ANGLE': -164.147568,\n",
      "                'SOLAR_ZENITH_ANGLE': 62.196999,\n",
      "                'SR_APP_VERSION': 'LaSRC_1.3.0',\n",
      "                'WRS_PATH': 1,\n",
      "                'WRS_ROW': 4,\n",
      "                'system:asset_size': 607570856,\n",
      "                'system:footprint': {'coordinates': [[...],\n",
      "                                                     [...],\n",
      "                                                     [...],\n",
      "                                                     [...],\n",
      "                                                     [...],\n",
      "                                                     [...],\n",
      "                                                     [...],\n",
      "                                                     [...],\n",
      "                                                     [...],\n",
      "                                                     [...],\n",
      "                                                     [...],\n",
      "                                                     [...],\n",
      "                                                     [...],\n",
      "                                                     [...],\n",
      "                                                     [...],\n",
      "                                                     [...],\n",
      "                                                     [...],\n",
      "                                                     [...],\n",
      "                                                     [...],\n",
      "                                                     [...],\n",
      "                                                     [...]],\n",
      "                                     'type': 'LinearRing'},\n",
      "                'system:index': 'LC08_001004_20180807',\n",
      "                'system:time_end': 1533650864900,\n",
      "                'system:time_start': 1533650864900},\n",
      " 'type': 'Image',\n",
      " 'version': 1534665769954733}\n"
     ]
    },
    {
     "data": {
      "text/plain": [
       "['B1',\n",
       " 'B2',\n",
       " 'B3',\n",
       " 'B4',\n",
       " 'B5',\n",
       " 'B6',\n",
       " 'B7',\n",
       " 'B10',\n",
       " 'B11',\n",
       " 'sr_aerosol',\n",
       " 'pixel_qa',\n",
       " 'radsat_qa']"
      ]
     },
     "execution_count": 14,
     "metadata": {},
     "output_type": "execute_result"
    }
   ],
   "source": [
    "sample_image = ee.Image(l8sr.first())\n",
    "pp.pprint(sample_image.getInfo())\n",
    "band_names_original = sample_image.bandNames()\n",
    "band_names_original.getInfo()"
   ]
  },
  {
   "cell_type": "code",
   "execution_count": 63,
   "metadata": {},
   "outputs": [],
   "source": [
    "def get_tile_layer_url(ee_image_object):\n",
    "    \"\"\"\n",
    "    Returns a tile layer url from the earthengine server\n",
    "    \"\"\"\n",
    "    map_id = ee.Image(ee_image_object).getMapId()\n",
    "    tile_url_template = 'https://earthengine.googleapis.com/map/{mapid}/{{z}}/{{x}}/{{y}}?token={token}'\n",
    "    return tile_url_template.format(**map_id)"
   ]
  },
  {
   "cell_type": "code",
   "execution_count": 77,
   "metadata": {},
   "outputs": [
    {
     "data": {
      "application/vnd.jupyter.widget-view+json": {
       "model_id": "e2e848d685c7443384dcfbe01f947c90",
       "version_major": 2,
       "version_minor": 0
      },
      "text/plain": [
       "Map(center=[37.4112, -122.0634], controls=(ZoomControl(options=['position', 'zoom_in_text', 'zoom_in_title', '…"
      ]
     },
     "execution_count": 77,
     "metadata": {},
     "output_type": "execute_result"
    }
   ],
   "source": [
    "# create a slider widget to add the Landsat 8 satellite imagery\n",
    "map1 = ipyleaflet.Map(\n",
    "    center=(37.4112, -122.0634),\n",
    "    zoom=12,\n",
    "    layout={'height': '500px'},\n",
    ")\n",
    "\n",
    "l8sr_false_color = get_tile_layer_url(l8sr.median().visualize(min=100, max=3500, gamma=1.5, bands=['B4', 'B3', 'B2']))\n",
    "l8sr_true_color = get_tile_layer_url(l8sr.median().visualize(min=100, max=3500, gamma=1.5, bands=['B5', 'B3', 'B2']))\n",
    "left = ipyleaflet.TileLayer(url=l8sr_false_color)\n",
    "right = ipyleaflet.TileLayer(url=l8sr_true_color)\n",
    "map1.add_layer(right)\n",
    "map1.add_layer(left)\n",
    "control = ipyleaflet.SplitMapControl(left_layer=left, right_layer=right)\n",
    "map1.add_control(control)\n",
    "map1"
   ]
  },
  {
   "cell_type": "code",
   "execution_count": 78,
   "metadata": {},
   "outputs": [
    {
     "data": {
      "text/plain": [
       "(TileLayer(attribution='&copy; <a href=\"https://www.openstreetmap.org/copyright\">OpenStreetMap</a> contributors', base=True, max_zoom=19, min_zoom=1, name='OpenStreetMap.Mapnik', options=['attribution', 'bounds', 'detect_retina', 'max_native_zoom', 'max_zoom', 'min_native_zoom', 'min_zoom', 'no_wrap', 'tile_size', 'tms', 'zoom_offset'], url='https://tile.openstreetmap.org/{z}/{x}/{y}.png'),\n",
       " TileLayer(options=['attribution', 'bounds', 'detect_retina', 'max_native_zoom', 'max_zoom', 'min_native_zoom', 'min_zoom', 'no_wrap', 'tile_size', 'tms', 'zoom_offset'], url='https://earthengine.googleapis.com/map/projects/earthengine-legacy/maps/d659877987fe7e63701ab10eb305c81e-9406a39a6124094823bd4a1aea2226af/{z}/{x}/{y}?token='),\n",
       " TileLayer(options=['attribution', 'bounds', 'detect_retina', 'max_native_zoom', 'max_zoom', 'min_native_zoom', 'min_zoom', 'no_wrap', 'tile_size', 'tms', 'zoom_offset'], url='https://earthengine.googleapis.com/map/projects/earthengine-legacy/maps/8cff9ac667f68338ae01810918cf710e-ad948c263fe85fdcce71a6b1b2cf3a3e/{z}/{x}/{y}?token='))"
      ]
     },
     "execution_count": 78,
     "metadata": {},
     "output_type": "execute_result"
    }
   ],
   "source": [
    "map1.layers"
   ]
  },
  {
   "attachments": {},
   "cell_type": "markdown",
   "metadata": {},
   "source": [
    "#### Generating an Index"
   ]
  },
  {
   "cell_type": "code",
   "execution_count": 65,
   "metadata": {},
   "outputs": [],
   "source": [
    "# NDVI\n",
    "\n",
    "img = l8sr.median()\n",
    "red = img.select('B4').rename('red')\n",
    "nir = img.select('B5').rename('nir')\n",
    "\n",
    "# ndvi = (nir.subtract(red).divide(nir.add(red))).rename('ndvi')\n",
    "ndvi = img.normalizedDifference(['B5', 'B4']).rename('ndvi')"
   ]
  },
  {
   "cell_type": "code",
   "execution_count": 67,
   "metadata": {},
   "outputs": [
    {
     "data": {
      "application/vnd.jupyter.widget-view+json": {
       "model_id": "a19e070e3488433196606356a3c53fce",
       "version_major": 2,
       "version_minor": 0
      },
      "text/plain": [
       "Map(center=[37.4112, -122.0634], controls=(ZoomControl(options=['position', 'zoom_in_text', 'zoom_in_title', '…"
      ]
     },
     "execution_count": 67,
     "metadata": {},
     "output_type": "execute_result"
    }
   ],
   "source": [
    "map2 = ipyleaflet.Map(\n",
    "    center=(37.4112, -122.0634),\n",
    "    zoom=12,\n",
    "    layout={'height': '500px'},\n",
    ")\n",
    "\n",
    "ndvi_tile_url = get_tile_layer_url(ndvi.visualize(min=-0.2, max=0.6, palette='grey,yellow,green'))\n",
    "layer = ipyleaflet.TileLayer(url=ndvi_tile_url)\n",
    "map2.add_layer(ndvi)\n",
    "map2"
   ]
  },
  {
   "cell_type": "code",
   "execution_count": 71,
   "metadata": {},
   "outputs": [
    {
     "ename": "AttributeError",
     "evalue": "type object 'Map' has no attribute 'centerObject'",
     "output_type": "error",
     "traceback": [
      "\u001b[0;31m---------------------------------------------------------------------------\u001b[0m",
      "\u001b[0;31mAttributeError\u001b[0m                            Traceback (most recent call last)",
      "Cell \u001b[0;32mIn[71], line 1\u001b[0m\n\u001b[0;32m----> 1\u001b[0m ipyleaflet\u001b[39m.\u001b[39;49mMap\u001b[39m.\u001b[39;49mcenterObject(layer)\n",
      "\u001b[0;31mAttributeError\u001b[0m: type object 'Map' has no attribute 'centerObject'"
     ]
    }
   ],
   "source": []
  },
  {
   "cell_type": "code",
   "execution_count": null,
   "metadata": {},
   "outputs": [],
   "source": []
  }
 ],
 "metadata": {
  "kernelspec": {
   "display_name": "Python 3.8.15 ('geo')",
   "language": "python",
   "name": "python3"
  },
  "language_info": {
   "codemirror_mode": {
    "name": "ipython",
    "version": 3
   },
   "file_extension": ".py",
   "mimetype": "text/x-python",
   "name": "python",
   "nbconvert_exporter": "python",
   "pygments_lexer": "ipython3",
   "version": "3.8.15"
  },
  "orig_nbformat": 4,
  "vscode": {
   "interpreter": {
    "hash": "6b01b88da9d9a782bb2c94299ffd0c1c1f72e89a1a63f0c3c03e3b62308937aa"
   }
  }
 },
 "nbformat": 4,
 "nbformat_minor": 2
}
