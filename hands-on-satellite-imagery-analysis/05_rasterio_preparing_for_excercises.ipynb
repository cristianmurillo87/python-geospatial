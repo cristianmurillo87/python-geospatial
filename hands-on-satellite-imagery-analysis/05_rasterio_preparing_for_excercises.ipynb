{
 "cells": [
  {
   "attachments": {},
   "cell_type": "markdown",
   "metadata": {},
   "source": [
    "### Getting all setup"
   ]
  },
  {
   "cell_type": "code",
   "execution_count": null,
   "metadata": {
    "vscode": {
     "languageId": "bat"
    }
   },
   "outputs": [],
   "source": [
    "!pip install ipyleaflet\n",
    "!pip install ipywidgets\n",
    "!pip install ipyvolume\n",
    "!pip install altair\n",
    "!pip install vega_datasets\n",
    "!pip install bqplot\n",
    "!pip install nbdime\n",
    "!pip install palettable\n",
    "!pip install earthengine-api\n",
    "!pip install folium"
   ]
  },
  {
   "cell_type": "code",
   "execution_count": 2,
   "metadata": {},
   "outputs": [
    {
     "name": "stderr",
     "output_type": "stream",
     "text": [
      "Building jupyterlab assets (production, minimized)\n",
      "Building jupyterlab assets (production, minimized)\n",
      "Installing /Users/cristianmurillo/miniconda3/envs/geo/lib/python3.8/site-packages/ipyleaflet/nbextension -> jupyter-leaflet\n",
      "- Validating: \u001b[32mOK\u001b[0m\n",
      "\n",
      "    To initialize this nbextension in the browser every time the notebook (or other app) loads:\n",
      "    \n",
      "          jupyter nbextension enable ipyleaflet --py --sys-prefix\n",
      "    \n",
      "Enabling notebook extension jupyter-leaflet/extension...\n",
      "      - Validating: \u001b[32mOK\u001b[0m\n",
      "Building jupyterlab assets (production, minimized)\n",
      "Building jupyterlab assets (production, minimized)\n",
      "Enabling notebook extension jupyter-js-widgets/extension...\n",
      "      - Validating: \u001b[32mOK\u001b[0m\n",
      "Building jupyterlab assets (production, minimized)\n",
      "Enabling notebook extension jupyter-js-widgets/extension...\n",
      "      - Validating: \u001b[32mOK\u001b[0m\n",
      "Building jupyterlab assets (production, minimized)\n",
      "Installing /Users/cristianmurillo/miniconda3/envs/geo/share/jupyter/nbextensions/bqplot/ -> bqplot\n",
      "- Validating: \u001b[32mOK\u001b[0m\n",
      "\n",
      "    To initialize this nbextension in the browser every time the notebook (or other app) loads:\n",
      "    \n",
      "          jupyter nbextension enable bqplot --py --sys-prefix\n",
      "    \n",
      "Enabling notebook extension bqplot/extension...\n",
      "      - Validating: \u001b[32mOK\u001b[0m\n"
     ]
    },
    {
     "name": "stdout",
     "output_type": "stream",
     "text": []
    }
   ],
   "source": [
    "%%bash\n",
    "jupyter labextension install jupyter-leaflet\n",
    "jupyter labextension install @jupyter-widgets/jupyterlab-manager\n",
    "jupyter nbextension install --py --symlink --sys-prefix ipyleaflet\n",
    "jupyter nbextension enable --py --sys-prefix ipyleaflet\n",
    "jupyter labextension install js\n",
    "jupyter labextension install ipyvolume\n",
    "jupyter nbextension enable --py --sys-prefix widgetsnbextension\n",
    "jupyter labextension install @jupyter-widgets/jupyterlab-manager\n",
    "jupyter nbextension enable --py widgetsnbextension --sys-prefix\n",
    "jupyter labextension install bqplot\n",
    "jupyter nbextension install bqplot --py --symlink --sys-prefix\n",
    "jupyter nbextension enable --py --sys-prefix bqplot\n"
   ]
  },
  {
   "attachments": {},
   "cell_type": "markdown",
   "metadata": {},
   "source": [
    "### Authenticate Earth Engine and Get Setup"
   ]
  },
  {
   "cell_type": "code",
   "execution_count": 2,
   "metadata": {},
   "outputs": [],
   "source": [
    "!earthengine authenticate --quiet"
   ]
  },
  {
   "cell_type": "code",
   "execution_count": null,
   "metadata": {},
   "outputs": [],
   "source": []
  }
 ],
 "metadata": {
  "kernelspec": {
   "display_name": "Python 3.8.15 ('geo')",
   "language": "python",
   "name": "python3"
  },
  "language_info": {
   "codemirror_mode": {
    "name": "ipython",
    "version": 3
   },
   "file_extension": ".py",
   "mimetype": "text/x-python",
   "name": "python",
   "nbconvert_exporter": "python",
   "pygments_lexer": "ipython3",
   "version": "3.8.15"
  },
  "orig_nbformat": 4,
  "vscode": {
   "interpreter": {
    "hash": "6b01b88da9d9a782bb2c94299ffd0c1c1f72e89a1a63f0c3c03e3b62308937aa"
   }
  }
 },
 "nbformat": 4,
 "nbformat_minor": 2
}
