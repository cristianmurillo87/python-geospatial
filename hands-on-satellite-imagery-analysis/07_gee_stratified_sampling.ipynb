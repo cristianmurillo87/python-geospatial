{
 "cells": [
  {
   "attachments": {},
   "cell_type": "markdown",
   "metadata": {},
   "source": [
    "### Stratified sampling"
   ]
  },
  {
   "cell_type": "code",
   "execution_count": 1,
   "metadata": {},
   "outputs": [],
   "source": [
    "import bqplot\n",
    "import datetime\n",
    "import dateutil.parser\n",
    "import ee\n",
    "import ipywidgets\n",
    "import ipyleaflet\n",
    "import IPython.display\n",
    "import numpy as np\n",
    "import pprint\n",
    "import pandas as pd\n",
    "import traitlets\n",
    "from humanize import naturalsize as size\n",
    "\n",
    "pp = pprint.PrettyPrinter(depth=4)\n",
    "ee.Initialize()\n"
   ]
  },
  {
   "cell_type": "code",
   "execution_count": 8,
   "metadata": {},
   "outputs": [
    {
     "name": "stdout",
     "output_type": "stream",
     "text": [
      "Total number of LS-8 assets with filters: 1\n"
     ]
    }
   ],
   "source": [
    "l8sr = ee.ImageCollection('LANDSAT/LC08/C01/T1_SR')\\\n",
    "    .filterDate('2018-08-01', '2018-12-01')\n",
    "\n",
    "global_water = (ee.ImageCollection('JRC/GSW1_0/YearlyHistory').filterDate('2015-01-01', '2018-01-01'))\n",
    "\n",
    "# select a single grid for the analysis\n",
    "grid = ee.FeatureCollection('users/samapriya/vector/la-subset').filterMetadata('Grids', 'equals', 'Grid_1')\n",
    "\n",
    "print(f'Total number of LS-8 assets with filters: {global_water.size().getInfo()}')"
   ]
  },
  {
   "cell_type": "code",
   "execution_count": 9,
   "metadata": {},
   "outputs": [
    {
     "name": "stdout",
     "output_type": "stream",
     "text": [
      "{'bands': [{'crs': 'EPSG:4326',\n",
      "            'crs_transform': [0.00026949458523585647,\n",
      "                              0,\n",
      "                              -180.00001488697754,\n",
      "                              0,\n",
      "                              -0.00026949458523585647,\n",
      "                              84.00011474509029],\n",
      "            'data_type': {'max': 255,\n",
      "                          'min': 0,\n",
      "                          'precision': 'int',\n",
      "                          'type': 'PixelType'},\n",
      "            'id': 'waterClass'}],\n",
      " 'id': 'JRC/GSW1_0/YearlyHistory/31',\n",
      " 'properties': {'system:footprint': {'coordinates': [[...]],\n",
      "                                     'geodesic': False,\n",
      "                                     'type': 'Polygon'},\n",
      "                'system:index': '31',\n",
      "                'system:time_start': 1420070400000,\n",
      "                'year': 2015},\n",
      " 'type': 'Image',\n",
      " 'version': 1655309684065679}\n"
     ]
    },
    {
     "data": {
      "text/plain": [
       "['waterClass']"
      ]
     },
     "execution_count": 9,
     "metadata": {},
     "output_type": "execute_result"
    }
   ],
   "source": [
    "pp.pprint(global_water.first().getInfo())\n",
    "band_names_original = global_water.first().bandNames()\n",
    "band_names_original.getInfo()"
   ]
  },
  {
   "cell_type": "code",
   "execution_count": 10,
   "metadata": {},
   "outputs": [],
   "source": [
    "def get_tile_layer_url(ee_image_object):\n",
    "    \"\"\"\n",
    "    Returns a tile layer url from the earthengine server\n",
    "    \"\"\"\n",
    "    map_id = ee.Image(ee_image_object).getMapId()\n",
    "    tile_url_template = 'https://earthengine.googleapis.com/map/{mapid}/{{z}}/{{x}}/{{y}}?token={token}'\n",
    "    return tile_url_template.format(**map_id)"
   ]
  },
  {
   "cell_type": "code",
   "execution_count": 13,
   "metadata": {},
   "outputs": [
    {
     "data": {
      "application/vnd.jupyter.widget-view+json": {
       "model_id": "b01b9cdfb4e74193a026c24b364a44e8",
       "version_major": 2,
       "version_minor": 0
      },
      "text/plain": [
       "Map(center=[29.2963, -90.3446], controls=(ZoomControl(options=['position', 'zoom_in_text', 'zoom_in_title', 'z…"
      ]
     },
     "execution_count": 13,
     "metadata": {},
     "output_type": "execute_result"
    }
   ],
   "source": [
    "map1 = ipyleaflet.Map(\n",
    "    center=(29.2963,-90.3446),\n",
    "    zoom=12,\n",
    "    layout={'height': '500px'},\n",
    ")\n",
    "\n",
    "global_nw = global_water.median().updateMask(global_water.median().eq(0))\n",
    "jrc_tile_url = get_tile_layer_url(global_water.median().visualize(min=0, max=3, bands=['waterClass'], palette='grey,brown,FFFFFF,blue'))\n",
    "l8sr_tile_color = get_tile_layer_url(l8sr.median().visualize(min=100, max=3500, gamma=1.5, bands=['B5', 'B3', 'B2']))\n",
    "left = ipyleaflet.TileLayer(url=jrc_tile_url, show_loading=True)\n",
    "right = ipyleaflet.TileLayer(url=l8sr_tile_color, show_loading=True)\n",
    "control = ipyleaflet.SplitMapControl(left_layer=left, right_layer=right)\n",
    "map1.add_control(control)\n",
    "map1"
   ]
  },
  {
   "cell_type": "code",
   "execution_count": 12,
   "metadata": {},
   "outputs": [
    {
     "data": {
      "text/plain": [
       "(TileLayer(attribution='&copy; <a href=\"https://www.openstreetmap.org/copyright\">OpenStreetMap</a> contributors', base=True, max_zoom=19, min_zoom=1, name='OpenStreetMap.Mapnik', options=['attribution', 'bounds', 'detect_retina', 'max_native_zoom', 'max_zoom', 'min_native_zoom', 'min_zoom', 'no_wrap', 'tile_size', 'tms', 'zoom_offset'], url='https://tile.openstreetmap.org/{z}/{x}/{y}.png'),)"
      ]
     },
     "execution_count": 12,
     "metadata": {},
     "output_type": "execute_result"
    }
   ],
   "source": [
    "map1.layers"
   ]
  },
  {
   "cell_type": "code",
   "execution_count": null,
   "metadata": {},
   "outputs": [],
   "source": []
  }
 ],
 "metadata": {
  "kernelspec": {
   "display_name": "Python 3.8.15 ('geo')",
   "language": "python",
   "name": "python3"
  },
  "language_info": {
   "codemirror_mode": {
    "name": "ipython",
    "version": 3
   },
   "file_extension": ".py",
   "mimetype": "text/x-python",
   "name": "python",
   "nbconvert_exporter": "python",
   "pygments_lexer": "ipython3",
   "version": "3.8.15"
  },
  "orig_nbformat": 4,
  "vscode": {
   "interpreter": {
    "hash": "6b01b88da9d9a782bb2c94299ffd0c1c1f72e89a1a63f0c3c03e3b62308937aa"
   }
  }
 },
 "nbformat": 4,
 "nbformat_minor": 2
}
