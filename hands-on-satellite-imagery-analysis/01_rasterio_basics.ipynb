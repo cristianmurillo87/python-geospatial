{
 "cells": [
  {
   "attachments": {},
   "cell_type": "markdown",
   "metadata": {},
   "source": [
    "### Reading Satellite Data with Rasterio"
   ]
  },
  {
   "cell_type": "code",
   "execution_count": 33,
   "metadata": {},
   "outputs": [],
   "source": [
    "import os\n",
    "import rasterio"
   ]
  },
  {
   "cell_type": "code",
   "execution_count": 2,
   "metadata": {},
   "outputs": [
    {
     "name": "stdout",
     "output_type": "stream",
     "text": [
      "<open DatasetReader name='data/20190321_174348_0f1a_3B_AnalyticMS.tif' mode='r'>\n"
     ]
    }
   ],
   "source": [
    "image_file = 'data/20190321_174348_0f1a_3B_AnalyticMS.tif'\n",
    "satdat = rasterio.open(image_file)\n",
    "print(satdat)"
   ]
  },
  {
   "cell_type": "code",
   "execution_count": 5,
   "metadata": {},
   "outputs": [
    {
     "name": "stdout",
     "output_type": "stream",
     "text": [
      "raster name: data/20190321_174348_0f1a_3B_AnalyticMS.tif\n",
      "number of bands: 4\n",
      "band indexes: (1, 2, 3, 4)\n"
     ]
    }
   ],
   "source": [
    "print(f'raster name: {satdat.name}')\n",
    "print(f'number of bands: {satdat.count}')\n",
    "print(f'band indexes: {satdat.indexes}') # indexes in rasterio are 1-based"
   ]
  },
  {
   "cell_type": "code",
   "execution_count": 6,
   "metadata": {},
   "outputs": [
    {
     "name": "stdout",
     "output_type": "stream",
     "text": [
      "uint16\n"
     ]
    }
   ],
   "source": [
    "# bands in rasterio are organized as b, g, r instead of r, g, b\n",
    "blue, green, red, nir = satdat.read()\n",
    "print(blue.dtype)"
   ]
  },
  {
   "cell_type": "code",
   "execution_count": 7,
   "metadata": {},
   "outputs": [
    {
     "name": "stdout",
     "output_type": "stream",
     "text": [
      "width(px): 4213\n",
      "height(px):8341\n"
     ]
    }
   ],
   "source": [
    "width, height = blue.shape\n",
    "print(f'width(px): {width}\\nheight(px):{height}')"
   ]
  },
  {
   "attachments": {},
   "cell_type": "markdown",
   "metadata": {},
   "source": [
    "### Extract metadata information from a satellite image"
   ]
  },
  {
   "cell_type": "code",
   "execution_count": 8,
   "metadata": {},
   "outputs": [],
   "source": [
    "img = rasterio.open('data/20160831_180302_0e26_3B_Visual.tif')"
   ]
  },
  {
   "cell_type": "code",
   "execution_count": 9,
   "metadata": {},
   "outputs": [
    {
     "name": "stdout",
     "output_type": "stream",
     "text": [
      "BoundingBox(left=623577.0, bottom=4199985.0, right=651732.0, top=4214037.0)\n"
     ]
    }
   ],
   "source": [
    "print(img.bounds)"
   ]
  },
  {
   "cell_type": "code",
   "execution_count": 12,
   "metadata": {},
   "outputs": [
    {
     "name": "stdout",
     "output_type": "stream",
     "text": [
      "width: 28155.0, height: 14052.0\n",
      "rows: 4684, columns: 9385\n"
     ]
    }
   ],
   "source": [
    "# Get the image dimensions in map units (e.g. meters)\n",
    "bounds = img.bounds\n",
    "width_in_projected_units = bounds.right - bounds.left\n",
    "height_in_projected_units = bounds.top - bounds.bottom\n",
    "print(f'width: {width_in_projected_units}, height: {height_in_projected_units}')\n",
    "print(f'rows: {img.height}, columns: {img.width}')"
   ]
  },
  {
   "cell_type": "code",
   "execution_count": 13,
   "metadata": {},
   "outputs": [
    {
     "name": "stdout",
     "output_type": "stream",
     "text": [
      "pixel resolution\n",
      "X: 3.0, Y: 3.0\n"
     ]
    }
   ],
   "source": [
    "pixel_size_x = width_in_projected_units / img.width\n",
    "pixel_size_y = height_in_projected_units / img.height\n",
    "print(f'pixel resolution\\nX: {pixel_size_x}, Y: {pixel_size_y}')"
   ]
  },
  {
   "cell_type": "code",
   "execution_count": 15,
   "metadata": {},
   "outputs": [
    {
     "data": {
      "text/plain": [
       "CRS.from_epsg(32610)"
      ]
     },
     "execution_count": 15,
     "metadata": {},
     "output_type": "execute_result"
    }
   ],
   "source": [
    "# Coordinate Reference System\n",
    "img.crs"
   ]
  },
  {
   "cell_type": "code",
   "execution_count": 18,
   "metadata": {},
   "outputs": [
    {
     "data": {
      "text/plain": [
       "Affine(3.0, 0.0, 623577.0,\n",
       "       0.0, -3.0, 4214037.0)"
      ]
     },
     "execution_count": 18,
     "metadata": {},
     "output_type": "execute_result"
    }
   ],
   "source": [
    "img.transform"
   ]
  },
  {
   "attachments": {},
   "cell_type": "markdown",
   "metadata": {},
   "source": [
    "##### Convering pixel coordinates to world coordinates"
   ]
  },
  {
   "cell_type": "code",
   "execution_count": 17,
   "metadata": {},
   "outputs": [
    {
     "name": "stdout",
     "output_type": "stream",
     "text": [
      "top left coordinate: (623577.0, 4214037.0)\n",
      "bottom right coordinate: (637626.0, 4185885.0)\n"
     ]
    }
   ],
   "source": [
    "# upper left pixel\n",
    "row_min = 0\n",
    "col_min = 0\n",
    "\n",
    "# bottom right pixel\n",
    "row_max = img.height - 1\n",
    "col_max = img.width - 1\n",
    "\n",
    "# transform the coordinates using the dataset's affine transform\n",
    "top_left = img.transform * (row_min, col_min)\n",
    "bottom_right = img.transform * (row_max, col_max)\n",
    "\n",
    "print(f'top left coordinate: {top_left}')\n",
    "print(f'bottom right coordinate: {bottom_right}')"
   ]
  },
  {
   "cell_type": "code",
   "execution_count": 27,
   "metadata": {},
   "outputs": [
    {
     "data": {
      "text/plain": [
       "{'driver': 'GTiff', 'dtype': 'uint8', 'nodata': None, 'width': 9385, 'height': 4684, 'count': 4, 'crs': CRS.from_epsg(32610), 'transform': Affine(3.0, 0.0, 623577.0,\n",
       "       0.0, -3.0, 4214037.0), 'blockxsize': 256, 'blockysize': 256, 'tiled': True, 'compress': 'lzw', 'interleave': 'pixel'}"
      ]
     },
     "execution_count": 27,
     "metadata": {},
     "output_type": "execute_result"
    }
   ],
   "source": [
    "\n",
    "# All the metadata necessary to create a raster of the same properties\n",
    "img.profile"
   ]
  },
  {
   "cell_type": "code",
   "execution_count": 29,
   "metadata": {},
   "outputs": [
    {
     "data": {
      "text/plain": [
       "'GTiff'"
      ]
     },
     "execution_count": 29,
     "metadata": {},
     "output_type": "execute_result"
    }
   ],
   "source": [
    "# img.profile.data returns a dictionary of the metadata\n",
    "img.profile.data.get('driver')"
   ]
  },
  {
   "attachments": {},
   "cell_type": "markdown",
   "metadata": {},
   "source": [
    "### Copying a raster dataset"
   ]
  },
  {
   "cell_type": "code",
   "execution_count": 32,
   "metadata": {},
   "outputs": [],
   "source": [
    "# read all bands from the source image as a numpy array\n",
    "data = img.read()\n",
    "profile = img.profile\n",
    "# update profile information (JPEG will compress the data)\n",
    "profile['compress'] = 'JPEG'\n",
    "# write the data into a new raster file\n",
    "with rasterio.open('output/compressed_example.tif', 'w', **profile) as ds:\n",
    "    ds.write(data)"
   ]
  },
  {
   "cell_type": "code",
   "execution_count": 35,
   "metadata": {},
   "outputs": [],
   "source": [
    "from humanize import naturalsize as sz"
   ]
  },
  {
   "cell_type": "code",
   "execution_count": 37,
   "metadata": {},
   "outputs": [
    {
     "name": "stdout",
     "output_type": "stream",
     "text": [
      "original image: 69.1 MB\n",
      "new image: 13.6 MB\n"
     ]
    }
   ],
   "source": [
    "## get the size of the new raster\n",
    "orig_size = os.path.getsize(img.name)\n",
    "new_size = os.path.getsize('output/compressed_example.tif')\n",
    "print(f'original image: {sz(orig_size)}\\nnew image: {sz(new_size)}')"
   ]
  },
  {
   "cell_type": "code",
   "execution_count": null,
   "metadata": {},
   "outputs": [],
   "source": []
  }
 ],
 "metadata": {
  "kernelspec": {
   "display_name": "Python 3.8.15 ('geo')",
   "language": "python",
   "name": "python3"
  },
  "language_info": {
   "codemirror_mode": {
    "name": "ipython",
    "version": 3
   },
   "file_extension": ".py",
   "mimetype": "text/x-python",
   "name": "python",
   "nbconvert_exporter": "python",
   "pygments_lexer": "ipython3",
   "version": "3.8.15 | packaged by conda-forge | (default, Nov 22 2022, 08:53:40) \n[Clang 14.0.6 ]"
  },
  "orig_nbformat": 4,
  "vscode": {
   "interpreter": {
    "hash": "6b01b88da9d9a782bb2c94299ffd0c1c1f72e89a1a63f0c3c03e3b62308937aa"
   }
  }
 },
 "nbformat": 4,
 "nbformat_minor": 2
}
