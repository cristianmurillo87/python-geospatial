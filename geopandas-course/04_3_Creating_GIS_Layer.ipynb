{
 "cells": [
  {
   "cell_type": "code",
   "execution_count": 1,
   "id": "b35b81c5-932f-40c2-948a-8ca5760dd7ce",
   "metadata": {},
   "outputs": [],
   "source": [
    "import json\n",
    "import numpy as np\n",
    "import pandas as pd\n",
    "import geopandas as gpd\n",
    "from pyproj import CRS\n",
    "import matplotlib.pyplot as plt"
   ]
  },
  {
   "cell_type": "code",
   "execution_count": 2,
   "id": "fa788633-31ca-4526-96e5-184b1781ae72",
   "metadata": {},
   "outputs": [],
   "source": [
    "url = 'http://geo.stat.fi/geoserver/tilastointialueet/wfs?request=GetFeature&typename=tilastointialueet:kunta1000k&outputformat=JSON'\n",
    "geodata = gpd.read_file(url)"
   ]
  },
  {
   "cell_type": "code",
   "execution_count": 3,
   "id": "9a6038e8-9a01-46db-9c73-cbc3da6d759c",
   "metadata": {},
   "outputs": [
    {
     "data": {
      "text/html": [
       "<div>\n",
       "<style scoped>\n",
       "    .dataframe tbody tr th:only-of-type {\n",
       "        vertical-align: middle;\n",
       "    }\n",
       "\n",
       "    .dataframe tbody tr th {\n",
       "        vertical-align: top;\n",
       "    }\n",
       "\n",
       "    .dataframe thead th {\n",
       "        text-align: right;\n",
       "    }\n",
       "</style>\n",
       "<table border=\"1\" class=\"dataframe\">\n",
       "  <thead>\n",
       "    <tr style=\"text-align: right;\">\n",
       "      <th></th>\n",
       "      <th>id</th>\n",
       "      <th>kunta</th>\n",
       "      <th>vuosi</th>\n",
       "      <th>nimi</th>\n",
       "      <th>namn</th>\n",
       "      <th>name</th>\n",
       "      <th>geometry</th>\n",
       "    </tr>\n",
       "  </thead>\n",
       "  <tbody>\n",
       "    <tr>\n",
       "      <th>0</th>\n",
       "      <td>kunta1000k.1</td>\n",
       "      <td>005</td>\n",
       "      <td>2021</td>\n",
       "      <td>Alajärvi</td>\n",
       "      <td>Alajärvi</td>\n",
       "      <td>Alajärvi</td>\n",
       "      <td>POLYGON ((366787.924 7001300.583, 364150.540 7...</td>\n",
       "    </tr>\n",
       "    <tr>\n",
       "      <th>1</th>\n",
       "      <td>kunta1000k.2</td>\n",
       "      <td>009</td>\n",
       "      <td>2021</td>\n",
       "      <td>Alavieska</td>\n",
       "      <td>Alavieska</td>\n",
       "      <td>Alavieska</td>\n",
       "      <td>POLYGON ((382543.364 7120022.976, 380556.177 7...</td>\n",
       "    </tr>\n",
       "    <tr>\n",
       "      <th>2</th>\n",
       "      <td>kunta1000k.3</td>\n",
       "      <td>010</td>\n",
       "      <td>2021</td>\n",
       "      <td>Alavus</td>\n",
       "      <td>Alavo</td>\n",
       "      <td>Alavus</td>\n",
       "      <td>POLYGON ((343298.204 6961570.195, 340572.015 6...</td>\n",
       "    </tr>\n",
       "    <tr>\n",
       "      <th>3</th>\n",
       "      <td>kunta1000k.4</td>\n",
       "      <td>016</td>\n",
       "      <td>2021</td>\n",
       "      <td>Asikkala</td>\n",
       "      <td>Asikkala</td>\n",
       "      <td>Asikkala</td>\n",
       "      <td>POLYGON ((436139.680 6798279.085, 432732.949 6...</td>\n",
       "    </tr>\n",
       "    <tr>\n",
       "      <th>4</th>\n",
       "      <td>kunta1000k.5</td>\n",
       "      <td>018</td>\n",
       "      <td>2021</td>\n",
       "      <td>Askola</td>\n",
       "      <td>Askola</td>\n",
       "      <td>Askola</td>\n",
       "      <td>POLYGON ((426631.036 6720528.076, 425751.505 6...</td>\n",
       "    </tr>\n",
       "  </tbody>\n",
       "</table>\n",
       "</div>"
      ],
      "text/plain": [
       "             id kunta  vuosi       nimi       namn       name  \\\n",
       "0  kunta1000k.1   005   2021   Alajärvi   Alajärvi   Alajärvi   \n",
       "1  kunta1000k.2   009   2021  Alavieska  Alavieska  Alavieska   \n",
       "2  kunta1000k.3   010   2021     Alavus      Alavo     Alavus   \n",
       "3  kunta1000k.4   016   2021   Asikkala   Asikkala   Asikkala   \n",
       "4  kunta1000k.5   018   2021     Askola     Askola     Askola   \n",
       "\n",
       "                                            geometry  \n",
       "0  POLYGON ((366787.924 7001300.583, 364150.540 7...  \n",
       "1  POLYGON ((382543.364 7120022.976, 380556.177 7...  \n",
       "2  POLYGON ((343298.204 6961570.195, 340572.015 6...  \n",
       "3  POLYGON ((436139.680 6798279.085, 432732.949 6...  \n",
       "4  POLYGON ((426631.036 6720528.076, 425751.505 6...  "
      ]
     },
     "execution_count": 3,
     "metadata": {},
     "output_type": "execute_result"
    }
   ],
   "source": [
    "geodata.head()"
   ]
  },
  {
   "cell_type": "code",
   "execution_count": 4,
   "id": "b073425f-f47d-4e8f-ba1d-d94daf2301ec",
   "metadata": {},
   "outputs": [
    {
     "data": {
      "text/plain": [
       "309"
      ]
     },
     "execution_count": 4,
     "metadata": {},
     "output_type": "execute_result"
    }
   ],
   "source": [
    "len(geodata)"
   ]
  },
  {
   "cell_type": "code",
   "execution_count": 5,
   "id": "69ad7d40-aad4-4041-9d48-087bfcc30bbf",
   "metadata": {},
   "outputs": [
    {
     "data": {
      "text/plain": [
       "{'init': 'epsg:3067'}"
      ]
     },
     "execution_count": 5,
     "metadata": {},
     "output_type": "execute_result"
    }
   ],
   "source": [
    "geodata.crs"
   ]
  },
  {
   "cell_type": "code",
   "execution_count": 6,
   "id": "36d01f78-d907-4c7b-b06e-4b217fcb76cc",
   "metadata": {},
   "outputs": [
    {
     "data": {
      "text/html": [
       "<div>\n",
       "<style scoped>\n",
       "    .dataframe tbody tr th:only-of-type {\n",
       "        vertical-align: middle;\n",
       "    }\n",
       "\n",
       "    .dataframe tbody tr th {\n",
       "        vertical-align: top;\n",
       "    }\n",
       "\n",
       "    .dataframe thead th {\n",
       "        text-align: right;\n",
       "    }\n",
       "</style>\n",
       "<table border=\"1\" class=\"dataframe\">\n",
       "  <thead>\n",
       "    <tr style=\"text-align: right;\">\n",
       "      <th></th>\n",
       "      <th>code</th>\n",
       "      <th>name</th>\n",
       "      <th>geometry</th>\n",
       "    </tr>\n",
       "  </thead>\n",
       "  <tbody>\n",
       "    <tr>\n",
       "      <th>0</th>\n",
       "      <td>005</td>\n",
       "      <td>Alajärvi</td>\n",
       "      <td>POLYGON ((366787.924 7001300.583, 364150.540 7...</td>\n",
       "    </tr>\n",
       "    <tr>\n",
       "      <th>1</th>\n",
       "      <td>009</td>\n",
       "      <td>Alavieska</td>\n",
       "      <td>POLYGON ((382543.364 7120022.976, 380556.177 7...</td>\n",
       "    </tr>\n",
       "    <tr>\n",
       "      <th>2</th>\n",
       "      <td>010</td>\n",
       "      <td>Alavus</td>\n",
       "      <td>POLYGON ((343298.204 6961570.195, 340572.015 6...</td>\n",
       "    </tr>\n",
       "    <tr>\n",
       "      <th>3</th>\n",
       "      <td>016</td>\n",
       "      <td>Asikkala</td>\n",
       "      <td>POLYGON ((436139.680 6798279.085, 432732.949 6...</td>\n",
       "    </tr>\n",
       "    <tr>\n",
       "      <th>4</th>\n",
       "      <td>018</td>\n",
       "      <td>Askola</td>\n",
       "      <td>POLYGON ((426631.036 6720528.076, 425751.505 6...</td>\n",
       "    </tr>\n",
       "  </tbody>\n",
       "</table>\n",
       "</div>"
      ],
      "text/plain": [
       "  code       name                                           geometry\n",
       "0  005   Alajärvi  POLYGON ((366787.924 7001300.583, 364150.540 7...\n",
       "1  009  Alavieska  POLYGON ((382543.364 7120022.976, 380556.177 7...\n",
       "2  010     Alavus  POLYGON ((343298.204 6961570.195, 340572.015 6...\n",
       "3  016   Asikkala  POLYGON ((436139.680 6798279.085, 432732.949 6...\n",
       "4  018     Askola  POLYGON ((426631.036 6720528.076, 425751.505 6..."
      ]
     },
     "execution_count": 6,
     "metadata": {},
     "output_type": "execute_result"
    }
   ],
   "source": [
    "geodata.rename(columns={'kunta': 'code'}, inplace=True)\n",
    "geodata = geodata[['code', 'name', 'geometry']]\n",
    "geodata.head()"
   ]
  },
  {
   "cell_type": "code",
   "execution_count": 7,
   "id": "5e69672c-1ced-41d7-8dcb-3f0fccff5edb",
   "metadata": {},
   "outputs": [
    {
     "data": {
      "text/plain": [
       "<AxesSubplot:>"
      ]
     },
     "execution_count": 7,
     "metadata": {},
     "output_type": "execute_result"
    },
    {
     "data": {
      "image/png": "[encoded data removed]",
      "text/plain": [
       "<Figure size 432x288 with 1 Axes>"
      ]
     },
     "metadata": {
      "needs_background": "light"
     },
     "output_type": "display_data"
    }
   ],
   "source": [
    "geodata.plot()"
   ]
  },
  {
   "cell_type": "code",
   "execution_count": 8,
   "id": "319044c3-361f-4dde-8b20-9dd329d9bb47",
   "metadata": {},
   "outputs": [
    {
     "data": {
      "text/plain": [
       "code          object\n",
       "name          object\n",
       "geometry    geometry\n",
       "dtype: object"
      ]
     },
     "execution_count": 8,
     "metadata": {},
     "output_type": "execute_result"
    }
   ],
   "source": [
    "geodata.dtypes"
   ]
  },
  {
   "cell_type": "code",
   "execution_count": 14,
   "id": "9a5b9d6a-867c-424b-96fe-f066ecbbba47",
   "metadata": {},
   "outputs": [
    {
     "data": {
      "text/html": [
       "<div>\n",
       "<style scoped>\n",
       "    .dataframe tbody tr th:only-of-type {\n",
       "        vertical-align: middle;\n",
       "    }\n",
       "\n",
       "    .dataframe tbody tr th {\n",
       "        vertical-align: top;\n",
       "    }\n",
       "\n",
       "    .dataframe thead th {\n",
       "        text-align: right;\n",
       "    }\n",
       "</style>\n",
       "<table border=\"1\" class=\"dataframe\">\n",
       "  <thead>\n",
       "    <tr style=\"text-align: right;\">\n",
       "      <th></th>\n",
       "      <th>kunta-\\nkoodi</th>\n",
       "      <th>kunta</th>\n",
       "      <th>shp:n koodi</th>\n",
       "      <th>sairaanhoitopiiri</th>\n",
       "      <th>erva-alue</th>\n",
       "      <th>kuntien lkm</th>\n",
       "    </tr>\n",
       "  </thead>\n",
       "  <tbody>\n",
       "    <tr>\n",
       "      <th>0</th>\n",
       "      <td>NaN</td>\n",
       "      <td>NaN</td>\n",
       "      <td>NaN</td>\n",
       "      <td>NaN</td>\n",
       "      <td>NaN</td>\n",
       "      <td>NaN</td>\n",
       "    </tr>\n",
       "    <tr>\n",
       "      <th>1</th>\n",
       "      <td>20.0</td>\n",
       "      <td>Akaa</td>\n",
       "      <td>6.0</td>\n",
       "      <td>Pirkanmaa</td>\n",
       "      <td>TAYS</td>\n",
       "      <td>1.0</td>\n",
       "    </tr>\n",
       "    <tr>\n",
       "      <th>2</th>\n",
       "      <td>5.0</td>\n",
       "      <td>Alajärvi</td>\n",
       "      <td>15.0</td>\n",
       "      <td>Etelä-Pohjanmaa</td>\n",
       "      <td>TAYS</td>\n",
       "      <td>2.0</td>\n",
       "    </tr>\n",
       "    <tr>\n",
       "      <th>3</th>\n",
       "      <td>9.0</td>\n",
       "      <td>Alavieska</td>\n",
       "      <td>18.0</td>\n",
       "      <td>Pohjois-Pohjanmaa</td>\n",
       "      <td>OYS</td>\n",
       "      <td>3.0</td>\n",
       "    </tr>\n",
       "    <tr>\n",
       "      <th>4</th>\n",
       "      <td>10.0</td>\n",
       "      <td>Alavus</td>\n",
       "      <td>15.0</td>\n",
       "      <td>Etelä-Pohjanmaa</td>\n",
       "      <td>TAYS</td>\n",
       "      <td>4.0</td>\n",
       "    </tr>\n",
       "    <tr>\n",
       "      <th>5</th>\n",
       "      <td>16.0</td>\n",
       "      <td>Asikkala</td>\n",
       "      <td>7.0</td>\n",
       "      <td>Päijät-Häme</td>\n",
       "      <td>HYKS</td>\n",
       "      <td>5.0</td>\n",
       "    </tr>\n",
       "    <tr>\n",
       "      <th>6</th>\n",
       "      <td>18.0</td>\n",
       "      <td>Askola</td>\n",
       "      <td>25.0</td>\n",
       "      <td>HUS</td>\n",
       "      <td>HYKS</td>\n",
       "      <td>6.0</td>\n",
       "    </tr>\n",
       "    <tr>\n",
       "      <th>7</th>\n",
       "      <td>19.0</td>\n",
       "      <td>Aura</td>\n",
       "      <td>3.0</td>\n",
       "      <td>Varsinais-Suomi</td>\n",
       "      <td>TYKS</td>\n",
       "      <td>7.0</td>\n",
       "    </tr>\n",
       "    <tr>\n",
       "      <th>8</th>\n",
       "      <td>46.0</td>\n",
       "      <td>Enonkoski</td>\n",
       "      <td>11.0</td>\n",
       "      <td>Itä-Savo</td>\n",
       "      <td>KYS</td>\n",
       "      <td>8.0</td>\n",
       "    </tr>\n",
       "    <tr>\n",
       "      <th>9</th>\n",
       "      <td>47.0</td>\n",
       "      <td>Enontekiö</td>\n",
       "      <td>21.0</td>\n",
       "      <td>Lappi</td>\n",
       "      <td>OYS</td>\n",
       "      <td>9.0</td>\n",
       "    </tr>\n",
       "  </tbody>\n",
       "</table>\n",
       "</div>"
      ],
      "text/plain": [
       "   kunta-\\nkoodi      kunta  shp:n koodi  sairaanhoitopiiri erva-alue  \\\n",
       "0            NaN        NaN          NaN                NaN       NaN   \n",
       "1           20.0       Akaa          6.0          Pirkanmaa      TAYS   \n",
       "2            5.0   Alajärvi         15.0    Etelä-Pohjanmaa      TAYS   \n",
       "3            9.0  Alavieska         18.0  Pohjois-Pohjanmaa       OYS   \n",
       "4           10.0     Alavus         15.0    Etelä-Pohjanmaa      TAYS   \n",
       "5           16.0   Asikkala          7.0        Päijät-Häme      HYKS   \n",
       "6           18.0     Askola         25.0                HUS      HYKS   \n",
       "7           19.0       Aura          3.0    Varsinais-Suomi      TYKS   \n",
       "8           46.0  Enonkoski         11.0           Itä-Savo       KYS   \n",
       "9           47.0  Enontekiö         21.0              Lappi       OYS   \n",
       "\n",
       "   kuntien lkm  \n",
       "0          NaN  \n",
       "1          1.0  \n",
       "2          2.0  \n",
       "3          3.0  \n",
       "4          4.0  \n",
       "5          5.0  \n",
       "6          6.0  \n",
       "7          7.0  \n",
       "8          8.0  \n",
       "9          9.0  "
      ]
     },
     "execution_count": 14,
     "metadata": {},
     "output_type": "execute_result"
    }
   ],
   "source": [
    "data = pd.read_excel('L4_data/Shp_jaesenkunnat_2020.xls', sheet_name='kunnat_shp_2020_ aakkosjärj.', header=3)\n",
    "data.head(10)"
   ]
  },
  {
   "cell_type": "code",
   "execution_count": 17,
   "id": "e9c3a785-3d58-4e52-b866-3258c88b896c",
   "metadata": {},
   "outputs": [
    {
     "name": "stdout",
     "output_type": "stream",
     "text": [
      "294\n"
     ]
    },
    {
     "data": {
      "text/html": [
       "<div>\n",
       "<style scoped>\n",
       "    .dataframe tbody tr th:only-of-type {\n",
       "        vertical-align: middle;\n",
       "    }\n",
       "\n",
       "    .dataframe tbody tr th {\n",
       "        vertical-align: top;\n",
       "    }\n",
       "\n",
       "    .dataframe thead th {\n",
       "        text-align: right;\n",
       "    }\n",
       "</style>\n",
       "<table border=\"1\" class=\"dataframe\">\n",
       "  <thead>\n",
       "    <tr style=\"text-align: right;\">\n",
       "      <th></th>\n",
       "      <th>kunta-\\nkoodi</th>\n",
       "      <th>kunta</th>\n",
       "      <th>shp:n koodi</th>\n",
       "      <th>sairaanhoitopiiri</th>\n",
       "      <th>erva-alue</th>\n",
       "      <th>kuntien lkm</th>\n",
       "    </tr>\n",
       "  </thead>\n",
       "  <tbody>\n",
       "    <tr>\n",
       "      <th>1</th>\n",
       "      <td>20.0</td>\n",
       "      <td>Akaa</td>\n",
       "      <td>6.0</td>\n",
       "      <td>Pirkanmaa</td>\n",
       "      <td>TAYS</td>\n",
       "      <td>1.0</td>\n",
       "    </tr>\n",
       "    <tr>\n",
       "      <th>2</th>\n",
       "      <td>5.0</td>\n",
       "      <td>Alajärvi</td>\n",
       "      <td>15.0</td>\n",
       "      <td>Etelä-Pohjanmaa</td>\n",
       "      <td>TAYS</td>\n",
       "      <td>2.0</td>\n",
       "    </tr>\n",
       "    <tr>\n",
       "      <th>3</th>\n",
       "      <td>9.0</td>\n",
       "      <td>Alavieska</td>\n",
       "      <td>18.0</td>\n",
       "      <td>Pohjois-Pohjanmaa</td>\n",
       "      <td>OYS</td>\n",
       "      <td>3.0</td>\n",
       "    </tr>\n",
       "    <tr>\n",
       "      <th>4</th>\n",
       "      <td>10.0</td>\n",
       "      <td>Alavus</td>\n",
       "      <td>15.0</td>\n",
       "      <td>Etelä-Pohjanmaa</td>\n",
       "      <td>TAYS</td>\n",
       "      <td>4.0</td>\n",
       "    </tr>\n",
       "    <tr>\n",
       "      <th>5</th>\n",
       "      <td>16.0</td>\n",
       "      <td>Asikkala</td>\n",
       "      <td>7.0</td>\n",
       "      <td>Päijät-Häme</td>\n",
       "      <td>HYKS</td>\n",
       "      <td>5.0</td>\n",
       "    </tr>\n",
       "  </tbody>\n",
       "</table>\n",
       "</div>"
      ],
      "text/plain": [
       "   kunta-\\nkoodi      kunta  shp:n koodi  sairaanhoitopiiri erva-alue  \\\n",
       "1           20.0       Akaa          6.0          Pirkanmaa      TAYS   \n",
       "2            5.0   Alajärvi         15.0    Etelä-Pohjanmaa      TAYS   \n",
       "3            9.0  Alavieska         18.0  Pohjois-Pohjanmaa       OYS   \n",
       "4           10.0     Alavus         15.0    Etelä-Pohjanmaa      TAYS   \n",
       "5           16.0   Asikkala          7.0        Päijät-Häme      HYKS   \n",
       "\n",
       "   kuntien lkm  \n",
       "1          1.0  \n",
       "2          2.0  \n",
       "3          3.0  \n",
       "4          4.0  \n",
       "5          5.0  "
      ]
     },
     "execution_count": 17,
     "metadata": {},
     "output_type": "execute_result"
    }
   ],
   "source": [
    "data.dropna(inplace=True)\n",
    "print(len(data))\n",
    "data.head()"
   ]
  },
  {
   "cell_type": "code",
   "execution_count": 18,
   "id": "c5958fb2-771a-4231-b5e3-42fff5cfba19",
   "metadata": {},
   "outputs": [],
   "source": [
    "data.rename(columns={'kunta-\\nkoodi': 'code', 'sairaanhoitopiiri': 'healthcareDistrict'}, inplace=True)"
   ]
  },
  {
   "cell_type": "code",
   "execution_count": 19,
   "id": "4605dda5-e3be-4534-8204-3a28addaad14",
   "metadata": {},
   "outputs": [
    {
     "data": {
      "text/html": [
       "<div>\n",
       "<style scoped>\n",
       "    .dataframe tbody tr th:only-of-type {\n",
       "        vertical-align: middle;\n",
       "    }\n",
       "\n",
       "    .dataframe tbody tr th {\n",
       "        vertical-align: top;\n",
       "    }\n",
       "\n",
       "    .dataframe thead th {\n",
       "        text-align: right;\n",
       "    }\n",
       "</style>\n",
       "<table border=\"1\" class=\"dataframe\">\n",
       "  <thead>\n",
       "    <tr style=\"text-align: right;\">\n",
       "      <th></th>\n",
       "      <th>code</th>\n",
       "      <th>healthcareDistrict</th>\n",
       "    </tr>\n",
       "  </thead>\n",
       "  <tbody>\n",
       "    <tr>\n",
       "      <th>1</th>\n",
       "      <td>20.0</td>\n",
       "      <td>Pirkanmaa</td>\n",
       "    </tr>\n",
       "    <tr>\n",
       "      <th>2</th>\n",
       "      <td>5.0</td>\n",
       "      <td>Etelä-Pohjanmaa</td>\n",
       "    </tr>\n",
       "    <tr>\n",
       "      <th>3</th>\n",
       "      <td>9.0</td>\n",
       "      <td>Pohjois-Pohjanmaa</td>\n",
       "    </tr>\n",
       "    <tr>\n",
       "      <th>4</th>\n",
       "      <td>10.0</td>\n",
       "      <td>Etelä-Pohjanmaa</td>\n",
       "    </tr>\n",
       "    <tr>\n",
       "      <th>5</th>\n",
       "      <td>16.0</td>\n",
       "      <td>Päijät-Häme</td>\n",
       "    </tr>\n",
       "    <tr>\n",
       "      <th>6</th>\n",
       "      <td>18.0</td>\n",
       "      <td>HUS</td>\n",
       "    </tr>\n",
       "    <tr>\n",
       "      <th>7</th>\n",
       "      <td>19.0</td>\n",
       "      <td>Varsinais-Suomi</td>\n",
       "    </tr>\n",
       "    <tr>\n",
       "      <th>8</th>\n",
       "      <td>46.0</td>\n",
       "      <td>Itä-Savo</td>\n",
       "    </tr>\n",
       "    <tr>\n",
       "      <th>9</th>\n",
       "      <td>47.0</td>\n",
       "      <td>Lappi</td>\n",
       "    </tr>\n",
       "    <tr>\n",
       "      <th>10</th>\n",
       "      <td>49.0</td>\n",
       "      <td>HUS</td>\n",
       "    </tr>\n",
       "  </tbody>\n",
       "</table>\n",
       "</div>"
      ],
      "text/plain": [
       "    code healthcareDistrict\n",
       "1   20.0          Pirkanmaa\n",
       "2    5.0    Etelä-Pohjanmaa\n",
       "3    9.0  Pohjois-Pohjanmaa\n",
       "4   10.0    Etelä-Pohjanmaa\n",
       "5   16.0        Päijät-Häme\n",
       "6   18.0                HUS\n",
       "7   19.0    Varsinais-Suomi\n",
       "8   46.0           Itä-Savo\n",
       "9   47.0              Lappi\n",
       "10  49.0                HUS"
      ]
     },
     "execution_count": 19,
     "metadata": {},
     "output_type": "execute_result"
    }
   ],
   "source": [
    "data = data[['code', 'healthcareDistrict']]\n",
    "data.head(10)"
   ]
  },
  {
   "cell_type": "code",
   "execution_count": 20,
   "id": "ae473817-f8a3-4072-b1fc-d1e52bf887be",
   "metadata": {},
   "outputs": [
    {
     "data": {
      "text/plain": [
       "code                  float64\n",
       "healthcareDistrict     object\n",
       "dtype: object"
      ]
     },
     "execution_count": 20,
     "metadata": {},
     "output_type": "execute_result"
    }
   ],
   "source": [
    "data.dtypes"
   ]
  },
  {
   "cell_type": "code",
   "execution_count": 24,
   "id": "004c6a3a-7618-4531-be4f-577ba9df30e9",
   "metadata": {},
   "outputs": [
    {
     "data": {
      "text/plain": [
       "'020'"
      ]
     },
     "execution_count": 24,
     "metadata": {},
     "output_type": "execute_result"
    }
   ],
   "source": [
    "number = data.at[1, 'code']\n"
   ]
  },
  {
   "cell_type": "code",
   "execution_count": 23,
   "id": "fa4ac02c-54ff-4774-81de-07e556a449e0",
   "metadata": {},
   "outputs": [
    {
     "name": "stdout",
     "output_type": "stream",
     "text": [
      "020\n"
     ]
    }
   ],
   "source": [
    "print('20'.zfill(3))"
   ]
  },
  {
   "cell_type": "code",
   "execution_count": 25,
   "id": "f5355207-1102-4836-8748-73c1911157cd",
   "metadata": {},
   "outputs": [
    {
     "data": {
      "text/plain": [
       "'020'"
      ]
     },
     "execution_count": 25,
     "metadata": {},
     "output_type": "execute_result"
    }
   ],
   "source": [
    "str(int(number)).zfill(3)"
   ]
  },
  {
   "cell_type": "code",
   "execution_count": 27,
   "id": "6946dc05-4a20-430b-8f7b-fbcaed483a64",
   "metadata": {},
   "outputs": [
    {
     "data": {
      "text/html": [
       "<div>\n",
       "<style scoped>\n",
       "    .dataframe tbody tr th:only-of-type {\n",
       "        vertical-align: middle;\n",
       "    }\n",
       "\n",
       "    .dataframe tbody tr th {\n",
       "        vertical-align: top;\n",
       "    }\n",
       "\n",
       "    .dataframe thead th {\n",
       "        text-align: right;\n",
       "    }\n",
       "</style>\n",
       "<table border=\"1\" class=\"dataframe\">\n",
       "  <thead>\n",
       "    <tr style=\"text-align: right;\">\n",
       "      <th></th>\n",
       "      <th>code</th>\n",
       "      <th>healthcareDistrict</th>\n",
       "    </tr>\n",
       "  </thead>\n",
       "  <tbody>\n",
       "    <tr>\n",
       "      <th>1</th>\n",
       "      <td>020</td>\n",
       "      <td>Pirkanmaa</td>\n",
       "    </tr>\n",
       "    <tr>\n",
       "      <th>2</th>\n",
       "      <td>005</td>\n",
       "      <td>Etelä-Pohjanmaa</td>\n",
       "    </tr>\n",
       "    <tr>\n",
       "      <th>3</th>\n",
       "      <td>009</td>\n",
       "      <td>Pohjois-Pohjanmaa</td>\n",
       "    </tr>\n",
       "    <tr>\n",
       "      <th>4</th>\n",
       "      <td>010</td>\n",
       "      <td>Etelä-Pohjanmaa</td>\n",
       "    </tr>\n",
       "    <tr>\n",
       "      <th>5</th>\n",
       "      <td>016</td>\n",
       "      <td>Päijät-Häme</td>\n",
       "    </tr>\n",
       "  </tbody>\n",
       "</table>\n",
       "</div>"
      ],
      "text/plain": [
       "  code healthcareDistrict\n",
       "1  020          Pirkanmaa\n",
       "2  005    Etelä-Pohjanmaa\n",
       "3  009  Pohjois-Pohjanmaa\n",
       "4  010    Etelä-Pohjanmaa\n",
       "5  016        Päijät-Häme"
      ]
     },
     "execution_count": 27,
     "metadata": {},
     "output_type": "execute_result"
    }
   ],
   "source": [
    "data['code'] = data['code'].astype(int).astype('str')\n",
    "data['code'] = data['code'].str.zfill(3)\n",
    "data.head()"
   ]
  },
  {
   "cell_type": "code",
   "execution_count": 29,
   "id": "581b3cd3-3bf6-4167-b089-ceb46478dd25",
   "metadata": {},
   "outputs": [
    {
     "data": {
      "text/html": [
       "<div>\n",
       "<style scoped>\n",
       "    .dataframe tbody tr th:only-of-type {\n",
       "        vertical-align: middle;\n",
       "    }\n",
       "\n",
       "    .dataframe tbody tr th {\n",
       "        vertical-align: top;\n",
       "    }\n",
       "\n",
       "    .dataframe thead th {\n",
       "        text-align: right;\n",
       "    }\n",
       "</style>\n",
       "<table border=\"1\" class=\"dataframe\">\n",
       "  <thead>\n",
       "    <tr style=\"text-align: right;\">\n",
       "      <th></th>\n",
       "      <th>code</th>\n",
       "      <th>name</th>\n",
       "      <th>geometry</th>\n",
       "      <th>healthcareDistrict</th>\n",
       "    </tr>\n",
       "  </thead>\n",
       "  <tbody>\n",
       "    <tr>\n",
       "      <th>0</th>\n",
       "      <td>005</td>\n",
       "      <td>Alajärvi</td>\n",
       "      <td>POLYGON ((366787.924 7001300.583, 364150.540 7...</td>\n",
       "      <td>Etelä-Pohjanmaa</td>\n",
       "    </tr>\n",
       "    <tr>\n",
       "      <th>1</th>\n",
       "      <td>009</td>\n",
       "      <td>Alavieska</td>\n",
       "      <td>POLYGON ((382543.364 7120022.976, 380556.177 7...</td>\n",
       "      <td>Pohjois-Pohjanmaa</td>\n",
       "    </tr>\n",
       "    <tr>\n",
       "      <th>2</th>\n",
       "      <td>010</td>\n",
       "      <td>Alavus</td>\n",
       "      <td>POLYGON ((343298.204 6961570.195, 340572.015 6...</td>\n",
       "      <td>Etelä-Pohjanmaa</td>\n",
       "    </tr>\n",
       "    <tr>\n",
       "      <th>3</th>\n",
       "      <td>016</td>\n",
       "      <td>Asikkala</td>\n",
       "      <td>POLYGON ((436139.680 6798279.085, 432732.949 6...</td>\n",
       "      <td>Päijät-Häme</td>\n",
       "    </tr>\n",
       "    <tr>\n",
       "      <th>4</th>\n",
       "      <td>018</td>\n",
       "      <td>Askola</td>\n",
       "      <td>POLYGON ((426631.036 6720528.076, 425751.505 6...</td>\n",
       "      <td>HUS</td>\n",
       "    </tr>\n",
       "    <tr>\n",
       "      <th>...</th>\n",
       "      <td>...</td>\n",
       "      <td>...</td>\n",
       "      <td>...</td>\n",
       "      <td>...</td>\n",
       "    </tr>\n",
       "    <tr>\n",
       "      <th>304</th>\n",
       "      <td>977</td>\n",
       "      <td>Ylivieska</td>\n",
       "      <td>POLYGON ((398010.991 7110887.267, 392464.690 7...</td>\n",
       "      <td>Pohjois-Pohjanmaa</td>\n",
       "    </tr>\n",
       "    <tr>\n",
       "      <th>305</th>\n",
       "      <td>980</td>\n",
       "      <td>Ylöjärvi</td>\n",
       "      <td>POLYGON ((313738.511 6896936.100, 311165.511 6...</td>\n",
       "      <td>Pirkanmaa</td>\n",
       "    </tr>\n",
       "    <tr>\n",
       "      <th>306</th>\n",
       "      <td>981</td>\n",
       "      <td>Ypäjä</td>\n",
       "      <td>POLYGON ((297451.456 6756204.328, 291432.640 6...</td>\n",
       "      <td>Kanta-Häme</td>\n",
       "    </tr>\n",
       "    <tr>\n",
       "      <th>307</th>\n",
       "      <td>989</td>\n",
       "      <td>Ähtäri</td>\n",
       "      <td>POLYGON ((348733.187 6959704.551, 347302.684 6...</td>\n",
       "      <td>Etelä-Pohjanmaa</td>\n",
       "    </tr>\n",
       "    <tr>\n",
       "      <th>308</th>\n",
       "      <td>992</td>\n",
       "      <td>Äänekoski</td>\n",
       "      <td>POLYGON ((452626.858 6973610.366, 451491.412 6...</td>\n",
       "      <td>Keski-Suomi</td>\n",
       "    </tr>\n",
       "  </tbody>\n",
       "</table>\n",
       "<p>309 rows × 4 columns</p>\n",
       "</div>"
      ],
      "text/plain": [
       "    code       name                                           geometry  \\\n",
       "0    005   Alajärvi  POLYGON ((366787.924 7001300.583, 364150.540 7...   \n",
       "1    009  Alavieska  POLYGON ((382543.364 7120022.976, 380556.177 7...   \n",
       "2    010     Alavus  POLYGON ((343298.204 6961570.195, 340572.015 6...   \n",
       "3    016   Asikkala  POLYGON ((436139.680 6798279.085, 432732.949 6...   \n",
       "4    018     Askola  POLYGON ((426631.036 6720528.076, 425751.505 6...   \n",
       "..   ...        ...                                                ...   \n",
       "304  977  Ylivieska  POLYGON ((398010.991 7110887.267, 392464.690 7...   \n",
       "305  980   Ylöjärvi  POLYGON ((313738.511 6896936.100, 311165.511 6...   \n",
       "306  981      Ypäjä  POLYGON ((297451.456 6756204.328, 291432.640 6...   \n",
       "307  989     Ähtäri  POLYGON ((348733.187 6959704.551, 347302.684 6...   \n",
       "308  992  Äänekoski  POLYGON ((452626.858 6973610.366, 451491.412 6...   \n",
       "\n",
       "    healthcareDistrict  \n",
       "0      Etelä-Pohjanmaa  \n",
       "1    Pohjois-Pohjanmaa  \n",
       "2      Etelä-Pohjanmaa  \n",
       "3          Päijät-Häme  \n",
       "4                  HUS  \n",
       "..                 ...  \n",
       "304  Pohjois-Pohjanmaa  \n",
       "305          Pirkanmaa  \n",
       "306         Kanta-Häme  \n",
       "307    Etelä-Pohjanmaa  \n",
       "308        Keski-Suomi  \n",
       "\n",
       "[309 rows x 4 columns]"
      ]
     },
     "execution_count": 29,
     "metadata": {},
     "output_type": "execute_result"
    }
   ],
   "source": [
    "geodata = geodata.merge(data, on='code', how='left')\n",
    "geodata"
   ]
  },
  {
   "cell_type": "code",
   "execution_count": 31,
   "id": "3951110f-faca-4185-b948-9643a9c01d3f",
   "metadata": {},
   "outputs": [
    {
     "data": {
      "text/plain": [
       "7          Brändö\n",
       "8          Eckerö\n",
       "15       Finström\n",
       "17          Föglö\n",
       "18           Geta\n",
       "24     Hammarland\n",
       "57         Jomala\n",
       "111      Kumlinge\n",
       "121         Kökar\n",
       "134       Lemland\n",
       "147    Lumparland\n",
       "153     Mariehamn\n",
       "236       Saltvik\n",
       "254      Sottunga\n",
       "256          Sund\n",
       "301         Vårdö\n",
       "Name: name, dtype: object"
      ]
     },
     "execution_count": 31,
     "metadata": {},
     "output_type": "execute_result"
    }
   ],
   "source": [
    "geodata[geodata['healthcareDistrict'].isnull()].name"
   ]
  },
  {
   "cell_type": "code",
   "execution_count": 32,
   "id": "afd5569f-f229-4bda-9739-7302407fae99",
   "metadata": {},
   "outputs": [],
   "source": [
    "geodata.loc[geodata['healthcareDistrict'].isnull(), 'healthcareDistrict'] = 'Ahvenanmaa'"
   ]
  },
  {
   "cell_type": "code",
   "execution_count": 38,
   "id": "87bdda98-f87f-42eb-b769-c86bfa183b34",
   "metadata": {},
   "outputs": [
    {
     "data": {
      "text/html": [
       "<div>\n",
       "<style scoped>\n",
       "    .dataframe tbody tr th:only-of-type {\n",
       "        vertical-align: middle;\n",
       "    }\n",
       "\n",
       "    .dataframe tbody tr th {\n",
       "        vertical-align: top;\n",
       "    }\n",
       "\n",
       "    .dataframe thead th {\n",
       "        text-align: right;\n",
       "    }\n",
       "</style>\n",
       "<table border=\"1\" class=\"dataframe\">\n",
       "  <thead>\n",
       "    <tr style=\"text-align: right;\">\n",
       "      <th></th>\n",
       "      <th>code</th>\n",
       "      <th>name</th>\n",
       "      <th>geometry</th>\n",
       "      <th>healthcareDistrict</th>\n",
       "    </tr>\n",
       "  </thead>\n",
       "  <tbody>\n",
       "    <tr>\n",
       "      <th>0</th>\n",
       "      <td>005</td>\n",
       "      <td>Alajärvi</td>\n",
       "      <td>POLYGON ((366787.924 7001300.583, 364150.540 7...</td>\n",
       "      <td>Etelä-Pohjanmaa</td>\n",
       "    </tr>\n",
       "    <tr>\n",
       "      <th>1</th>\n",
       "      <td>009</td>\n",
       "      <td>Alavieska</td>\n",
       "      <td>POLYGON ((382543.364 7120022.976, 380556.177 7...</td>\n",
       "      <td>Pohjois-Pohjanmaa</td>\n",
       "    </tr>\n",
       "    <tr>\n",
       "      <th>2</th>\n",
       "      <td>010</td>\n",
       "      <td>Alavus</td>\n",
       "      <td>POLYGON ((343298.204 6961570.195, 340572.015 6...</td>\n",
       "      <td>Etelä-Pohjanmaa</td>\n",
       "    </tr>\n",
       "    <tr>\n",
       "      <th>3</th>\n",
       "      <td>016</td>\n",
       "      <td>Asikkala</td>\n",
       "      <td>POLYGON ((436139.680 6798279.085, 432732.949 6...</td>\n",
       "      <td>Päijät-Häme</td>\n",
       "    </tr>\n",
       "    <tr>\n",
       "      <th>4</th>\n",
       "      <td>018</td>\n",
       "      <td>Askola</td>\n",
       "      <td>POLYGON ((426631.036 6720528.076, 425751.505 6...</td>\n",
       "      <td>HUS</td>\n",
       "    </tr>\n",
       "  </tbody>\n",
       "</table>\n",
       "</div>"
      ],
      "text/plain": [
       "  code       name                                           geometry  \\\n",
       "0  005   Alajärvi  POLYGON ((366787.924 7001300.583, 364150.540 7...   \n",
       "1  009  Alavieska  POLYGON ((382543.364 7120022.976, 380556.177 7...   \n",
       "2  010     Alavus  POLYGON ((343298.204 6961570.195, 340572.015 6...   \n",
       "3  016   Asikkala  POLYGON ((436139.680 6798279.085, 432732.949 6...   \n",
       "4  018     Askola  POLYGON ((426631.036 6720528.076, 425751.505 6...   \n",
       "\n",
       "  healthcareDistrict  \n",
       "0    Etelä-Pohjanmaa  \n",
       "1  Pohjois-Pohjanmaa  \n",
       "2    Etelä-Pohjanmaa  \n",
       "3        Päijät-Häme  \n",
       "4                HUS  "
      ]
     },
     "execution_count": 38,
     "metadata": {},
     "output_type": "execute_result"
    }
   ],
   "source": [
    "geodata.head()"
   ]
  },
  {
   "cell_type": "code",
   "execution_count": 40,
   "id": "2e49e0ba-c002-48b6-8011-51e8df086175",
   "metadata": {},
   "outputs": [
    {
     "data": {
      "text/plain": [
       "Pohjois-Pohjanmaa    29\n",
       "Varsinais-Suomi      28\n",
       "HUS                  24\n",
       "Pirkanmaa            23\n",
       "Keski-Suomi          21\n",
       "Pohjois-Savo         18\n",
       "Etelä-Pohjanmaa      18\n",
       "Ahvenanmaa           16\n",
       "Satakunta            16\n",
       "Lappi                15\n",
       "Vaasa                13\n",
       "Pohjois-Karjala      13\n",
       "Päijät-Häme          12\n",
       "Kanta-Häme           11\n",
       "Keski-Pohjanmaa      10\n",
       "Etelä-Savo            9\n",
       "Etelä-Karjala         9\n",
       "Kainuu                8\n",
       "Kymenlaakso           6\n",
       "Länsi-Pohja           6\n",
       "Itä-Savo              4\n",
       "Name: healthcareDistrict, dtype: int64"
      ]
     },
     "execution_count": 40,
     "metadata": {},
     "output_type": "execute_result"
    }
   ],
   "source": [
    "geodata['healthcareDistrict'].value_counts()"
   ]
  },
  {
   "cell_type": "code",
   "execution_count": 41,
   "id": "cff12cc6-68c8-4aad-9082-48523044e62d",
   "metadata": {},
   "outputs": [],
   "source": [
    "districts = geodata.dissolve(by='healthcareDistrict')"
   ]
  },
  {
   "cell_type": "code",
   "execution_count": 42,
   "id": "8f61ebcd-ebd6-4885-84c3-50f3a767f75c",
   "metadata": {},
   "outputs": [
    {
     "data": {
      "text/html": [
       "<div>\n",
       "<style scoped>\n",
       "    .dataframe tbody tr th:only-of-type {\n",
       "        vertical-align: middle;\n",
       "    }\n",
       "\n",
       "    .dataframe tbody tr th {\n",
       "        vertical-align: top;\n",
       "    }\n",
       "\n",
       "    .dataframe thead th {\n",
       "        text-align: right;\n",
       "    }\n",
       "</style>\n",
       "<table border=\"1\" class=\"dataframe\">\n",
       "  <thead>\n",
       "    <tr style=\"text-align: right;\">\n",
       "      <th></th>\n",
       "      <th>geometry</th>\n",
       "      <th>code</th>\n",
       "      <th>name</th>\n",
       "    </tr>\n",
       "    <tr>\n",
       "      <th>healthcareDistrict</th>\n",
       "      <th></th>\n",
       "      <th></th>\n",
       "      <th></th>\n",
       "    </tr>\n",
       "  </thead>\n",
       "  <tbody>\n",
       "    <tr>\n",
       "      <th>Ahvenanmaa</th>\n",
       "      <td>MULTIPOLYGON (((173277.623 6640282.925, 173136...</td>\n",
       "      <td>035</td>\n",
       "      <td>Brändö</td>\n",
       "    </tr>\n",
       "    <tr>\n",
       "      <th>Etelä-Karjala</th>\n",
       "      <td>POLYGON ((538858.650 6740202.117, 536909.932 6...</td>\n",
       "      <td>153</td>\n",
       "      <td>Imatra</td>\n",
       "    </tr>\n",
       "    <tr>\n",
       "      <th>Etelä-Pohjanmaa</th>\n",
       "      <td>POLYGON ((373036.311 6953044.961, 376149.768 6...</td>\n",
       "      <td>005</td>\n",
       "      <td>Alajärvi</td>\n",
       "    </tr>\n",
       "    <tr>\n",
       "      <th>Etelä-Savo</th>\n",
       "      <td>POLYGON ((562166.891 6843209.649, 563173.338 6...</td>\n",
       "      <td>097</td>\n",
       "      <td>Hirvensalmi</td>\n",
       "    </tr>\n",
       "    <tr>\n",
       "      <th>HUS</th>\n",
       "      <td>MULTIPOLYGON (((272609.681 6632304.439, 272418...</td>\n",
       "      <td>018</td>\n",
       "      <td>Askola</td>\n",
       "    </tr>\n",
       "    <tr>\n",
       "      <th>Itä-Savo</th>\n",
       "      <td>POLYGON ((603980.674 6824572.057, 600339.558 6...</td>\n",
       "      <td>046</td>\n",
       "      <td>Enonkoski</td>\n",
       "    </tr>\n",
       "    <tr>\n",
       "      <th>Kainuu</th>\n",
       "      <td>POLYGON ((643098.600 7165870.100, 643537.000 7...</td>\n",
       "      <td>105</td>\n",
       "      <td>Hyrynsalmi</td>\n",
       "    </tr>\n",
       "    <tr>\n",
       "      <th>Kanta-Häme</th>\n",
       "      <td>POLYGON ((369728.766 6728123.905, 366878.133 6...</td>\n",
       "      <td>061</td>\n",
       "      <td>Forssa</td>\n",
       "    </tr>\n",
       "    <tr>\n",
       "      <th>Keski-Pohjanmaa</th>\n",
       "      <td>MULTIPOLYGON (((302835.219 7083897.220, 302801...</td>\n",
       "      <td>074</td>\n",
       "      <td>Halsua</td>\n",
       "    </tr>\n",
       "    <tr>\n",
       "      <th>Keski-Suomi</th>\n",
       "      <td>POLYGON ((439110.805 6852598.036, 439300.113 6...</td>\n",
       "      <td>077</td>\n",
       "      <td>Hankasalmi</td>\n",
       "    </tr>\n",
       "    <tr>\n",
       "      <th>Kymenlaakso</th>\n",
       "      <td>MULTIPOLYGON (((501532.450 6680088.052, 501352...</td>\n",
       "      <td>075</td>\n",
       "      <td>Hamina</td>\n",
       "    </tr>\n",
       "    <tr>\n",
       "      <th>Lappi</th>\n",
       "      <td>POLYGON ((518535.957 7313104.574, 515335.969 7...</td>\n",
       "      <td>047</td>\n",
       "      <td>Enontekiö</td>\n",
       "    </tr>\n",
       "    <tr>\n",
       "      <th>Länsi-Pohja</th>\n",
       "      <td>MULTIPOLYGON (((399348.710 7271646.236, 399096...</td>\n",
       "      <td>240</td>\n",
       "      <td>Kemi</td>\n",
       "    </tr>\n",
       "    <tr>\n",
       "      <th>Pirkanmaa</th>\n",
       "      <td>POLYGON ((324952.559 6773513.092, 327451.427 6...</td>\n",
       "      <td>020</td>\n",
       "      <td>Akaa</td>\n",
       "    </tr>\n",
       "    <tr>\n",
       "      <th>Pohjois-Karjala</th>\n",
       "      <td>POLYGON ((612018.017 6919096.630, 612969.094 6...</td>\n",
       "      <td>090</td>\n",
       "      <td>Heinävesi</td>\n",
       "    </tr>\n",
       "    <tr>\n",
       "      <th>Pohjois-Pohjanmaa</th>\n",
       "      <td>MULTIPOLYGON (((374638.926 7170355.448, 374515...</td>\n",
       "      <td>009</td>\n",
       "      <td>Alavieska</td>\n",
       "    </tr>\n",
       "    <tr>\n",
       "      <th>Pohjois-Savo</th>\n",
       "      <td>POLYGON ((568071.215 6914370.703, 570686.991 6...</td>\n",
       "      <td>140</td>\n",
       "      <td>Iisalmi</td>\n",
       "    </tr>\n",
       "    <tr>\n",
       "      <th>Päijät-Häme</th>\n",
       "      <td>POLYGON ((441787.770 6730507.194, 442140.745 6...</td>\n",
       "      <td>016</td>\n",
       "      <td>Asikkala</td>\n",
       "    </tr>\n",
       "    <tr>\n",
       "      <th>Satakunta</th>\n",
       "      <td>MULTIPOLYGON (((196901.009 6784937.612, 196955...</td>\n",
       "      <td>050</td>\n",
       "      <td>Eura</td>\n",
       "    </tr>\n",
       "    <tr>\n",
       "      <th>Vaasa</th>\n",
       "      <td>MULTIPOLYGON (((200371.753 6892181.697, 200360...</td>\n",
       "      <td>231</td>\n",
       "      <td>Kaskinen</td>\n",
       "    </tr>\n",
       "    <tr>\n",
       "      <th>Varsinais-Suomi</th>\n",
       "      <td>MULTIPOLYGON (((258767.605 6632338.388, 258668...</td>\n",
       "      <td>019</td>\n",
       "      <td>Aura</td>\n",
       "    </tr>\n",
       "  </tbody>\n",
       "</table>\n",
       "</div>"
      ],
      "text/plain": [
       "                                                             geometry code  \\\n",
       "healthcareDistrict                                                           \n",
       "Ahvenanmaa          MULTIPOLYGON (((173277.623 6640282.925, 173136...  035   \n",
       "Etelä-Karjala       POLYGON ((538858.650 6740202.117, 536909.932 6...  153   \n",
       "Etelä-Pohjanmaa     POLYGON ((373036.311 6953044.961, 376149.768 6...  005   \n",
       "Etelä-Savo          POLYGON ((562166.891 6843209.649, 563173.338 6...  097   \n",
       "HUS                 MULTIPOLYGON (((272609.681 6632304.439, 272418...  018   \n",
       "Itä-Savo            POLYGON ((603980.674 6824572.057, 600339.558 6...  046   \n",
       "Kainuu              POLYGON ((643098.600 7165870.100, 643537.000 7...  105   \n",
       "Kanta-Häme          POLYGON ((369728.766 6728123.905, 366878.133 6...  061   \n",
       "Keski-Pohjanmaa     MULTIPOLYGON (((302835.219 7083897.220, 302801...  074   \n",
       "Keski-Suomi         POLYGON ((439110.805 6852598.036, 439300.113 6...  077   \n",
       "Kymenlaakso         MULTIPOLYGON (((501532.450 6680088.052, 501352...  075   \n",
       "Lappi               POLYGON ((518535.957 7313104.574, 515335.969 7...  047   \n",
       "Länsi-Pohja         MULTIPOLYGON (((399348.710 7271646.236, 399096...  240   \n",
       "Pirkanmaa           POLYGON ((324952.559 6773513.092, 327451.427 6...  020   \n",
       "Pohjois-Karjala     POLYGON ((612018.017 6919096.630, 612969.094 6...  090   \n",
       "Pohjois-Pohjanmaa   MULTIPOLYGON (((374638.926 7170355.448, 374515...  009   \n",
       "Pohjois-Savo        POLYGON ((568071.215 6914370.703, 570686.991 6...  140   \n",
       "Päijät-Häme         POLYGON ((441787.770 6730507.194, 442140.745 6...  016   \n",
       "Satakunta           MULTIPOLYGON (((196901.009 6784937.612, 196955...  050   \n",
       "Vaasa               MULTIPOLYGON (((200371.753 6892181.697, 200360...  231   \n",
       "Varsinais-Suomi     MULTIPOLYGON (((258767.605 6632338.388, 258668...  019   \n",
       "\n",
       "                           name  \n",
       "healthcareDistrict               \n",
       "Ahvenanmaa               Brändö  \n",
       "Etelä-Karjala            Imatra  \n",
       "Etelä-Pohjanmaa        Alajärvi  \n",
       "Etelä-Savo          Hirvensalmi  \n",
       "HUS                      Askola  \n",
       "Itä-Savo              Enonkoski  \n",
       "Kainuu               Hyrynsalmi  \n",
       "Kanta-Häme               Forssa  \n",
       "Keski-Pohjanmaa          Halsua  \n",
       "Keski-Suomi          Hankasalmi  \n",
       "Kymenlaakso              Hamina  \n",
       "Lappi                 Enontekiö  \n",
       "Länsi-Pohja                Kemi  \n",
       "Pirkanmaa                  Akaa  \n",
       "Pohjois-Karjala       Heinävesi  \n",
       "Pohjois-Pohjanmaa     Alavieska  \n",
       "Pohjois-Savo            Iisalmi  \n",
       "Päijät-Häme            Asikkala  \n",
       "Satakunta                  Eura  \n",
       "Vaasa                  Kaskinen  \n",
       "Varsinais-Suomi            Aura  "
      ]
     },
     "execution_count": 42,
     "metadata": {},
     "output_type": "execute_result"
    }
   ],
   "source": [
    "districts"
   ]
  },
  {
   "cell_type": "code",
   "execution_count": 44,
   "id": "eec9f97e-f987-451e-9ef3-b36178d7ac41",
   "metadata": {},
   "outputs": [],
   "source": [
    "districts.reset_index(inplace=True)"
   ]
  },
  {
   "cell_type": "code",
   "execution_count": 45,
   "id": "bf0728ea-8e90-4871-8ad0-067bd70c722c",
   "metadata": {},
   "outputs": [
    {
     "data": {
      "text/html": [
       "<div>\n",
       "<style scoped>\n",
       "    .dataframe tbody tr th:only-of-type {\n",
       "        vertical-align: middle;\n",
       "    }\n",
       "\n",
       "    .dataframe tbody tr th {\n",
       "        vertical-align: top;\n",
       "    }\n",
       "\n",
       "    .dataframe thead th {\n",
       "        text-align: right;\n",
       "    }\n",
       "</style>\n",
       "<table border=\"1\" class=\"dataframe\">\n",
       "  <thead>\n",
       "    <tr style=\"text-align: right;\">\n",
       "      <th></th>\n",
       "      <th>healthcareDistrict</th>\n",
       "      <th>geometry</th>\n",
       "    </tr>\n",
       "  </thead>\n",
       "  <tbody>\n",
       "    <tr>\n",
       "      <th>0</th>\n",
       "      <td>Ahvenanmaa</td>\n",
       "      <td>MULTIPOLYGON (((173277.623 6640282.925, 173136...</td>\n",
       "    </tr>\n",
       "    <tr>\n",
       "      <th>1</th>\n",
       "      <td>Etelä-Karjala</td>\n",
       "      <td>POLYGON ((538858.650 6740202.117, 536909.932 6...</td>\n",
       "    </tr>\n",
       "    <tr>\n",
       "      <th>2</th>\n",
       "      <td>Etelä-Pohjanmaa</td>\n",
       "      <td>POLYGON ((373036.311 6953044.961, 376149.768 6...</td>\n",
       "    </tr>\n",
       "    <tr>\n",
       "      <th>3</th>\n",
       "      <td>Etelä-Savo</td>\n",
       "      <td>POLYGON ((562166.891 6843209.649, 563173.338 6...</td>\n",
       "    </tr>\n",
       "    <tr>\n",
       "      <th>4</th>\n",
       "      <td>HUS</td>\n",
       "      <td>MULTIPOLYGON (((272609.681 6632304.439, 272418...</td>\n",
       "    </tr>\n",
       "  </tbody>\n",
       "</table>\n",
       "</div>"
      ],
      "text/plain": [
       "  healthcareDistrict                                           geometry\n",
       "0         Ahvenanmaa  MULTIPOLYGON (((173277.623 6640282.925, 173136...\n",
       "1      Etelä-Karjala  POLYGON ((538858.650 6740202.117, 536909.932 6...\n",
       "2    Etelä-Pohjanmaa  POLYGON ((373036.311 6953044.961, 376149.768 6...\n",
       "3         Etelä-Savo  POLYGON ((562166.891 6843209.649, 563173.338 6...\n",
       "4                HUS  MULTIPOLYGON (((272609.681 6632304.439, 272418..."
      ]
     },
     "execution_count": 45,
     "metadata": {},
     "output_type": "execute_result"
    }
   ],
   "source": [
    "districts = districts[['healthcareDistrict', 'geometry']]\n",
    "districts.head()"
   ]
  },
  {
   "cell_type": "code",
   "execution_count": 49,
   "id": "16316294-3af6-4258-9aca-d1b771b2bed4",
   "metadata": {},
   "outputs": [
    {
     "data": {
      "text/plain": [
       "(40857.339215, 765862.479085, 6575077.820610001, 7833703.7515899995)"
      ]
     },
     "execution_count": 49,
     "metadata": {},
     "output_type": "execute_result"
    },
    {
     "data": {
      "image/png": "[encoded data removed]",
      "text/plain": [
       "<Figure size 432x288 with 1 Axes>"
      ]
     },
     "metadata": {
      "needs_background": "light"
     },
     "output_type": "display_data"
    }
   ],
   "source": [
    "districts.plot(column='healthcareDistrict', cmap='tab20', k=21)\n",
    "plt.axis('off')"
   ]
  },
  {
   "cell_type": "code",
   "execution_count": null,
   "id": "b94063b0-7767-4b34-aef7-ac43246726d9",
   "metadata": {},
   "outputs": [],
   "source": []
  }
 ],
 "metadata": {
  "kernelspec": {
   "display_name": "Python 3",
   "language": "python",
   "name": "python3"
  },
  "language_info": {
   "codemirror_mode": {
    "name": "ipython",
    "version": 3
   },
   "file_extension": ".py",
   "mimetype": "text/x-python",
   "name": "python",
   "nbconvert_exporter": "python",
   "pygments_lexer": "ipython3",
   "version": "3.6.10"
  }
 },
 "nbformat": 4,
 "nbformat_minor": 5
}
