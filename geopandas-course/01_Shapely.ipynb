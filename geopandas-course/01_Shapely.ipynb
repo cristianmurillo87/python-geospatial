{
 "cells": [
  {
   "cell_type": "code",
   "execution_count": 3,
   "id": "fc30d5d7-4a06-41a0-8f75-5e66862b64cb",
   "metadata": {},
   "outputs": [],
   "source": [
    "# Import the necessary geometric objects from the shapely module\n",
    "from shapely.geometry import Point, LineString, Polygon"
   ]
  },
  {
   "cell_type": "markdown",
   "id": "c038d41c-f9e2-4113-b056-cd4bb67ff3d6",
   "metadata": {},
   "source": [
    "### Points"
   ]
  },
  {
   "cell_type": "code",
   "execution_count": 87,
   "id": "8d256b02-fe4f-45ed-9ee2-a497cab873ce",
   "metadata": {},
   "outputs": [],
   "source": [
    "point1 = Point(7.25, -25.1)\n",
    "point2 = Point(9.26, -2.456)\n",
    "point3 = Point(10.34, -2.546)\n",
    "point3D = Point(9.26, -2.456, 0.57)"
   ]
  },
  {
   "cell_type": "code",
   "execution_count": 9,
   "id": "0130bd31-5f1c-4c06-a233-5b5f0b201436",
   "metadata": {},
   "outputs": [
    {
     "data": {
      "text/plain": [
       "-25.1"
      ]
     },
     "execution_count": 9,
     "metadata": {},
     "output_type": "execute_result"
    }
   ],
   "source": [
    "point1.y"
   ]
  },
  {
   "cell_type": "code",
   "execution_count": 9,
   "id": "cfc6f39f-deb1-40c5-ab99-e9fa147cca98",
   "metadata": {},
   "outputs": [
    {
     "data": {
      "image/svg+xml": [
       "<svg xmlns=\"http://www.w3.org/2000/svg\" xmlns:xlink=\"http://www.w3.org/1999/xlink\" width=\"100.0\" height=\"100.0\" viewBox=\"8.26 -3.456 2.0 2.0\" preserveAspectRatio=\"xMinYMin meet\"><g transform=\"matrix(1,0,0,-1,0,-4.912)\"><circle cx=\"9.26\" cy=\"-2.456\" r=\"0.06\" stroke=\"#555555\" stroke-width=\"0.02\" fill=\"#66cc99\" opacity=\"0.6\" /></g></svg>"
      ],
      "text/plain": [
       "<shapely.geometry.point.Point at 0x7fef8f504d68>"
      ]
     },
     "execution_count": 9,
     "metadata": {},
     "output_type": "execute_result"
    }
   ],
   "source": [
    "point3D"
   ]
  },
  {
   "cell_type": "markdown",
   "id": "1d4760cd-b095-4441-bfc0-ecd9d37e51df",
   "metadata": {},
   "source": [
    "#### Visualizing information from the points"
   ]
  },
  {
   "cell_type": "code",
   "execution_count": 10,
   "id": "2b22e3c5-d6dd-4e4d-b7a8-64ae52172236",
   "metadata": {},
   "outputs": [
    {
     "name": "stdout",
     "output_type": "stream",
     "text": [
      "POINT (7.25 -25.1)\n",
      "POINT Z (9.26 -2.456 0.57)\n"
     ]
    }
   ],
   "source": [
    "print(point1)\n",
    "print(point3D)"
   ]
  },
  {
   "cell_type": "code",
   "execution_count": 11,
   "id": "d784c6b5-1599-4f91-ab7c-5960a789d54e",
   "metadata": {},
   "outputs": [
    {
     "data": {
      "text/plain": [
       "'POINT (7.25 -25.1)'"
      ]
     },
     "execution_count": 11,
     "metadata": {},
     "output_type": "execute_result"
    }
   ],
   "source": [
    "str(point1)"
   ]
  },
  {
   "cell_type": "code",
   "execution_count": 14,
   "id": "6877d662-873a-461e-860f-a462f6a6fe54",
   "metadata": {},
   "outputs": [
    {
     "data": {
      "text/plain": [
       "'Point'"
      ]
     },
     "execution_count": 14,
     "metadata": {},
     "output_type": "execute_result"
    }
   ],
   "source": [
    "point3D.geom_type"
   ]
  },
  {
   "cell_type": "code",
   "execution_count": 138,
   "id": "bca0845e-7398-427a-bf73-5b6a52efe064",
   "metadata": {},
   "outputs": [
    {
     "data": {
      "text/plain": [
       "shapely.geometry.point.Point"
      ]
     },
     "execution_count": 138,
     "metadata": {},
     "output_type": "execute_result"
    }
   ],
   "source": [
    "type(point1)"
   ]
  },
  {
   "cell_type": "code",
   "execution_count": 16,
   "id": "41863f3d-568b-40d4-b333-52e8fd69ae0e",
   "metadata": {},
   "outputs": [
    {
     "data": {
      "text/plain": [
       "<shapely.coords.CoordinateSequence at 0x7fef8f504dd8>"
      ]
     },
     "execution_count": 16,
     "metadata": {},
     "output_type": "execute_result"
    }
   ],
   "source": [
    "# Get coordinates of the point (returns a CoordinateSequence instance)\n",
    "point1.coords"
   ]
  },
  {
   "cell_type": "code",
   "execution_count": 18,
   "id": "4bbffd0a-5312-483d-8cd2-3e6218511b80",
   "metadata": {},
   "outputs": [
    {
     "data": {
      "text/plain": [
       "[(7.25, -25.1)]"
      ]
     },
     "execution_count": 18,
     "metadata": {},
     "output_type": "execute_result"
    }
   ],
   "source": [
    "list(point1.coords)"
   ]
  },
  {
   "cell_type": "code",
   "execution_count": 19,
   "id": "1692d99d-5fd2-41b2-88ec-dbb91ce6abb0",
   "metadata": {},
   "outputs": [
    {
     "name": "stdout",
     "output_type": "stream",
     "text": [
      "7.25\n",
      "-25.1\n"
     ]
    }
   ],
   "source": [
    "# Get the individual coordinate values\n",
    "print(point1.x)\n",
    "print(point1.y)"
   ]
  },
  {
   "cell_type": "code",
   "execution_count": 22,
   "id": "d9cbb53c-7f77-4bd3-8e4c-0daae2226741",
   "metadata": {},
   "outputs": [
    {
     "name": "stdout",
     "output_type": "stream",
     "text": [
      "The distance between the points is 22.733034025400134 meters\n"
     ]
    }
   ],
   "source": [
    "## Calculating distances\n",
    "distance = point1.distance(point2)\n",
    "print(f'The distance between the points is {distance} meters')"
   ]
  },
  {
   "cell_type": "markdown",
   "id": "40c1af65-83b2-402c-bef3-8454e3819f84",
   "metadata": {},
   "source": [
    "### LineStrings"
   ]
  },
  {
   "cell_type": "code",
   "execution_count": 28,
   "id": "7415e465-e27e-4aaf-bdee-1cea60a7d361",
   "metadata": {},
   "outputs": [
    {
     "data": {
      "image/svg+xml": [
       "<svg xmlns=\"http://www.w3.org/2000/svg\" xmlns:xlink=\"http://www.w3.org/1999/xlink\" width=\"100.0\" height=\"100.0\" viewBox=\"6.34424 -26.005760000000002 4.9015200000000005 24.455520000000003\" preserveAspectRatio=\"xMinYMin meet\"><g transform=\"matrix(1,0,0,-1,0,-27.556)\"><polyline fill=\"none\" stroke=\"#66cc99\" stroke-width=\"0.48911040000000006\" points=\"7.25,-25.1 9.26,-2.456 10.34,-2.546\" opacity=\"0.8\" /></g></svg>"
      ],
      "text/plain": [
       "<shapely.geometry.linestring.LineString at 0x7fef90b10f60>"
      ]
     },
     "execution_count": 28,
     "metadata": {},
     "output_type": "execute_result"
    }
   ],
   "source": [
    "# Creating a LineString from 3 points\n",
    "line1 = LineString([point1, point2, point3])\n",
    "line1"
   ]
  },
  {
   "cell_type": "code",
   "execution_count": 29,
   "id": "a5541203-f149-4746-9a94-eec0b748d882",
   "metadata": {},
   "outputs": [
    {
     "data": {
      "image/svg+xml": [
       "<svg xmlns=\"http://www.w3.org/2000/svg\" xmlns:xlink=\"http://www.w3.org/1999/xlink\" width=\"100.0\" height=\"100.0\" viewBox=\"1.028 -26.272000000000002 9.404 31.644000000000002\" preserveAspectRatio=\"xMinYMin meet\"><g transform=\"matrix(1,0,0,-1,0,-20.900000000000002)\"><polyline fill=\"none\" stroke=\"#66cc99\" stroke-width=\"0.63288\" points=\"2.2,4.2 7.2,-25.1 9.26,-2.456\" opacity=\"0.8\" /></g></svg>"
      ],
      "text/plain": [
       "<shapely.geometry.linestring.LineString at 0x7fef90b122e8>"
      ]
     },
     "execution_count": 29,
     "metadata": {},
     "output_type": "execute_result"
    }
   ],
   "source": [
    "line2 = LineString([(2.2, 4.2), (7.2, -25.1), (9.26, -2.456)])\n",
    "line2"
   ]
  },
  {
   "cell_type": "code",
   "execution_count": 30,
   "id": "0f437d1a-2f84-4472-a3a2-f7a93c21f5b0",
   "metadata": {},
   "outputs": [
    {
     "data": {
      "text/plain": [
       "False"
      ]
     },
     "execution_count": 30,
     "metadata": {},
     "output_type": "execute_result"
    }
   ],
   "source": [
    "line1 == line2"
   ]
  },
  {
   "cell_type": "markdown",
   "id": "b08e03ff-6c02-472a-a994-54ab94e3ea15",
   "metadata": {},
   "source": [
    "#### Getting a WKT Representation"
   ]
  },
  {
   "cell_type": "code",
   "execution_count": 36,
   "id": "77bbf47a-69b9-48e0-8750-a96b52d419a7",
   "metadata": {},
   "outputs": [
    {
     "data": {
      "text/plain": [
       "'LINESTRING (7.2500000000000000 -25.1000000000000014, 9.2599999999999998 -2.4560000000000000, 10.3399999999999999 -2.5459999999999998)'"
      ]
     },
     "execution_count": 36,
     "metadata": {},
     "output_type": "execute_result"
    }
   ],
   "source": [
    "line1.to_wkt()"
   ]
  },
  {
   "cell_type": "code",
   "execution_count": 34,
   "id": "b47bd8ee-345c-4bc1-a060-02640fe21b31",
   "metadata": {},
   "outputs": [
    {
     "data": {
      "text/plain": [
       "'LINESTRING (7.25 -25.1, 9.26 -2.456, 10.34 -2.546)'"
      ]
     },
     "execution_count": 34,
     "metadata": {},
     "output_type": "execute_result"
    }
   ],
   "source": [
    "line2.wkt"
   ]
  },
  {
   "cell_type": "code",
   "execution_count": 35,
   "id": "65f307b8-5a96-43f8-a5ac-751501ebc9d6",
   "metadata": {},
   "outputs": [
    {
     "data": {
      "text/plain": [
       "'LINESTRING (7.25 -25.1, 9.26 -2.456, 10.34 -2.546)'"
      ]
     },
     "execution_count": 35,
     "metadata": {},
     "output_type": "execute_result"
    }
   ],
   "source": [
    "line1.wkt"
   ]
  },
  {
   "cell_type": "code",
   "execution_count": 37,
   "id": "c119faff-2c35-4e93-b4c4-fee6803f0e5f",
   "metadata": {},
   "outputs": [
    {
     "name": "stdout",
     "output_type": "stream",
     "text": [
      "LINESTRING (7.25 -25.1, 9.26 -2.456, 10.34 -2.546)\n"
     ]
    }
   ],
   "source": [
    "print(line1)"
   ]
  },
  {
   "cell_type": "code",
   "execution_count": 38,
   "id": "5476c125-93cc-41aa-b3a5-e4aa3952c484",
   "metadata": {},
   "outputs": [
    {
     "data": {
      "text/plain": [
       "shapely.geometry.linestring.LineString"
      ]
     },
     "execution_count": 38,
     "metadata": {},
     "output_type": "execute_result"
    }
   ],
   "source": [
    "type(line1)"
   ]
  },
  {
   "cell_type": "code",
   "execution_count": 41,
   "id": "c518cea2-2b67-495d-8bd9-f94674b7f19c",
   "metadata": {},
   "outputs": [
    {
     "data": {
      "text/plain": [
       "'LineString'"
      ]
     },
     "execution_count": 41,
     "metadata": {},
     "output_type": "execute_result"
    }
   ],
   "source": [
    "line1.geom_type"
   ]
  },
  {
   "cell_type": "code",
   "execution_count": 40,
   "id": "b6aff623-14b0-4951-ae01-f4a1da80e717",
   "metadata": {},
   "outputs": [
    {
     "data": {
      "text/plain": [
       "[(7.25, -25.1), (9.26, -2.456), (10.34, -2.546)]"
      ]
     },
     "execution_count": 40,
     "metadata": {},
     "output_type": "execute_result"
    }
   ],
   "source": [
    "list(line1.coords)"
   ]
  },
  {
   "cell_type": "code",
   "execution_count": 42,
   "id": "336bf17b-ced9-495c-99e5-e87a7d75a470",
   "metadata": {},
   "outputs": [
    {
     "data": {
      "text/plain": [
       "(array('d', [2.2, 7.2, 9.26]), array('d', [4.2, -25.1, -2.456]))"
      ]
     },
     "execution_count": 42,
     "metadata": {},
     "output_type": "execute_result"
    }
   ],
   "source": [
    "# Extract  x and y coordinates separately\n",
    "line2.xy"
   ]
  },
  {
   "cell_type": "code",
   "execution_count": 67,
   "id": "b18f0381-909b-4795-84f7-29f451af2915",
   "metadata": {},
   "outputs": [
    {
     "data": {
      "text/plain": [
       "[2.2, 7.2, 9.26]"
      ]
     },
     "execution_count": 67,
     "metadata": {},
     "output_type": "execute_result"
    }
   ],
   "source": [
    "x_list = list(line2.xy[0])\n",
    "x_list"
   ]
  },
  {
   "cell_type": "code",
   "execution_count": 68,
   "id": "04bb12cf-aa72-43b4-8907-bf4e76e15f18",
   "metadata": {},
   "outputs": [
    {
     "data": {
      "text/plain": [
       "[4.2, -25.1, -2.456]"
      ]
     },
     "execution_count": 68,
     "metadata": {},
     "output_type": "execute_result"
    }
   ],
   "source": [
    "y_list = list(line2.xy[1])\n",
    "y_list"
   ]
  },
  {
   "cell_type": "code",
   "execution_count": 73,
   "id": "d6fe081f-73e8-424f-8f3a-8935919b331b",
   "metadata": {},
   "outputs": [
    {
     "data": {
      "text/plain": [
       "<zip at 0x7fef913d2188>"
      ]
     },
     "execution_count": 73,
     "metadata": {},
     "output_type": "execute_result"
    }
   ],
   "source": [
    "coords_list = zip(x_list, y_list)\n",
    "coords_list"
   ]
  },
  {
   "cell_type": "code",
   "execution_count": 74,
   "id": "f5754654-b305-447e-a352-f8302e8fafeb",
   "metadata": {},
   "outputs": [],
   "source": [
    "lt = list(coords_list)"
   ]
  },
  {
   "cell_type": "code",
   "execution_count": 76,
   "id": "0798aec7-9188-4c6a-9a81-552124363069",
   "metadata": {},
   "outputs": [
    {
     "data": {
      "text/plain": [
       "[(2.2, 4.2), (7.2, -25.1), (9.26, -2.456)]"
      ]
     },
     "execution_count": 76,
     "metadata": {},
     "output_type": "execute_result"
    }
   ],
   "source": [
    "lt"
   ]
  },
  {
   "cell_type": "code",
   "execution_count": 78,
   "id": "3efb87de-cd46-430c-bf6b-4257ac1cc7d3",
   "metadata": {},
   "outputs": [
    {
     "data": {
      "image/svg+xml": [
       "<svg xmlns=\"http://www.w3.org/2000/svg\" xmlns:xlink=\"http://www.w3.org/1999/xlink\" width=\"100.0\" height=\"100.0\" viewBox=\"1.028 -26.272000000000002 9.404 31.644000000000002\" preserveAspectRatio=\"xMinYMin meet\"><g transform=\"matrix(1,0,0,-1,0,-20.900000000000002)\"><polyline fill=\"none\" stroke=\"#66cc99\" stroke-width=\"0.63288\" points=\"2.2,4.2 7.2,-25.1 9.26,-2.456\" opacity=\"0.8\" /></g></svg>"
      ],
      "text/plain": [
       "<shapely.geometry.linestring.LineString at 0x7fef90d0b400>"
      ]
     },
     "execution_count": 78,
     "metadata": {},
     "output_type": "execute_result"
    }
   ],
   "source": [
    "LineString(lt)"
   ]
  },
  {
   "cell_type": "code",
   "execution_count": 79,
   "id": "eb96f873-1bba-4acc-bc67-a50f20f0fa8c",
   "metadata": {},
   "outputs": [
    {
     "data": {
      "text/plain": [
       "True"
      ]
     },
     "execution_count": 79,
     "metadata": {},
     "output_type": "execute_result"
    }
   ],
   "source": [
    "LineString(lt) == line2"
   ]
  },
  {
   "cell_type": "code",
   "execution_count": 83,
   "id": "28894971-7386-4fe1-901c-d3226a9883f8",
   "metadata": {},
   "outputs": [
    {
     "data": {
      "image/svg+xml": [
       "<svg xmlns=\"http://www.w3.org/2000/svg\" xmlns:xlink=\"http://www.w3.org/1999/xlink\" width=\"100.0\" height=\"100.0\" viewBox=\"7.325302698320346 -14.264858557308385 2.0 2.0\" preserveAspectRatio=\"xMinYMin meet\"><g transform=\"matrix(1,0,0,-1,0,-26.52971711461677)\"><circle cx=\"8.325302698320346\" cy=\"-13.264858557308385\" r=\"0.06\" stroke=\"#555555\" stroke-width=\"0.02\" fill=\"#66cc99\" opacity=\"0.6\" /></g></svg>"
      ],
      "text/plain": [
       "<shapely.geometry.point.Point at 0x7fef90a961d0>"
      ]
     },
     "execution_count": 83,
     "metadata": {},
     "output_type": "execute_result"
    }
   ],
   "source": [
    "line1.centroid"
   ]
  },
  {
   "cell_type": "code",
   "execution_count": 84,
   "id": "b2e7669e-4669-4128-b757-58fdc90ae2c8",
   "metadata": {},
   "outputs": [
    {
     "data": {
      "text/plain": [
       "'POINT (8.325302698320346 -13.26485855730838)'"
      ]
     },
     "execution_count": 84,
     "metadata": {},
     "output_type": "execute_result"
    }
   ],
   "source": [
    "line1.centroid.wkt"
   ]
  },
  {
   "cell_type": "markdown",
   "id": "72f67114-d4b4-4920-bd5a-459e248ca7b1",
   "metadata": {},
   "source": [
    "### Polygons\n"
   ]
  },
  {
   "cell_type": "code",
   "execution_count": 85,
   "id": "cac8be06-361e-4129-b973-1fb99148386d",
   "metadata": {},
   "outputs": [
    {
     "data": {
      "image/svg+xml": [
       "<svg xmlns=\"http://www.w3.org/2000/svg\" xmlns:xlink=\"http://www.w3.org/1999/xlink\" width=\"100.0\" height=\"100.0\" viewBox=\"1.028 -26.272000000000002 9.404 31.644000000000002\" preserveAspectRatio=\"xMinYMin meet\"><g transform=\"matrix(1,0,0,-1,0,-20.900000000000002)\"><path fill-rule=\"evenodd\" fill=\"#66cc99\" stroke=\"#555555\" stroke-width=\"0.63288\" opacity=\"0.6\" d=\"M 2.2,4.2 L 7.2,-25.1 L 9.26,-2.456 L 2.2,4.2 z\" /></g></svg>"
      ],
      "text/plain": [
       "<shapely.geometry.polygon.Polygon at 0x7fef90aa82b0>"
      ]
     },
     "execution_count": 85,
     "metadata": {},
     "output_type": "execute_result"
    }
   ],
   "source": [
    "poly = Polygon([(2.2, 4.2), (7.2, -25.1), (9.26, -2.456)])\n",
    "poly"
   ]
  },
  {
   "cell_type": "code",
   "execution_count": 94,
   "id": "a7c19d12-c6b7-4091-8d8c-a0cc6cd41786",
   "metadata": {},
   "outputs": [
    {
     "data": {
      "image/svg+xml": [
       "<svg xmlns=\"http://www.w3.org/2000/svg\" xmlns:xlink=\"http://www.w3.org/1999/xlink\" width=\"100.0\" height=\"100.0\" viewBox=\"6.34424 -26.005760000000002 4.9015200000000005 24.455520000000003\" preserveAspectRatio=\"xMinYMin meet\"><g transform=\"matrix(1,0,0,-1,0,-27.556)\"><path fill-rule=\"evenodd\" fill=\"#66cc99\" stroke=\"#555555\" stroke-width=\"0.48911040000000006\" opacity=\"0.6\" d=\"M 7.25,-25.1 L 9.26,-2.456 L 10.34,-2.546 L 7.25,-25.1 z\" /></g></svg>"
      ],
      "text/plain": [
       "<shapely.geometry.polygon.Polygon at 0x7fef90d62eb8>"
      ]
     },
     "execution_count": 94,
     "metadata": {},
     "output_type": "execute_result"
    }
   ],
   "source": [
    "poly2 = Polygon([(point.x, point.y) for point in[point1, point2, point3]])\n",
    "poly2"
   ]
  },
  {
   "cell_type": "code",
   "execution_count": 95,
   "id": "82d92e1d-1d7c-4823-a376-0a21097566cf",
   "metadata": {},
   "outputs": [
    {
     "data": {
      "text/plain": [
       "'Polygon'"
      ]
     },
     "execution_count": 95,
     "metadata": {},
     "output_type": "execute_result"
    }
   ],
   "source": [
    "poly.geom_type"
   ]
  },
  {
   "cell_type": "code",
   "execution_count": 96,
   "id": "54854fd4-b8c2-453b-aa89-a5d0dfad15a9",
   "metadata": {},
   "outputs": [
    {
     "data": {
      "image/svg+xml": [
       "<svg xmlns=\"http://www.w3.org/2000/svg\" xmlns:xlink=\"http://www.w3.org/1999/xlink\" width=\"100.0\" height=\"100.0\" viewBox=\"7.949999999999999 -11.034 2.0 2.0\" preserveAspectRatio=\"xMinYMin meet\"><g transform=\"matrix(1,0,0,-1,0,-20.068)\"><circle cx=\"8.95\" cy=\"-10.034\" r=\"0.06\" stroke=\"#555555\" stroke-width=\"0.02\" fill=\"#66cc99\" opacity=\"0.6\" /></g></svg>"
      ],
      "text/plain": [
       "<shapely.geometry.point.Point at 0x7fef90abf908>"
      ]
     },
     "execution_count": 96,
     "metadata": {},
     "output_type": "execute_result"
    }
   ],
   "source": [
    "poly2.centroid"
   ]
  },
  {
   "cell_type": "code",
   "execution_count": 97,
   "id": "4f91afdf-3882-4a7e-ada3-ef47ef0b2ace",
   "metadata": {},
   "outputs": [
    {
     "data": {
      "text/plain": [
       "True"
      ]
     },
     "execution_count": 97,
     "metadata": {},
     "output_type": "execute_result"
    }
   ],
   "source": [
    "poly2.intersects(poly2.centroid)"
   ]
  },
  {
   "cell_type": "markdown",
   "id": "611c68f2-d10f-4b0a-a898-af96ade7c969",
   "metadata": {},
   "source": [
    "#### Polygons with holes"
   ]
  },
  {
   "cell_type": "code",
   "execution_count": 99,
   "id": "014d018b-466f-4687-a207-b33ffccaf3bd",
   "metadata": {},
   "outputs": [
    {
     "data": {
      "image/svg+xml": [
       "<svg xmlns=\"http://www.w3.org/2000/svg\" xmlns:xlink=\"http://www.w3.org/1999/xlink\" width=\"300\" height=\"208.8\" viewBox=\"-194.4 -104.4 388.8 208.8\" preserveAspectRatio=\"xMinYMin meet\"><g transform=\"matrix(1,0,0,-1,0,0.0)\"><path fill-rule=\"evenodd\" fill=\"#66cc99\" stroke=\"#555555\" stroke-width=\"2.592\" opacity=\"0.6\" d=\"M -180.0,90.0 L -180.0,-90.0 L 180.0,-90.0 L 180.0,90.0 L -180.0,90.0 z\" /></g></svg>"
      ],
      "text/plain": [
       "<shapely.geometry.polygon.Polygon at 0x7fef90d62438>"
      ]
     },
     "execution_count": 99,
     "metadata": {},
     "output_type": "execute_result"
    }
   ],
   "source": [
    "border = [(-180, 90), (-180, -90), (180, -90), (180, 90)]\n",
    "world = Polygon(shell=border)\n",
    "world"
   ]
  },
  {
   "cell_type": "code",
   "execution_count": 101,
   "id": "64445267-aaa7-468a-9c9e-3fe01ac727e5",
   "metadata": {},
   "outputs": [
    {
     "data": {
      "image/svg+xml": [
       "<svg xmlns=\"http://www.w3.org/2000/svg\" xmlns:xlink=\"http://www.w3.org/1999/xlink\" width=\"300\" height=\"208.8\" viewBox=\"-194.4 -104.4 388.8 208.8\" preserveAspectRatio=\"xMinYMin meet\"><g transform=\"matrix(1,0,0,-1,0,0.0)\"><path fill-rule=\"evenodd\" fill=\"#66cc99\" stroke=\"#555555\" stroke-width=\"2.592\" opacity=\"0.6\" d=\"M -180.0,90.0 L -180.0,-90.0 L 180.0,-90.0 L 180.0,90.0 L -180.0,90.0 z M -170.0,80.0 L -170.0,-80.0 L 170.0,-80.0 L 170.0,80.0 L -170.0,80.0 z\" /></g></svg>"
      ],
      "text/plain": [
       "<shapely.geometry.polygon.Polygon at 0x7fef90d62588>"
      ]
     },
     "execution_count": 101,
     "metadata": {},
     "output_type": "execute_result"
    }
   ],
   "source": [
    "hole = [(-170, 80), (-170, -80), (170, -80), (170, 80)]\n",
    "frame = Polygon(shell=border, holes=[hole])\n",
    "frame"
   ]
  },
  {
   "cell_type": "code",
   "execution_count": 102,
   "id": "2cf912c1-1c1e-485b-9e38-23eefde0306f",
   "metadata": {},
   "outputs": [
    {
     "name": "stdout",
     "output_type": "stream",
     "text": [
      "Polygon centroid: POINT (-0 -0)\n",
      "Polygon area: 64800.0\n",
      "Polygon BBOX: (-180.0, -90.0, 180.0, 90.0)\n",
      "Polygon exterior: LINEARRING (-180 90, -180 -90, 180 -90, 180 90, -180 90)\n",
      "Polygon exterior length: 1080.0\n"
     ]
    }
   ],
   "source": [
    "print(f'Polygon centroid: {world.centroid}')\n",
    "print(f'Polygon area: {world.area}')\n",
    "print(f'Polygon BBOX: {world.bounds}')\n",
    "print(f'Polygon exterior: {world.exterior}')\n",
    "print(f'Polygon exterior length: {world.length}')"
   ]
  },
  {
   "cell_type": "markdown",
   "id": "a35ae30c-5f0d-465f-a6a9-2398bc465d2b",
   "metadata": {},
   "source": [
    "### Creating Shapes using Shapely"
   ]
  },
  {
   "cell_type": "code",
   "execution_count": 111,
   "id": "388b76a8-ed7f-4546-a6b0-8a9601a4729f",
   "metadata": {},
   "outputs": [
    {
     "data": {
      "image/svg+xml": [
       "<svg xmlns=\"http://www.w3.org/2000/svg\" xmlns:xlink=\"http://www.w3.org/1999/xlink\" width=\"100.0\" height=\"100.0\" viewBox=\"27.6932 13.1432 62.28359999999999 55.0636\" preserveAspectRatio=\"xMinYMin meet\"><g transform=\"matrix(1,0,0,-1,0,81.35)\"><path fill-rule=\"evenodd\" fill=\"#66cc99\" stroke=\"#555555\" stroke-width=\"1.245672\" opacity=\"0.6\" d=\"M 30.0,24.05 L 36.0,54.34 L 56.76,65.9 L 87.67,47.34 L 54.8,15.45 L 30.0,24.05 z\" /></g></svg>"
      ],
      "text/plain": [
       "<shapely.geometry.polygon.Polygon at 0x7fef90d62358>"
      ]
     },
     "execution_count": 111,
     "metadata": {},
     "output_type": "execute_result"
    }
   ],
   "source": [
    "# Pentagon\n",
    "pentagon = Polygon([(30, 24.05), (36, 54.34), (56.76, 65.9), (87.67, 47.34), (54.8, 15.45)])\n",
    "pentagon"
   ]
  },
  {
   "cell_type": "code",
   "execution_count": 119,
   "id": "04833d93-432c-4873-9d6a-72269cedd9fe",
   "metadata": {},
   "outputs": [
    {
     "data": {
      "image/svg+xml": [
       "<svg xmlns=\"http://www.w3.org/2000/svg\" xmlns:xlink=\"http://www.w3.org/1999/xlink\" width=\"100.0\" height=\"100.0\" viewBox=\"28.326 22.376 43.348000000000006 45.19800000000001\" preserveAspectRatio=\"xMinYMin meet\"><g transform=\"matrix(1,0,0,-1,0,89.95000000000002)\"><path fill-rule=\"evenodd\" fill=\"#66cc99\" stroke=\"#555555\" stroke-width=\"0.9039600000000001\" opacity=\"0.6\" d=\"M 30.0,24.05 L 50.0,65.9 L 70.0,24.05 L 30.0,24.05 z\" /></g></svg>"
      ],
      "text/plain": [
       "<shapely.geometry.polygon.Polygon at 0x7fef90d8a390>"
      ]
     },
     "execution_count": 119,
     "metadata": {},
     "output_type": "execute_result"
    }
   ],
   "source": [
    "triangle = Polygon([(30, 24.05), (50, 65.9), (70, 24.05)])\n",
    "triangle"
   ]
  },
  {
   "cell_type": "code",
   "execution_count": 115,
   "id": "ac4f54f2-6ce3-4d56-9ac0-e70c9383236b",
   "metadata": {},
   "outputs": [
    {
     "data": {
      "image/svg+xml": [
       "<svg xmlns=\"http://www.w3.org/2000/svg\" xmlns:xlink=\"http://www.w3.org/1999/xlink\" width=\"100.0\" height=\"100.0\" viewBox=\"28.8 22.85 32.400000000000006 32.4\" preserveAspectRatio=\"xMinYMin meet\"><g transform=\"matrix(1,0,0,-1,0,78.1)\"><path fill-rule=\"evenodd\" fill=\"#66cc99\" stroke=\"#555555\" stroke-width=\"0.6480000000000001\" opacity=\"0.6\" d=\"M 30.0,24.05 L 30.0,54.05 L 60.0,54.05 L 60.0,24.05 L 30.0,24.05 z\" /></g></svg>"
      ],
      "text/plain": [
       "<shapely.geometry.polygon.Polygon at 0x7fef90b10080>"
      ]
     },
     "execution_count": 115,
     "metadata": {},
     "output_type": "execute_result"
    }
   ],
   "source": [
    "squared = Polygon([(30, 24.05), (30, 54.05), (60, 54.05), (60, 24.05)])\n",
    "squared"
   ]
  },
  {
   "cell_type": "code",
   "execution_count": 118,
   "id": "04b12303-f1cc-46c0-b9d2-78deff8cffb3",
   "metadata": {},
   "outputs": [
    {
     "data": {
      "image/svg+xml": [
       "<svg xmlns=\"http://www.w3.org/2000/svg\" xmlns:xlink=\"http://www.w3.org/1999/xlink\" width=\"100.0\" height=\"100.0\" viewBox=\"-2.4 -8.35 64.8 64.8\" preserveAspectRatio=\"xMinYMin meet\"><g transform=\"matrix(1,0,0,-1,0,48.099999999999994)\"><path fill-rule=\"evenodd\" fill=\"#66cc99\" stroke=\"#555555\" stroke-width=\"1.296\" opacity=\"0.6\" d=\"M 60.0,24.05 L 59.85554180016591,21.109485790113187 L 59.42355841209691,18.197290339516158 L 58.70821007196626,15.341459682366137 L 57.71638597533861,12.56949702904732 L 56.45763793045066,9.908097895220084 L 54.94408836907637,7.382893009411948 L 53.19031360088212,5.0182014750906525 L 51.21320343559644,2.8367965644035884 L 49.03179852490939,0.859686399117912 L 46.667106990588096,-0.8940883690763393 L 44.14190210477996,-2.4076379304506332 L 41.48050297095273,-3.6663859753385886 L 38.708540317633904,-4.658210071966256 L 35.85270966048389,-5.373558412096905 L 32.940514209886864,-5.805541800165901 L 30.00000000000005,-5.949999999999999 L 27.059485790113232,-5.805541800165912 L 24.147290339516207,-5.373558412096923 L 21.291459682366185,-4.658210071966284 L 18.519497029047365,-3.666385975338624 L 15.85809789522013,-2.4076379304506794 L 13.33289300941199,-0.8940883690763926 L 10.96820147509068,0.8596863991178552 L 8.786796564403616,2.836796564403535 L 6.8096863991179255,5.018201475090596 L 5.055911630923671,7.382893009411891 L 3.542362069549373,9.90809789522003 L 2.2836140246614143,12.569497029047268 L 1.2917899280337437,15.341459682366093 L 0.5764415879030942,18.197290339516115 L 0.14445819983409436,21.109485790113148 L 0.0,24.04999999999997 L 0.1444581998340908,26.99051420988679 L 0.57644158790308,29.902709660483826 L 1.2917899280337295,32.75854031763385 L 2.2836140246613894,35.530502970952675 L 3.542362069549341,38.19190210477992 L 5.055911630923635,40.717106990588064 L 6.809686399117886,43.08179852490936 L 8.78679656440357,45.263203435596424 L 10.968201475090623,47.240313600882104 L 13.332893009411912,48.99408836907634 L 15.858097895220041,50.507637930450635 L 18.519497029047265,51.766385975338586 L 21.291459682366074,52.75821007196625 L 24.14729033951609,53.4735584120969 L 27.059485790113108,53.9055418001659 L 29.999999999999915,54.05 L 32.94051420988672,53.90554180016592 L 35.85270966048375,53.473558412096935 L 38.70854031763376,52.7582100719663 L 41.48050297095258,51.76638597533865 L 44.14190210477981,50.50763793045071 L 46.667106990587946,48.99408836907644 L 49.03179852490925,47.2403136008822 L 51.213203435596306,45.263203435596544 L 53.19031360088199,43.0817985249095 L 54.944088369076255,40.71710699058822 L 56.45763793045056,38.191902104780105 L 57.716385975338525,35.53050297095288 L 58.70821007196621,32.75854031763408 L 59.42355841209687,29.90270966048407 L 59.85554180016588,26.990514209887056 L 60.0,24.05000000000025 L 60.0,24.05 z\" /></g></svg>"
      ],
      "text/plain": [
       "<shapely.geometry.polygon.Polygon at 0x7fef90d8aa20>"
      ]
     },
     "execution_count": 118,
     "metadata": {},
     "output_type": "execute_result"
    }
   ],
   "source": [
    "circle = Point([(30, 24.05)]).buffer(30)\n",
    "circle"
   ]
  },
  {
   "cell_type": "code",
   "execution_count": 121,
   "id": "06931846-4cc7-4808-a820-36e44333374d",
   "metadata": {},
   "outputs": [
    {
     "data": {
      "text/plain": [
       "'Polygon'"
      ]
     },
     "execution_count": 121,
     "metadata": {},
     "output_type": "execute_result"
    }
   ],
   "source": [
    "circle.geom_type"
   ]
  },
  {
   "cell_type": "code",
   "execution_count": 125,
   "id": "36fe679f-9acb-4903-9fdd-100a44a59a87",
   "metadata": {},
   "outputs": [
    {
     "data": {
      "text/plain": [
       "'POLYGON ((60 24.05, 59.85554180016591 21.10948579011319, 59.42355841209691 18.19729033951616, 58.70821007196626 15.34145968236614, 57.71638597533861 12.56949702904732, 56.45763793045066 9.908097895220084, 54.94408836907637 7.382893009411948, 53.19031360088212 5.018201475090653, 51.21320343559644 2.836796564403588, 49.03179852490939 0.859686399117912, 46.6671069905881 -0.8940883690763393, 44.14190210477996 -2.407637930450633, 41.48050297095273 -3.666385975338589, 38.7085403176339 -4.658210071966256, 35.85270966048389 -5.373558412096905, 32.94051420988686 -5.805541800165901, 30.00000000000005 -5.949999999999999, 27.05948579011323 -5.805541800165912, 24.14729033951621 -5.373558412096923, 21.29145968236618 -4.658210071966284, 18.51949702904736 -3.666385975338624, 15.85809789522013 -2.407637930450679, 13.33289300941199 -0.8940883690763926, 10.96820147509068 0.8596863991178552, 8.786796564403616 2.836796564403535, 6.809686399117926 5.018201475090596, 5.055911630923671 7.382893009411891, 3.542362069549373 9.908097895220029, 2.283614024661414 12.56949702904727, 1.291789928033744 15.34145968236609, 0.5764415879030942 18.19729033951612, 0.1444581998340944 21.10948579011315, 0 24.04999999999997, 0.1444581998340908 26.99051420988679, 0.57644158790308 29.90270966048383, 1.291789928033729 32.75854031763385, 2.283614024661389 35.53050297095267, 3.542362069549341 38.19190210477992, 5.055911630923635 40.71710699058806, 6.809686399117886 43.08179852490936, 8.78679656440357 45.26320343559642, 10.96820147509062 47.2403136008821, 13.33289300941191 48.99408836907634, 15.85809789522004 50.50763793045063, 18.51949702904727 51.76638597533859, 21.29145968236607 52.75821007196625, 24.14729033951609 53.4735584120969, 27.05948579011311 53.9055418001659, 29.99999999999991 54.05, 32.94051420988672 53.90554180016592, 35.85270966048375 53.47355841209693, 38.70854031763376 52.7582100719663, 41.48050297095258 51.76638597533865, 44.14190210477981 50.50763793045071, 46.66710699058795 48.99408836907644, 49.03179852490925 47.2403136008822, 51.21320343559631 45.26320343559654, 53.19031360088199 43.0817985249095, 54.94408836907625 40.71710699058822, 56.45763793045056 38.19190210478011, 57.71638597533853 35.53050297095288, 58.70821007196621 32.75854031763408, 59.42355841209687 29.90270966048407, 59.85554180016588 26.99051420988706, 60 24.05000000000025, 60 24.05))'"
      ]
     },
     "execution_count": 125,
     "metadata": {},
     "output_type": "execute_result"
    }
   ],
   "source": [
    "circle.wkt"
   ]
  },
  {
   "cell_type": "markdown",
   "id": "3e6e8ce5-1364-4710-884f-61c3a96e358c",
   "metadata": {},
   "source": [
    "### Multigeometries"
   ]
  },
  {
   "cell_type": "code",
   "execution_count": 126,
   "id": "afafaa85-58cd-406c-a0ce-3f9ee9970dc5",
   "metadata": {},
   "outputs": [],
   "source": [
    "from shapely.geometry import MultiPoint, MultiLineString, MultiPolygon"
   ]
  },
  {
   "cell_type": "code",
   "execution_count": 130,
   "id": "50320014-c410-4145-a535-ae8d836b3316",
   "metadata": {},
   "outputs": [
    {
     "data": {
      "image/svg+xml": [
       "<svg xmlns=\"http://www.w3.org/2000/svg\" xmlns:xlink=\"http://www.w3.org/1999/xlink\" width=\"100.0\" height=\"100.0\" viewBox=\"6.34424 -26.005760000000002 4.9015200000000005 24.455520000000003\" preserveAspectRatio=\"xMinYMin meet\"><g transform=\"matrix(1,0,0,-1,0,-27.556)\"><g><circle cx=\"7.25\" cy=\"-25.1\" r=\"0.7336656000000001\" stroke=\"#555555\" stroke-width=\"0.24455520000000003\" fill=\"#66cc99\" opacity=\"0.6\" /><circle cx=\"9.26\" cy=\"-2.456\" r=\"0.7336656000000001\" stroke=\"#555555\" stroke-width=\"0.24455520000000003\" fill=\"#66cc99\" opacity=\"0.6\" /><circle cx=\"10.34\" cy=\"-2.546\" r=\"0.7336656000000001\" stroke=\"#555555\" stroke-width=\"0.24455520000000003\" fill=\"#66cc99\" opacity=\"0.6\" /></g></g></svg>"
      ],
      "text/plain": [
       "<shapely.geometry.multipoint.MultiPoint at 0x7fef90f8a2e8>"
      ]
     },
     "execution_count": 130,
     "metadata": {},
     "output_type": "execute_result"
    }
   ],
   "source": [
    "# Multipoint\n",
    "multi_point = MultiPoint([point1, point2, point3])\n",
    "multi_point"
   ]
  },
  {
   "cell_type": "code",
   "execution_count": 132,
   "id": "12c5df58-0cc7-48b0-aabe-526768fef6d9",
   "metadata": {},
   "outputs": [
    {
     "data": {
      "image/svg+xml": [
       "<svg xmlns=\"http://www.w3.org/2000/svg\" xmlns:xlink=\"http://www.w3.org/1999/xlink\" width=\"100.0\" height=\"100.0\" viewBox=\"1.028 -26.272000000000002 10.484 31.644000000000002\" preserveAspectRatio=\"xMinYMin meet\"><g transform=\"matrix(1,0,0,-1,0,-20.900000000000002)\"><g><polyline fill=\"none\" stroke=\"#66cc99\" stroke-width=\"0.63288\" points=\"7.25,-25.1 9.26,-2.456 10.34,-2.546\" opacity=\"0.8\" /><polyline fill=\"none\" stroke=\"#66cc99\" stroke-width=\"0.63288\" points=\"2.2,4.2 7.2,-25.1 9.26,-2.456\" opacity=\"0.8\" /></g></g></svg>"
      ],
      "text/plain": [
       "<shapely.geometry.multilinestring.MultiLineString at 0x7fef90f8a128>"
      ]
     },
     "execution_count": 132,
     "metadata": {},
     "output_type": "execute_result"
    }
   ],
   "source": [
    "multi_line = MultiLineString([line1, line2])\n",
    "multi_line"
   ]
  },
  {
   "cell_type": "code",
   "execution_count": 133,
   "id": "c5782668-5448-4e98-9c44-db6e9b815f4d",
   "metadata": {},
   "outputs": [
    {
     "data": {
      "image/svg+xml": [
       "<svg xmlns=\"http://www.w3.org/2000/svg\" xmlns:xlink=\"http://www.w3.org/1999/xlink\" width=\"100.0\" height=\"100.0\" viewBox=\"27.6932 13.1432 62.28359999999999 55.0636\" preserveAspectRatio=\"xMinYMin meet\"><g transform=\"matrix(1,0,0,-1,0,81.35)\"><g><path fill-rule=\"evenodd\" fill=\"#ff3333\" stroke=\"#555555\" stroke-width=\"1.245672\" opacity=\"0.6\" d=\"M 30.0,24.05 L 36.0,54.34 L 56.76,65.9 L 87.67,47.34 L 54.8,15.45 L 30.0,24.05 z\" /><path fill-rule=\"evenodd\" fill=\"#ff3333\" stroke=\"#555555\" stroke-width=\"1.245672\" opacity=\"0.6\" d=\"M 30.0,24.05 L 50.0,65.9 L 70.0,24.05 L 30.0,24.05 z\" /></g></g></svg>"
      ],
      "text/plain": [
       "<shapely.geometry.multipolygon.MultiPolygon at 0x7fef90f8a438>"
      ]
     },
     "execution_count": 133,
     "metadata": {},
     "output_type": "execute_result"
    }
   ],
   "source": [
    "multi_poly = MultiPolygon([pentagon, triangle])\n",
    "multi_poly"
   ]
  },
  {
   "cell_type": "code",
   "execution_count": 136,
   "id": "19b8d353-6cae-4296-a18d-5d9bc973eb0c",
   "metadata": {},
   "outputs": [
    {
     "name": "stdout",
     "output_type": "stream",
     "text": [
      "POLYGON ((30 24.05, 36 54.34, 56.76 65.90000000000001, 87.67 47.34, 54.8 15.45, 30 24.05))\n",
      "POLYGON ((30 24.05, 50 65.90000000000001, 70 24.05, 30 24.05))\n"
     ]
    }
   ],
   "source": [
    "for geom in multi_poly.geoms:\n",
    "    print(geom)"
   ]
  },
  {
   "cell_type": "code",
   "execution_count": null,
   "id": "f5b20680-bd99-4797-9ed7-c302cc2360cc",
   "metadata": {},
   "outputs": [],
   "source": []
  }
 ],
 "metadata": {
  "kernelspec": {
   "display_name": "Python 3",
   "language": "python",
   "name": "python3"
  },
  "language_info": {
   "codemirror_mode": {
    "name": "ipython",
    "version": 3
   },
   "file_extension": ".py",
   "mimetype": "text/x-python",
   "name": "python",
   "nbconvert_exporter": "python",
   "pygments_lexer": "ipython3",
   "version": "3.6.10"
  }
 },
 "nbformat": 4,
 "nbformat_minor": 5
}
