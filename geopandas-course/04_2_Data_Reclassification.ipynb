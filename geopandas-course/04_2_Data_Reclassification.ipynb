{
 "cells": [
  {
   "cell_type": "code",
   "execution_count": 1,
   "metadata": {},
   "outputs": [
    {
     "data": {
      "text/html": [
       "<div>\n",
       "<style scoped>\n",
       "    .dataframe tbody tr th:only-of-type {\n",
       "        vertical-align: middle;\n",
       "    }\n",
       "\n",
       "    .dataframe tbody tr th {\n",
       "        vertical-align: top;\n",
       "    }\n",
       "\n",
       "    .dataframe thead th {\n",
       "        text-align: right;\n",
       "    }\n",
       "</style>\n",
       "<table border=\"1\" class=\"dataframe\">\n",
       "  <thead>\n",
       "    <tr style=\"text-align: right;\">\n",
       "      <th></th>\n",
       "      <th>car_m_d</th>\n",
       "      <th>car_m_t</th>\n",
       "      <th>car_r_d</th>\n",
       "      <th>car_r_t</th>\n",
       "      <th>from_id</th>\n",
       "      <th>pt_m_d</th>\n",
       "      <th>pt_m_t</th>\n",
       "      <th>pt_m_tt</th>\n",
       "      <th>pt_r_d</th>\n",
       "      <th>pt_r_t</th>\n",
       "      <th>pt_r_tt</th>\n",
       "      <th>to_id</th>\n",
       "      <th>walk_d</th>\n",
       "      <th>walk_t</th>\n",
       "      <th>GML_ID</th>\n",
       "      <th>NAMEFIN</th>\n",
       "      <th>NAMESWE</th>\n",
       "      <th>NATCODE</th>\n",
       "      <th>geometry</th>\n",
       "    </tr>\n",
       "  </thead>\n",
       "  <tbody>\n",
       "    <tr>\n",
       "      <th>0</th>\n",
       "      <td>29476</td>\n",
       "      <td>41</td>\n",
       "      <td>29483</td>\n",
       "      <td>46</td>\n",
       "      <td>5876274</td>\n",
       "      <td>29990</td>\n",
       "      <td>76</td>\n",
       "      <td>95</td>\n",
       "      <td>24984</td>\n",
       "      <td>77</td>\n",
       "      <td>99</td>\n",
       "      <td>5975375</td>\n",
       "      <td>25532</td>\n",
       "      <td>365</td>\n",
       "      <td>27517366</td>\n",
       "      <td>Helsinki</td>\n",
       "      <td>Helsingfors</td>\n",
       "      <td>091</td>\n",
       "      <td>POLYGON ((402250.000 6685750.000, 402024.224 6...</td>\n",
       "    </tr>\n",
       "    <tr>\n",
       "      <th>1</th>\n",
       "      <td>29456</td>\n",
       "      <td>41</td>\n",
       "      <td>29462</td>\n",
       "      <td>46</td>\n",
       "      <td>5876275</td>\n",
       "      <td>29866</td>\n",
       "      <td>74</td>\n",
       "      <td>95</td>\n",
       "      <td>24860</td>\n",
       "      <td>75</td>\n",
       "      <td>93</td>\n",
       "      <td>5975375</td>\n",
       "      <td>25408</td>\n",
       "      <td>363</td>\n",
       "      <td>27517366</td>\n",
       "      <td>Helsinki</td>\n",
       "      <td>Helsingfors</td>\n",
       "      <td>091</td>\n",
       "      <td>POLYGON ((402367.890 6685750.000, 402250.000 6...</td>\n",
       "    </tr>\n",
       "    <tr>\n",
       "      <th>2</th>\n",
       "      <td>36772</td>\n",
       "      <td>50</td>\n",
       "      <td>36778</td>\n",
       "      <td>56</td>\n",
       "      <td>5876278</td>\n",
       "      <td>33541</td>\n",
       "      <td>116</td>\n",
       "      <td>137</td>\n",
       "      <td>44265</td>\n",
       "      <td>130</td>\n",
       "      <td>146</td>\n",
       "      <td>5975375</td>\n",
       "      <td>31110</td>\n",
       "      <td>444</td>\n",
       "      <td>27517366</td>\n",
       "      <td>Helsinki</td>\n",
       "      <td>Helsingfors</td>\n",
       "      <td>091</td>\n",
       "      <td>POLYGON ((403250.000 6685750.000, 403148.515 6...</td>\n",
       "    </tr>\n",
       "    <tr>\n",
       "      <th>3</th>\n",
       "      <td>36898</td>\n",
       "      <td>49</td>\n",
       "      <td>36904</td>\n",
       "      <td>56</td>\n",
       "      <td>5876279</td>\n",
       "      <td>33720</td>\n",
       "      <td>119</td>\n",
       "      <td>141</td>\n",
       "      <td>44444</td>\n",
       "      <td>132</td>\n",
       "      <td>155</td>\n",
       "      <td>5975375</td>\n",
       "      <td>31289</td>\n",
       "      <td>447</td>\n",
       "      <td>27517366</td>\n",
       "      <td>Helsinki</td>\n",
       "      <td>Helsingfors</td>\n",
       "      <td>091</td>\n",
       "      <td>POLYGON ((403456.484 6685750.000, 403250.000 6...</td>\n",
       "    </tr>\n",
       "    <tr>\n",
       "      <th>4</th>\n",
       "      <td>29411</td>\n",
       "      <td>40</td>\n",
       "      <td>29418</td>\n",
       "      <td>44</td>\n",
       "      <td>5878128</td>\n",
       "      <td>29944</td>\n",
       "      <td>75</td>\n",
       "      <td>95</td>\n",
       "      <td>24938</td>\n",
       "      <td>76</td>\n",
       "      <td>99</td>\n",
       "      <td>5975375</td>\n",
       "      <td>25486</td>\n",
       "      <td>364</td>\n",
       "      <td>27517366</td>\n",
       "      <td>Helsinki</td>\n",
       "      <td>Helsingfors</td>\n",
       "      <td>091</td>\n",
       "      <td>POLYGON ((402000.000 6685500.000, 401900.425 6...</td>\n",
       "    </tr>\n",
       "  </tbody>\n",
       "</table>\n",
       "</div>"
      ],
      "text/plain": [
       "   car_m_d  car_m_t  car_r_d  car_r_t  from_id  pt_m_d  pt_m_t  pt_m_tt  \\\n",
       "0    29476       41    29483       46  5876274   29990      76       95   \n",
       "1    29456       41    29462       46  5876275   29866      74       95   \n",
       "2    36772       50    36778       56  5876278   33541     116      137   \n",
       "3    36898       49    36904       56  5876279   33720     119      141   \n",
       "4    29411       40    29418       44  5878128   29944      75       95   \n",
       "\n",
       "   pt_r_d  pt_r_t  pt_r_tt    to_id  walk_d  walk_t    GML_ID   NAMEFIN  \\\n",
       "0   24984      77       99  5975375   25532     365  27517366  Helsinki   \n",
       "1   24860      75       93  5975375   25408     363  27517366  Helsinki   \n",
       "2   44265     130      146  5975375   31110     444  27517366  Helsinki   \n",
       "3   44444     132      155  5975375   31289     447  27517366  Helsinki   \n",
       "4   24938      76       99  5975375   25486     364  27517366  Helsinki   \n",
       "\n",
       "       NAMESWE NATCODE                                           geometry  \n",
       "0  Helsingfors     091  POLYGON ((402250.000 6685750.000, 402024.224 6...  \n",
       "1  Helsingfors     091  POLYGON ((402367.890 6685750.000, 402250.000 6...  \n",
       "2  Helsingfors     091  POLYGON ((403250.000 6685750.000, 403148.515 6...  \n",
       "3  Helsingfors     091  POLYGON ((403456.484 6685750.000, 403250.000 6...  \n",
       "4  Helsingfors     091  POLYGON ((402000.000 6685500.000, 401900.425 6...  "
      ]
     },
     "execution_count": 1,
     "metadata": {},
     "output_type": "execute_result"
    }
   ],
   "source": [
    "import geopandas as gpd\n",
    "\n",
    "fp = 'L4_data/TravelTimes_to_5975375_RailwayStation_Helsinky_test.geojson'\n",
    "acc = gpd.read_file(fp)\n",
    "acc.head()"
   ]
  },
  {
   "cell_type": "code",
   "execution_count": 2,
   "metadata": {},
   "outputs": [
    {
     "data": {
      "text/html": [
       "<div>\n",
       "<style scoped>\n",
       "    .dataframe tbody tr th:only-of-type {\n",
       "        vertical-align: middle;\n",
       "    }\n",
       "\n",
       "    .dataframe tbody tr th {\n",
       "        vertical-align: top;\n",
       "    }\n",
       "\n",
       "    .dataframe thead th {\n",
       "        text-align: right;\n",
       "    }\n",
       "</style>\n",
       "<table border=\"1\" class=\"dataframe\">\n",
       "  <thead>\n",
       "    <tr style=\"text-align: right;\">\n",
       "      <th></th>\n",
       "      <th>car_m_d</th>\n",
       "      <th>car_m_t</th>\n",
       "      <th>car_r_d</th>\n",
       "      <th>car_r_t</th>\n",
       "      <th>from_id</th>\n",
       "      <th>pt_m_d</th>\n",
       "      <th>pt_m_t</th>\n",
       "      <th>pt_m_tt</th>\n",
       "      <th>pt_r_d</th>\n",
       "      <th>pt_r_t</th>\n",
       "      <th>pt_r_tt</th>\n",
       "      <th>to_id</th>\n",
       "      <th>walk_d</th>\n",
       "      <th>walk_t</th>\n",
       "      <th>GML_ID</th>\n",
       "      <th>NAMEFIN</th>\n",
       "      <th>NAMESWE</th>\n",
       "      <th>NATCODE</th>\n",
       "      <th>geometry</th>\n",
       "    </tr>\n",
       "  </thead>\n",
       "  <tbody>\n",
       "    <tr>\n",
       "      <th>0</th>\n",
       "      <td>29476</td>\n",
       "      <td>41</td>\n",
       "      <td>29483</td>\n",
       "      <td>46</td>\n",
       "      <td>5876274</td>\n",
       "      <td>29990</td>\n",
       "      <td>76</td>\n",
       "      <td>95</td>\n",
       "      <td>24984</td>\n",
       "      <td>77</td>\n",
       "      <td>99</td>\n",
       "      <td>5975375</td>\n",
       "      <td>25532</td>\n",
       "      <td>365</td>\n",
       "      <td>27517366</td>\n",
       "      <td>Helsinki</td>\n",
       "      <td>Helsingfors</td>\n",
       "      <td>091</td>\n",
       "      <td>POLYGON ((402250.000 6685750.000, 402024.224 6...</td>\n",
       "    </tr>\n",
       "    <tr>\n",
       "      <th>1</th>\n",
       "      <td>29456</td>\n",
       "      <td>41</td>\n",
       "      <td>29462</td>\n",
       "      <td>46</td>\n",
       "      <td>5876275</td>\n",
       "      <td>29866</td>\n",
       "      <td>74</td>\n",
       "      <td>95</td>\n",
       "      <td>24860</td>\n",
       "      <td>75</td>\n",
       "      <td>93</td>\n",
       "      <td>5975375</td>\n",
       "      <td>25408</td>\n",
       "      <td>363</td>\n",
       "      <td>27517366</td>\n",
       "      <td>Helsinki</td>\n",
       "      <td>Helsingfors</td>\n",
       "      <td>091</td>\n",
       "      <td>POLYGON ((402367.890 6685750.000, 402250.000 6...</td>\n",
       "    </tr>\n",
       "    <tr>\n",
       "      <th>2</th>\n",
       "      <td>36772</td>\n",
       "      <td>50</td>\n",
       "      <td>36778</td>\n",
       "      <td>56</td>\n",
       "      <td>5876278</td>\n",
       "      <td>33541</td>\n",
       "      <td>116</td>\n",
       "      <td>137</td>\n",
       "      <td>44265</td>\n",
       "      <td>130</td>\n",
       "      <td>146</td>\n",
       "      <td>5975375</td>\n",
       "      <td>31110</td>\n",
       "      <td>444</td>\n",
       "      <td>27517366</td>\n",
       "      <td>Helsinki</td>\n",
       "      <td>Helsingfors</td>\n",
       "      <td>091</td>\n",
       "      <td>POLYGON ((403250.000 6685750.000, 403148.515 6...</td>\n",
       "    </tr>\n",
       "    <tr>\n",
       "      <th>3</th>\n",
       "      <td>36898</td>\n",
       "      <td>49</td>\n",
       "      <td>36904</td>\n",
       "      <td>56</td>\n",
       "      <td>5876279</td>\n",
       "      <td>33720</td>\n",
       "      <td>119</td>\n",
       "      <td>141</td>\n",
       "      <td>44444</td>\n",
       "      <td>132</td>\n",
       "      <td>155</td>\n",
       "      <td>5975375</td>\n",
       "      <td>31289</td>\n",
       "      <td>447</td>\n",
       "      <td>27517366</td>\n",
       "      <td>Helsinki</td>\n",
       "      <td>Helsingfors</td>\n",
       "      <td>091</td>\n",
       "      <td>POLYGON ((403456.484 6685750.000, 403250.000 6...</td>\n",
       "    </tr>\n",
       "    <tr>\n",
       "      <th>4</th>\n",
       "      <td>29411</td>\n",
       "      <td>40</td>\n",
       "      <td>29418</td>\n",
       "      <td>44</td>\n",
       "      <td>5878128</td>\n",
       "      <td>29944</td>\n",
       "      <td>75</td>\n",
       "      <td>95</td>\n",
       "      <td>24938</td>\n",
       "      <td>76</td>\n",
       "      <td>99</td>\n",
       "      <td>5975375</td>\n",
       "      <td>25486</td>\n",
       "      <td>364</td>\n",
       "      <td>27517366</td>\n",
       "      <td>Helsinki</td>\n",
       "      <td>Helsingfors</td>\n",
       "      <td>091</td>\n",
       "      <td>POLYGON ((402000.000 6685500.000, 401900.425 6...</td>\n",
       "    </tr>\n",
       "  </tbody>\n",
       "</table>\n",
       "</div>"
      ],
      "text/plain": [
       "   car_m_d  car_m_t  car_r_d  car_r_t  from_id  pt_m_d  pt_m_t  pt_m_tt  \\\n",
       "0    29476       41    29483       46  5876274   29990      76       95   \n",
       "1    29456       41    29462       46  5876275   29866      74       95   \n",
       "2    36772       50    36778       56  5876278   33541     116      137   \n",
       "3    36898       49    36904       56  5876279   33720     119      141   \n",
       "4    29411       40    29418       44  5878128   29944      75       95   \n",
       "\n",
       "   pt_r_d  pt_r_t  pt_r_tt    to_id  walk_d  walk_t    GML_ID   NAMEFIN  \\\n",
       "0   24984      77       99  5975375   25532     365  27517366  Helsinki   \n",
       "1   24860      75       93  5975375   25408     363  27517366  Helsinki   \n",
       "2   44265     130      146  5975375   31110     444  27517366  Helsinki   \n",
       "3   44444     132      155  5975375   31289     447  27517366  Helsinki   \n",
       "4   24938      76       99  5975375   25486     364  27517366  Helsinki   \n",
       "\n",
       "       NAMESWE NATCODE                                           geometry  \n",
       "0  Helsingfors     091  POLYGON ((402250.000 6685750.000, 402024.224 6...  \n",
       "1  Helsingfors     091  POLYGON ((402367.890 6685750.000, 402250.000 6...  \n",
       "2  Helsingfors     091  POLYGON ((403250.000 6685750.000, 403148.515 6...  \n",
       "3  Helsingfors     091  POLYGON ((403456.484 6685750.000, 403250.000 6...  \n",
       "4  Helsingfors     091  POLYGON ((402000.000 6685500.000, 401900.425 6...  "
      ]
     },
     "execution_count": 2,
     "metadata": {},
     "output_type": "execute_result"
    }
   ],
   "source": [
    "acc = acc.loc[acc['pt_r_tt'] >= 0]\n",
    "acc.head()"
   ]
  },
  {
   "cell_type": "code",
   "execution_count": 3,
   "metadata": {},
   "outputs": [
    {
     "data": {
      "text/plain": [
       "<AxesSubplot:>"
      ]
     },
     "execution_count": 3,
     "metadata": {},
     "output_type": "execute_result"
    },
    {
     "data": {
      "image/png": "[encoded data removed]",
      "text/plain": [
       "<Figure size 432x288 with 1 Axes>"
      ]
     },
     "metadata": {
      "needs_background": "light"
     },
     "output_type": "display_data"
    }
   ],
   "source": [
    "import matplotlib.pyplot as plt\n",
    "\n",
    "acc.plot(column='pt_r_tt', scheme='NaturalBreaks', k=9, cmap='RdYlBu', legend=True)"
   ]
  },
  {
   "cell_type": "code",
   "execution_count": 4,
   "metadata": {},
   "outputs": [
    {
     "data": {
      "text/plain": [
       "<AxesSubplot:>"
      ]
     },
     "execution_count": 4,
     "metadata": {},
     "output_type": "execute_result"
    },
    {
     "data": {
      "image/png": "[encoded data removed]",
      "text/plain": [
       "<Figure size 432x288 with 1 Axes>"
      ]
     },
     "metadata": {
      "needs_background": "light"
     },
     "output_type": "display_data"
    }
   ],
   "source": [
    "acc.plot(column='walk_d', scheme='NaturalBreaks', k=9, cmap='RdYlBu', legend=True)"
   ]
  },
  {
   "cell_type": "code",
   "execution_count": 6,
   "metadata": {},
   "outputs": [],
   "source": [
    "import mapclassify"
   ]
  },
  {
   "cell_type": "code",
   "execution_count": 7,
   "metadata": {},
   "outputs": [
    {
     "data": {
      "text/plain": [
       "NaturalBreaks           \n",
       "\n",
       "    Interval       Count\n",
       "------------------------\n",
       "[  0.00,  19.00] |   196\n",
       "( 19.00,  28.00] |   437\n",
       "( 28.00,  36.00] |   809\n",
       "( 36.00,  44.00] |   950\n",
       "( 44.00,  54.00] |   605\n",
       "( 54.00,  64.00] |   371\n",
       "( 64.00,  77.00] |   208\n",
       "( 77.00,  94.00] |   174\n",
       "( 94.00, 155.00] |    57"
      ]
     },
     "execution_count": 7,
     "metadata": {},
     "output_type": "execute_result"
    }
   ],
   "source": [
    "mapclassify.NaturalBreaks(y=acc['pt_r_tt'], k=9)"
   ]
  },
  {
   "cell_type": "code",
   "execution_count": 8,
   "metadata": {},
   "outputs": [
    {
     "data": {
      "text/plain": [
       "Quantiles               \n",
       "\n",
       "    Interval       Count\n",
       "------------------------\n",
       "[  0.00,  30.00] |   792\n",
       "( 30.00,  37.00] |   779\n",
       "( 37.00,  44.00] |   821\n",
       "( 44.00,  56.00] |   685\n",
       "( 56.00, 155.00] |   730"
      ]
     },
     "execution_count": 8,
     "metadata": {},
     "output_type": "execute_result"
    }
   ],
   "source": [
    "mapclassify.Quantiles(y=acc['pt_r_tt'])"
   ]
  },
  {
   "cell_type": "code",
   "execution_count": 11,
   "metadata": {},
   "outputs": [
    {
     "data": {
      "text/plain": [
       "array([ 21.,  31.,  39.,  46.,  55.,  66.,  79.,  95., 155.])"
      ]
     },
     "execution_count": 11,
     "metadata": {},
     "output_type": "execute_result"
    }
   ],
   "source": [
    "classifier = mapclassify.NaturalBreaks(y=acc['pt_r_tt'], k=9)\n",
    "classifier.bins"
   ]
  },
  {
   "cell_type": "code",
   "execution_count": 12,
   "metadata": {},
   "outputs": [],
   "source": [
    "# Create a natural breaks classifier using the make method of mapclassifiy.NaturalBreaks\n",
    "classifier = mapclassify.NaturalBreaks.make(k=9)"
   ]
  },
  {
   "cell_type": "code",
   "execution_count": 20,
   "metadata": {},
   "outputs": [
    {
     "data": {
      "text/html": [
       "<div>\n",
       "<style scoped>\n",
       "    .dataframe tbody tr th:only-of-type {\n",
       "        vertical-align: middle;\n",
       "    }\n",
       "\n",
       "    .dataframe tbody tr th {\n",
       "        vertical-align: top;\n",
       "    }\n",
       "\n",
       "    .dataframe thead th {\n",
       "        text-align: right;\n",
       "    }\n",
       "</style>\n",
       "<table border=\"1\" class=\"dataframe\">\n",
       "  <thead>\n",
       "    <tr style=\"text-align: right;\">\n",
       "      <th></th>\n",
       "      <th>pt_r_tt</th>\n",
       "    </tr>\n",
       "  </thead>\n",
       "  <tbody>\n",
       "    <tr>\n",
       "      <th>0</th>\n",
       "      <td>8</td>\n",
       "    </tr>\n",
       "    <tr>\n",
       "      <th>1</th>\n",
       "      <td>7</td>\n",
       "    </tr>\n",
       "    <tr>\n",
       "      <th>2</th>\n",
       "      <td>8</td>\n",
       "    </tr>\n",
       "    <tr>\n",
       "      <th>3</th>\n",
       "      <td>8</td>\n",
       "    </tr>\n",
       "    <tr>\n",
       "      <th>4</th>\n",
       "      <td>8</td>\n",
       "    </tr>\n",
       "  </tbody>\n",
       "</table>\n",
       "</div>"
      ],
      "text/plain": [
       "   pt_r_tt\n",
       "0        8\n",
       "1        7\n",
       "2        8\n",
       "3        8\n",
       "4        8"
      ]
     },
     "execution_count": 20,
     "metadata": {},
     "output_type": "execute_result"
    }
   ],
   "source": [
    "classifications = acc[['pt_r_tt']].apply(classifier)\n",
    "classifications.head()"
   ]
  },
  {
   "cell_type": "code",
   "execution_count": 21,
   "metadata": {},
   "outputs": [
    {
     "data": {
      "text/plain": [
       "pandas.core.frame.DataFrame"
      ]
     },
     "execution_count": 21,
     "metadata": {},
     "output_type": "execute_result"
    }
   ],
   "source": [
    "type(classifications)"
   ]
  },
  {
   "cell_type": "code",
   "execution_count": 23,
   "metadata": {},
   "outputs": [
    {
     "data": {
      "text/html": [
       "<div>\n",
       "<style scoped>\n",
       "    .dataframe tbody tr th:only-of-type {\n",
       "        vertical-align: middle;\n",
       "    }\n",
       "\n",
       "    .dataframe tbody tr th {\n",
       "        vertical-align: top;\n",
       "    }\n",
       "\n",
       "    .dataframe thead th {\n",
       "        text-align: right;\n",
       "    }\n",
       "</style>\n",
       "<table border=\"1\" class=\"dataframe\">\n",
       "  <thead>\n",
       "    <tr style=\"text-align: right;\">\n",
       "      <th></th>\n",
       "      <th>pt_r_tt</th>\n",
       "      <th>nb_pt_r_tt</th>\n",
       "    </tr>\n",
       "  </thead>\n",
       "  <tbody>\n",
       "    <tr>\n",
       "      <th>0</th>\n",
       "      <td>99</td>\n",
       "      <td>8</td>\n",
       "    </tr>\n",
       "    <tr>\n",
       "      <th>1</th>\n",
       "      <td>93</td>\n",
       "      <td>7</td>\n",
       "    </tr>\n",
       "    <tr>\n",
       "      <th>2</th>\n",
       "      <td>146</td>\n",
       "      <td>8</td>\n",
       "    </tr>\n",
       "    <tr>\n",
       "      <th>3</th>\n",
       "      <td>155</td>\n",
       "      <td>8</td>\n",
       "    </tr>\n",
       "    <tr>\n",
       "      <th>4</th>\n",
       "      <td>99</td>\n",
       "      <td>8</td>\n",
       "    </tr>\n",
       "  </tbody>\n",
       "</table>\n",
       "</div>"
      ],
      "text/plain": [
       "   pt_r_tt  nb_pt_r_tt\n",
       "0       99           8\n",
       "1       93           7\n",
       "2      146           8\n",
       "3      155           8\n",
       "4       99           8"
      ]
     },
     "execution_count": 23,
     "metadata": {},
     "output_type": "execute_result"
    }
   ],
   "source": [
    "acc['nb_pt_r_tt'] = acc[['pt_r_tt']].apply(classifier)\n",
    "acc[['pt_r_tt', 'nb_pt_r_tt']].head()"
   ]
  },
  {
   "cell_type": "code",
   "execution_count": 26,
   "metadata": {},
   "outputs": [
    {
     "data": {
      "text/plain": [
       "<AxesSubplot:>"
      ]
     },
     "execution_count": 26,
     "metadata": {},
     "output_type": "execute_result"
    },
    {
     "data": {
      "image/png": "[encoded data removed]",
      "text/plain": [
       "<Figure size 432x288 with 2 Axes>"
      ]
     },
     "metadata": {
      "needs_background": "light"
     },
     "output_type": "display_data"
    }
   ],
   "source": [
    "acc.plot(column='nb_pt_r_tt', legend=True)"
   ]
  },
  {
   "cell_type": "code",
   "execution_count": 28,
   "metadata": {},
   "outputs": [
    {
     "data": {
      "text/plain": [
       "<AxesSubplot:ylabel='Frequency'>"
      ]
     },
     "execution_count": 28,
     "metadata": {},
     "output_type": "execute_result"
    },
    {
     "data": {
      "image/png": "[encoded data removed]",
      "text/plain": [
       "<Figure size 432x288 with 1 Axes>"
      ]
     },
     "metadata": {
      "needs_background": "light"
     },
     "output_type": "display_data"
    }
   ],
   "source": [
    "acc['pt_r_tt'].plot.hist(bins=50)"
   ]
  },
  {
   "cell_type": "code",
   "execution_count": 37,
   "metadata": {},
   "outputs": [
    {
     "data": {
      "image/png": "[encoded data removed]",
      "text/plain": [
       "<Figure size 432x288 with 1 Axes>"
      ]
     },
     "metadata": {
      "needs_background": "light"
     },
     "output_type": "display_data"
    }
   ],
   "source": [
    "classifier = mapclassify.NaturalBreaks(y=acc['pt_r_tt'], k=9)\n",
    "acc['pt_r_tt'].plot.hist(bins=50)\n",
    "\n",
    "for nbin in classifier.bins:\n",
    "    plt.axvline(nbin, color='k', linestyle='dashed')"
   ]
  },
  {
   "cell_type": "code",
   "execution_count": 36,
   "metadata": {},
   "outputs": [
    {
     "data": {
      "image/png": "[encoded data removed]",
      "text/plain": [
       "<Figure size 432x288 with 1 Axes>"
      ]
     },
     "metadata": {
      "needs_background": "light"
     },
     "output_type": "display_data"
    }
   ],
   "source": [
    "classifier = mapclassify.Quantiles(y=acc['pt_r_tt'], k=9)\n",
    "acc['pt_r_tt'].plot.hist(bins=50)\n",
    "\n",
    "for nbin in classifier.bins:\n",
    "    plt.axvline(nbin, color='k', linestyle='dashed')"
   ]
  },
  {
   "cell_type": "code",
   "execution_count": 38,
   "metadata": {},
   "outputs": [],
   "source": [
    "col = 'car_r_t'"
   ]
  },
  {
   "cell_type": "code",
   "execution_count": 41,
   "metadata": {},
   "outputs": [
    {
     "data": {
      "text/plain": [
       "<AxesSubplot:>"
      ]
     },
     "execution_count": 41,
     "metadata": {},
     "output_type": "execute_result"
    },
    {
     "data": {
      "image/png": "[encoded data removed]",
      "text/plain": [
       "<Figure size 432x288 with 1 Axes>"
      ]
     },
     "metadata": {
      "needs_background": "light"
     },
     "output_type": "display_data"
    }
   ],
   "source": [
    "acc.plot(column=col, scheme='NaturalBreaks', legend=True)"
   ]
  },
  {
   "cell_type": "code",
   "execution_count": 48,
   "metadata": {},
   "outputs": [
    {
     "data": {
      "image/png": "[encoded data removed]",
      "text/plain": [
       "<Figure size 432x288 with 1 Axes>"
      ]
     },
     "metadata": {
      "needs_background": "light"
     },
     "output_type": "display_data"
    }
   ],
   "source": [
    "classifier = mapclassify.NaturalBreaks(y=acc[col], k=9)\n",
    "acc[col].plot.hist(bins=50)\n",
    "for nbin in classifier.bins:\n",
    "    plt.axvline(nbin, color='k', linestyle='dashed')"
   ]
  },
  {
   "cell_type": "code",
   "execution_count": 49,
   "metadata": {},
   "outputs": [
    {
     "data": {
      "image/png": "[encoded data removed]",
      "text/plain": [
       "<Figure size 432x288 with 1 Axes>"
      ]
     },
     "metadata": {
      "needs_background": "light"
     },
     "output_type": "display_data"
    }
   ],
   "source": [
    "classifier = mapclassify.Quantiles(y=acc[col], k=9)\n",
    "acc[col].plot.hist(bins=50)\n",
    "for nbin in classifier.bins:\n",
    "    plt.axvline(nbin, color='k', linestyle='dashed')"
   ]
  },
  {
   "cell_type": "code",
   "execution_count": 61,
   "metadata": {},
   "outputs": [],
   "source": [
    "def custom_classifier(row, src_col1, src_col2, threshold1, threshold2, output_col):\n",
    "    \"\"\"Custom classifier that can be applied on each row of a pandas dataframe (axis=1).\n",
    "    \n",
    "    This function classifies data based on values in two source colunmns and stores the output value\n",
    "    in the output column.\n",
    "    Output values is 1 if the value in src_col1 is LOWER than the threshold1 values AND the value in src_col2\n",
    "    is HIGHER than the threshold2 value.\n",
    "    In all other cases, otuput value is 0\n",
    "    \n",
    "    Args:\n",
    "        row: one row of data\n",
    "        src_col1: source column name associated with threshold1\n",
    "        src_col2: source column name associated with threshold2\n",
    "        threshold1: upper threshold value for src_col1\n",
    "        threshold2: lower threshold value for src_col2\n",
    "        output_col: output column name\n",
    "        \n",
    "    Returns:\n",
    "        update row of data.\n",
    "    \"\"\"\n",
    "    row[output_col] = 1 if row[src_col1] < threshold1 and row[src_col2] > threshold2 else 0\n",
    "    return row\n",
    "    "
   ]
  },
  {
   "cell_type": "code",
   "execution_count": 63,
   "metadata": {},
   "outputs": [
    {
     "data": {
      "text/html": [
       "<div>\n",
       "<style scoped>\n",
       "    .dataframe tbody tr th:only-of-type {\n",
       "        vertical-align: middle;\n",
       "    }\n",
       "\n",
       "    .dataframe tbody tr th {\n",
       "        vertical-align: top;\n",
       "    }\n",
       "\n",
       "    .dataframe thead th {\n",
       "        text-align: right;\n",
       "    }\n",
       "</style>\n",
       "<table border=\"1\" class=\"dataframe\">\n",
       "  <thead>\n",
       "    <tr style=\"text-align: right;\">\n",
       "      <th></th>\n",
       "      <th>car_m_d</th>\n",
       "      <th>car_m_t</th>\n",
       "      <th>car_r_d</th>\n",
       "      <th>car_r_t</th>\n",
       "      <th>from_id</th>\n",
       "      <th>pt_m_d</th>\n",
       "      <th>pt_m_t</th>\n",
       "      <th>pt_m_tt</th>\n",
       "      <th>pt_r_d</th>\n",
       "      <th>pt_r_t</th>\n",
       "      <th>...</th>\n",
       "      <th>to_id</th>\n",
       "      <th>walk_d</th>\n",
       "      <th>walk_t</th>\n",
       "      <th>GML_ID</th>\n",
       "      <th>NAMEFIN</th>\n",
       "      <th>NAMESWE</th>\n",
       "      <th>NATCODE</th>\n",
       "      <th>geometry</th>\n",
       "      <th>nb_pt_r_tt</th>\n",
       "      <th>suitable_area</th>\n",
       "    </tr>\n",
       "  </thead>\n",
       "  <tbody>\n",
       "    <tr>\n",
       "      <th>0</th>\n",
       "      <td>29476</td>\n",
       "      <td>41</td>\n",
       "      <td>29483</td>\n",
       "      <td>46</td>\n",
       "      <td>5876274</td>\n",
       "      <td>29990</td>\n",
       "      <td>76</td>\n",
       "      <td>95</td>\n",
       "      <td>24984</td>\n",
       "      <td>77</td>\n",
       "      <td>...</td>\n",
       "      <td>5975375</td>\n",
       "      <td>25532</td>\n",
       "      <td>365</td>\n",
       "      <td>27517366</td>\n",
       "      <td>Helsinki</td>\n",
       "      <td>Helsingfors</td>\n",
       "      <td>091</td>\n",
       "      <td>POLYGON ((402250.000 6685750.000, 402024.224 6...</td>\n",
       "      <td>8</td>\n",
       "      <td>0</td>\n",
       "    </tr>\n",
       "    <tr>\n",
       "      <th>1</th>\n",
       "      <td>29456</td>\n",
       "      <td>41</td>\n",
       "      <td>29462</td>\n",
       "      <td>46</td>\n",
       "      <td>5876275</td>\n",
       "      <td>29866</td>\n",
       "      <td>74</td>\n",
       "      <td>95</td>\n",
       "      <td>24860</td>\n",
       "      <td>75</td>\n",
       "      <td>...</td>\n",
       "      <td>5975375</td>\n",
       "      <td>25408</td>\n",
       "      <td>363</td>\n",
       "      <td>27517366</td>\n",
       "      <td>Helsinki</td>\n",
       "      <td>Helsingfors</td>\n",
       "      <td>091</td>\n",
       "      <td>POLYGON ((402367.890 6685750.000, 402250.000 6...</td>\n",
       "      <td>7</td>\n",
       "      <td>0</td>\n",
       "    </tr>\n",
       "    <tr>\n",
       "      <th>2</th>\n",
       "      <td>36772</td>\n",
       "      <td>50</td>\n",
       "      <td>36778</td>\n",
       "      <td>56</td>\n",
       "      <td>5876278</td>\n",
       "      <td>33541</td>\n",
       "      <td>116</td>\n",
       "      <td>137</td>\n",
       "      <td>44265</td>\n",
       "      <td>130</td>\n",
       "      <td>...</td>\n",
       "      <td>5975375</td>\n",
       "      <td>31110</td>\n",
       "      <td>444</td>\n",
       "      <td>27517366</td>\n",
       "      <td>Helsinki</td>\n",
       "      <td>Helsingfors</td>\n",
       "      <td>091</td>\n",
       "      <td>POLYGON ((403250.000 6685750.000, 403148.515 6...</td>\n",
       "      <td>8</td>\n",
       "      <td>0</td>\n",
       "    </tr>\n",
       "    <tr>\n",
       "      <th>3</th>\n",
       "      <td>36898</td>\n",
       "      <td>49</td>\n",
       "      <td>36904</td>\n",
       "      <td>56</td>\n",
       "      <td>5876279</td>\n",
       "      <td>33720</td>\n",
       "      <td>119</td>\n",
       "      <td>141</td>\n",
       "      <td>44444</td>\n",
       "      <td>132</td>\n",
       "      <td>...</td>\n",
       "      <td>5975375</td>\n",
       "      <td>31289</td>\n",
       "      <td>447</td>\n",
       "      <td>27517366</td>\n",
       "      <td>Helsinki</td>\n",
       "      <td>Helsingfors</td>\n",
       "      <td>091</td>\n",
       "      <td>POLYGON ((403456.484 6685750.000, 403250.000 6...</td>\n",
       "      <td>8</td>\n",
       "      <td>0</td>\n",
       "    </tr>\n",
       "    <tr>\n",
       "      <th>4</th>\n",
       "      <td>29411</td>\n",
       "      <td>40</td>\n",
       "      <td>29418</td>\n",
       "      <td>44</td>\n",
       "      <td>5878128</td>\n",
       "      <td>29944</td>\n",
       "      <td>75</td>\n",
       "      <td>95</td>\n",
       "      <td>24938</td>\n",
       "      <td>76</td>\n",
       "      <td>...</td>\n",
       "      <td>5975375</td>\n",
       "      <td>25486</td>\n",
       "      <td>364</td>\n",
       "      <td>27517366</td>\n",
       "      <td>Helsinki</td>\n",
       "      <td>Helsingfors</td>\n",
       "      <td>091</td>\n",
       "      <td>POLYGON ((402000.000 6685500.000, 401900.425 6...</td>\n",
       "      <td>8</td>\n",
       "      <td>0</td>\n",
       "    </tr>\n",
       "  </tbody>\n",
       "</table>\n",
       "<p>5 rows × 21 columns</p>\n",
       "</div>"
      ],
      "text/plain": [
       "   car_m_d  car_m_t  car_r_d  car_r_t  from_id  pt_m_d  pt_m_t  pt_m_tt  \\\n",
       "0    29476       41    29483       46  5876274   29990      76       95   \n",
       "1    29456       41    29462       46  5876275   29866      74       95   \n",
       "2    36772       50    36778       56  5876278   33541     116      137   \n",
       "3    36898       49    36904       56  5876279   33720     119      141   \n",
       "4    29411       40    29418       44  5878128   29944      75       95   \n",
       "\n",
       "   pt_r_d  pt_r_t  ...    to_id  walk_d  walk_t    GML_ID   NAMEFIN  \\\n",
       "0   24984      77  ...  5975375   25532     365  27517366  Helsinki   \n",
       "1   24860      75  ...  5975375   25408     363  27517366  Helsinki   \n",
       "2   44265     130  ...  5975375   31110     444  27517366  Helsinki   \n",
       "3   44444     132  ...  5975375   31289     447  27517366  Helsinki   \n",
       "4   24938      76  ...  5975375   25486     364  27517366  Helsinki   \n",
       "\n",
       "       NAMESWE NATCODE                                           geometry  \\\n",
       "0  Helsingfors     091  POLYGON ((402250.000 6685750.000, 402024.224 6...   \n",
       "1  Helsingfors     091  POLYGON ((402367.890 6685750.000, 402250.000 6...   \n",
       "2  Helsingfors     091  POLYGON ((403250.000 6685750.000, 403148.515 6...   \n",
       "3  Helsingfors     091  POLYGON ((403456.484 6685750.000, 403250.000 6...   \n",
       "4  Helsingfors     091  POLYGON ((402000.000 6685500.000, 401900.425 6...   \n",
       "\n",
       "  nb_pt_r_tt  suitable_area  \n",
       "0          8              0  \n",
       "1          7              0  \n",
       "2          8              0  \n",
       "3          8              0  \n",
       "4          8              0  \n",
       "\n",
       "[5 rows x 21 columns]"
      ]
     },
     "execution_count": 63,
     "metadata": {},
     "output_type": "execute_result"
    }
   ],
   "source": [
    "acc['suitable_area'] = None\n",
    "acc = acc.apply(custom_classifier,\n",
    "          src_col1='pt_r_tt',\n",
    "          src_col2='walk_d',\n",
    "          threshold1=20,\n",
    "          threshold2=4000,\n",
    "          output_col='suitable_area',\n",
    "          axis=1)\n",
    "\n",
    "acc.head()"
   ]
  },
  {
   "cell_type": "code",
   "execution_count": 66,
   "metadata": {},
   "outputs": [
    {
     "data": {
      "text/plain": [
       "0    3798\n",
       "1       9\n",
       "Name: suitable_area, dtype: int64"
      ]
     },
     "execution_count": 66,
     "metadata": {},
     "output_type": "execute_result"
    }
   ],
   "source": [
    "acc['suitable_area'].value_counts()"
   ]
  },
  {
   "cell_type": "code",
   "execution_count": 67,
   "metadata": {},
   "outputs": [
    {
     "data": {
      "image/png": "[encoded data removed]",
      "text/plain": [
       "<Figure size 432x288 with 2 Axes>"
      ]
     },
     "metadata": {
      "needs_background": "light"
     },
     "output_type": "display_data"
    }
   ],
   "source": [
    "acc.plot(column='suitable_area', legend=True)\n",
    "plt.tight_layout()"
   ]
  },
  {
   "cell_type": "code",
   "execution_count": null,
   "metadata": {},
   "outputs": [],
   "source": []
  }
 ],
 "metadata": {
  "kernelspec": {
   "display_name": "Python 3",
   "language": "python",
   "name": "python3"
  },
  "language_info": {
   "codemirror_mode": {
    "name": "ipython",
    "version": 3
   },
   "file_extension": ".py",
   "mimetype": "text/x-python",
   "name": "python",
   "nbconvert_exporter": "python",
   "pygments_lexer": "ipython3",
   "version": "3.6.10"
  }
 },
 "nbformat": 4,
 "nbformat_minor": 4
}
