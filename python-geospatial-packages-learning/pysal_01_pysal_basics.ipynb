{
 "cells": [
  {
   "cell_type": "code",
   "execution_count": 1,
   "metadata": {},
   "outputs": [],
   "source": [
    "import fiona\n",
    "import geopandas as gpd\n",
    "import pandas as pd"
   ]
  },
  {
   "cell_type": "code",
   "execution_count": 2,
   "metadata": {},
   "outputs": [
    {
     "data": {
      "text/plain": [
       "['tracts']"
      ]
     },
     "execution_count": 2,
     "metadata": {},
     "output_type": "execute_result"
    }
   ],
   "source": [
    "layers = fiona.listlayers('data/scipy/scag_region.gpkg')\n",
    "layers"
   ]
  },
  {
   "cell_type": "code",
   "execution_count": 3,
   "metadata": {},
   "outputs": [],
   "source": [
    "scag = gpd.read_file('data/scipy/scag_region.gpkg', layer='tracts')"
   ]
  },
  {
   "cell_type": "code",
   "execution_count": 8,
   "metadata": {},
   "outputs": [
    {
     "data": {
      "text/plain": [
       "geopandas.geodataframe.GeoDataFrame"
      ]
     },
     "execution_count": 8,
     "metadata": {},
     "output_type": "execute_result"
    }
   ],
   "source": [
    "type(scag)"
   ]
  },
  {
   "cell_type": "code",
   "execution_count": 9,
   "metadata": {},
   "outputs": [
    {
     "data": {
      "text/html": [
       "<div>\n",
       "<style scoped>\n",
       "    .dataframe tbody tr th:only-of-type {\n",
       "        vertical-align: middle;\n",
       "    }\n",
       "\n",
       "    .dataframe tbody tr th {\n",
       "        vertical-align: top;\n",
       "    }\n",
       "\n",
       "    .dataframe thead th {\n",
       "        text-align: right;\n",
       "    }\n",
       "</style>\n",
       "<table border=\"1\" class=\"dataframe\">\n",
       "  <thead>\n",
       "    <tr style=\"text-align: right;\">\n",
       "      <th></th>\n",
       "      <th>geoid</th>\n",
       "      <th>n_asian_under_15</th>\n",
       "      <th>n_black_under_15</th>\n",
       "      <th>n_hispanic_under_15</th>\n",
       "      <th>n_native_under_15</th>\n",
       "      <th>n_white_under_15</th>\n",
       "      <th>n_persons_under_18</th>\n",
       "      <th>n_asian_over_60</th>\n",
       "      <th>n_black_over_60</th>\n",
       "      <th>n_hispanic_over_60</th>\n",
       "      <th>...</th>\n",
       "      <th>year</th>\n",
       "      <th>n_total_housing_units_sample</th>\n",
       "      <th>p_nonhisp_white_persons</th>\n",
       "      <th>p_white_over_60</th>\n",
       "      <th>p_black_over_60</th>\n",
       "      <th>p_hispanic_over_60</th>\n",
       "      <th>p_native_over_60</th>\n",
       "      <th>p_asian_over_60</th>\n",
       "      <th>p_disabled</th>\n",
       "      <th>geometry</th>\n",
       "    </tr>\n",
       "  </thead>\n",
       "  <tbody>\n",
       "    <tr>\n",
       "      <th>0</th>\n",
       "      <td>06037128702</td>\n",
       "      <td>58.0</td>\n",
       "      <td>0.0</td>\n",
       "      <td>223.0</td>\n",
       "      <td>0.0</td>\n",
       "      <td>475.0</td>\n",
       "      <td>986.0</td>\n",
       "      <td>None</td>\n",
       "      <td>None</td>\n",
       "      <td>None</td>\n",
       "      <td>...</td>\n",
       "      <td>2010</td>\n",
       "      <td>2903.0</td>\n",
       "      <td>64.726214</td>\n",
       "      <td>None</td>\n",
       "      <td>None</td>\n",
       "      <td>None</td>\n",
       "      <td>None</td>\n",
       "      <td>None</td>\n",
       "      <td>None</td>\n",
       "      <td>POLYGON ((-118.44870 34.16485, -118.43997 34.1...</td>\n",
       "    </tr>\n",
       "    <tr>\n",
       "      <th>1</th>\n",
       "      <td>06037131600</td>\n",
       "      <td>83.0</td>\n",
       "      <td>62.0</td>\n",
       "      <td>777.0</td>\n",
       "      <td>0.0</td>\n",
       "      <td>135.0</td>\n",
       "      <td>1355.0</td>\n",
       "      <td>None</td>\n",
       "      <td>None</td>\n",
       "      <td>None</td>\n",
       "      <td>...</td>\n",
       "      <td>2010</td>\n",
       "      <td>1487.0</td>\n",
       "      <td>28.679979</td>\n",
       "      <td>None</td>\n",
       "      <td>None</td>\n",
       "      <td>None</td>\n",
       "      <td>None</td>\n",
       "      <td>None</td>\n",
       "      <td>None</td>\n",
       "      <td>POLYGON ((-118.56229 34.22033, -118.55792 34.2...</td>\n",
       "    </tr>\n",
       "    <tr>\n",
       "      <th>2</th>\n",
       "      <td>06037134104</td>\n",
       "      <td>287.0</td>\n",
       "      <td>17.0</td>\n",
       "      <td>816.0</td>\n",
       "      <td>0.0</td>\n",
       "      <td>61.0</td>\n",
       "      <td>1323.0</td>\n",
       "      <td>None</td>\n",
       "      <td>None</td>\n",
       "      <td>None</td>\n",
       "      <td>...</td>\n",
       "      <td>2010</td>\n",
       "      <td>1388.0</td>\n",
       "      <td>14.846188</td>\n",
       "      <td>None</td>\n",
       "      <td>None</td>\n",
       "      <td>None</td>\n",
       "      <td>None</td>\n",
       "      <td>None</td>\n",
       "      <td>None</td>\n",
       "      <td>POLYGON ((-118.57976 34.21558, -118.57539 34.2...</td>\n",
       "    </tr>\n",
       "    <tr>\n",
       "      <th>3</th>\n",
       "      <td>06037134304</td>\n",
       "      <td>90.0</td>\n",
       "      <td>24.0</td>\n",
       "      <td>298.0</td>\n",
       "      <td>0.0</td>\n",
       "      <td>89.0</td>\n",
       "      <td>520.0</td>\n",
       "      <td>None</td>\n",
       "      <td>None</td>\n",
       "      <td>None</td>\n",
       "      <td>...</td>\n",
       "      <td>2010</td>\n",
       "      <td>928.0</td>\n",
       "      <td>33.378933</td>\n",
       "      <td>None</td>\n",
       "      <td>None</td>\n",
       "      <td>None</td>\n",
       "      <td>None</td>\n",
       "      <td>None</td>\n",
       "      <td>None</td>\n",
       "      <td>POLYGON ((-118.61472 34.21952, -118.61039 34.2...</td>\n",
       "    </tr>\n",
       "    <tr>\n",
       "      <th>4</th>\n",
       "      <td>06037242000</td>\n",
       "      <td>0.0</td>\n",
       "      <td>229.0</td>\n",
       "      <td>681.0</td>\n",
       "      <td>0.0</td>\n",
       "      <td>0.0</td>\n",
       "      <td>1164.0</td>\n",
       "      <td>None</td>\n",
       "      <td>None</td>\n",
       "      <td>None</td>\n",
       "      <td>...</td>\n",
       "      <td>2010</td>\n",
       "      <td>1054.0</td>\n",
       "      <td>0.058565</td>\n",
       "      <td>None</td>\n",
       "      <td>None</td>\n",
       "      <td>None</td>\n",
       "      <td>None</td>\n",
       "      <td>None</td>\n",
       "      <td>None</td>\n",
       "      <td>POLYGON ((-118.25416 33.93882, -118.25413 33.9...</td>\n",
       "    </tr>\n",
       "  </tbody>\n",
       "</table>\n",
       "<p>5 rows × 194 columns</p>\n",
       "</div>"
      ],
      "text/plain": [
       "         geoid  n_asian_under_15  n_black_under_15  n_hispanic_under_15  \\\n",
       "0  06037128702              58.0               0.0                223.0   \n",
       "1  06037131600              83.0              62.0                777.0   \n",
       "2  06037134104             287.0              17.0                816.0   \n",
       "3  06037134304              90.0              24.0                298.0   \n",
       "4  06037242000               0.0             229.0                681.0   \n",
       "\n",
       "   n_native_under_15  n_white_under_15  n_persons_under_18 n_asian_over_60  \\\n",
       "0                0.0             475.0               986.0            None   \n",
       "1                0.0             135.0              1355.0            None   \n",
       "2                0.0              61.0              1323.0            None   \n",
       "3                0.0              89.0               520.0            None   \n",
       "4                0.0               0.0              1164.0            None   \n",
       "\n",
       "  n_black_over_60 n_hispanic_over_60  ...  year  n_total_housing_units_sample  \\\n",
       "0            None               None  ...  2010                        2903.0   \n",
       "1            None               None  ...  2010                        1487.0   \n",
       "2            None               None  ...  2010                        1388.0   \n",
       "3            None               None  ...  2010                         928.0   \n",
       "4            None               None  ...  2010                        1054.0   \n",
       "\n",
       "  p_nonhisp_white_persons  p_white_over_60  p_black_over_60  \\\n",
       "0               64.726214             None             None   \n",
       "1               28.679979             None             None   \n",
       "2               14.846188             None             None   \n",
       "3               33.378933             None             None   \n",
       "4                0.058565             None             None   \n",
       "\n",
       "   p_hispanic_over_60  p_native_over_60  p_asian_over_60  p_disabled  \\\n",
       "0                None              None             None        None   \n",
       "1                None              None             None        None   \n",
       "2                None              None             None        None   \n",
       "3                None              None             None        None   \n",
       "4                None              None             None        None   \n",
       "\n",
       "                                            geometry  \n",
       "0  POLYGON ((-118.44870 34.16485, -118.43997 34.1...  \n",
       "1  POLYGON ((-118.56229 34.22033, -118.55792 34.2...  \n",
       "2  POLYGON ((-118.57976 34.21558, -118.57539 34.2...  \n",
       "3  POLYGON ((-118.61472 34.21952, -118.61039 34.2...  \n",
       "4  POLYGON ((-118.25416 33.93882, -118.25413 33.9...  \n",
       "\n",
       "[5 rows x 194 columns]"
      ]
     },
     "execution_count": 9,
     "metadata": {},
     "output_type": "execute_result"
    }
   ],
   "source": [
    "scag.head()"
   ]
  },
  {
   "cell_type": "code",
   "execution_count": 10,
   "metadata": {},
   "outputs": [
    {
     "data": {
      "text/plain": [
       "(4580, 194)"
      ]
     },
     "execution_count": 10,
     "metadata": {},
     "output_type": "execute_result"
    }
   ],
   "source": [
    "scag.shape"
   ]
  },
  {
   "cell_type": "code",
   "execution_count": 12,
   "metadata": {},
   "outputs": [
    {
     "data": {
      "text/plain": [
       "194"
      ]
     },
     "execution_count": 12,
     "metadata": {},
     "output_type": "execute_result"
    }
   ],
   "source": [
    "len(scag.columns)"
   ]
  },
  {
   "cell_type": "code",
   "execution_count": 13,
   "metadata": {},
   "outputs": [
    {
     "data": {
      "text/plain": [
       "0       POLYGON ((-118.44870 34.16485, -118.43997 34.1...\n",
       "1       POLYGON ((-118.56229 34.22033, -118.55792 34.2...\n",
       "2       POLYGON ((-118.57976 34.21558, -118.57539 34.2...\n",
       "3       POLYGON ((-118.61472 34.21952, -118.61039 34.2...\n",
       "4       POLYGON ((-118.25416 33.93882, -118.25413 33.9...\n",
       "                              ...                        \n",
       "4575    POLYGON ((-118.50373 34.42607, -118.50050 34.4...\n",
       "4576    POLYGON ((-118.20731 33.90754, -118.20641 33.9...\n",
       "4577    POLYGON ((-119.22134 34.18130, -119.21727 34.1...\n",
       "4578    POLYGON ((-116.51068 33.80502, -116.51069 33.8...\n",
       "4579    POLYGON ((-118.41379 34.17940, -118.41160 34.1...\n",
       "Name: geometry, Length: 4580, dtype: geometry"
      ]
     },
     "execution_count": 13,
     "metadata": {},
     "output_type": "execute_result"
    }
   ],
   "source": [
    "scag.geometry"
   ]
  },
  {
   "cell_type": "code",
   "execution_count": 14,
   "metadata": {},
   "outputs": [
    {
     "data": {
      "text/plain": [
       "<matplotlib.axes._subplots.AxesSubplot at 0x7fb571e12c90>"
      ]
     },
     "execution_count": 14,
     "metadata": {},
     "output_type": "execute_result"
    },
    {
     "data": {
      "image/png": "[encoded data removed]",
      "text/plain": [
       "<Figure size 432x288 with 1 Axes>"
      ]
     },
     "metadata": {
      "needs_background": "light"
     },
     "output_type": "display_data"
    }
   ],
   "source": [
    "scag.plot()"
   ]
  },
  {
   "cell_type": "code",
   "execution_count": 4,
   "metadata": {},
   "outputs": [
    {
     "data": {
      "text/plain": [
       "Index(['OBJECTID', 'SITE_TYPE', 'SITE_NAME', 'ADDRESS', 'CITY', 'ZIPCODE',\n",
       "       'PHONE', 'geometry'],\n",
       "      dtype='object')"
      ]
     },
     "execution_count": 4,
     "metadata": {},
     "output_type": "execute_result"
    }
   ],
   "source": [
    "clinics_df = gpd.read_file('data/scipy/behavioralHealth.shp')\n",
    "clinics_df.columns"
   ]
  },
  {
   "cell_type": "code",
   "execution_count": 16,
   "metadata": {},
   "outputs": [
    {
     "data": {
      "text/plain": [
       "<matplotlib.axes._subplots.AxesSubplot at 0x7fb5725a7350>"
      ]
     },
     "execution_count": 16,
     "metadata": {},
     "output_type": "execute_result"
    },
    {
     "data": {
      "image/png": "[encoded data removed]",
      "text/plain": [
       "<Figure size 432x288 with 1 Axes>"
      ]
     },
     "metadata": {
      "needs_background": "light"
     },
     "output_type": "display_data"
    }
   ],
   "source": [
    "clinics_df.plot()"
   ]
  },
  {
   "cell_type": "code",
   "execution_count": 17,
   "metadata": {},
   "outputs": [
    {
     "data": {
      "text/html": [
       "<div>\n",
       "<style scoped>\n",
       "    .dataframe tbody tr th:only-of-type {\n",
       "        vertical-align: middle;\n",
       "    }\n",
       "\n",
       "    .dataframe tbody tr th {\n",
       "        vertical-align: top;\n",
       "    }\n",
       "\n",
       "    .dataframe thead th {\n",
       "        text-align: right;\n",
       "    }\n",
       "</style>\n",
       "<table border=\"1\" class=\"dataframe\">\n",
       "  <thead>\n",
       "    <tr style=\"text-align: right;\">\n",
       "      <th></th>\n",
       "      <th>OBJECTID</th>\n",
       "      <th>SITE_TYPE</th>\n",
       "      <th>SITE_NAME</th>\n",
       "      <th>ADDRESS</th>\n",
       "      <th>CITY</th>\n",
       "      <th>ZIPCODE</th>\n",
       "      <th>PHONE</th>\n",
       "      <th>geometry</th>\n",
       "    </tr>\n",
       "  </thead>\n",
       "  <tbody>\n",
       "    <tr>\n",
       "      <th>0</th>\n",
       "      <td>149.0</td>\n",
       "      <td>Behavioral Health</td>\n",
       "      <td>Older Adult Services</td>\n",
       "      <td>6355 Riverside Ave</td>\n",
       "      <td>Riverside</td>\n",
       "      <td>92506</td>\n",
       "      <td>951-369-0219</td>\n",
       "      <td>POINT (6216487.156 2291913.664)</td>\n",
       "    </tr>\n",
       "    <tr>\n",
       "      <th>1</th>\n",
       "      <td>150.0</td>\n",
       "      <td>Behavioral Health</td>\n",
       "      <td>Children'S Treatment Services</td>\n",
       "      <td>9990 County Farm Rd</td>\n",
       "      <td>Riverside</td>\n",
       "      <td>92503</td>\n",
       "      <td>951-358-4840</td>\n",
       "      <td>POINT (6195566.226 2280519.190)</td>\n",
       "    </tr>\n",
       "    <tr>\n",
       "      <th>2</th>\n",
       "      <td>151.0</td>\n",
       "      <td>Behavioral Health</td>\n",
       "      <td>Family, Adolescent, And Children'S Treatment</td>\n",
       "      <td>1195 Magnolia Ave</td>\n",
       "      <td>Corona</td>\n",
       "      <td>91719</td>\n",
       "      <td>951-273-0608</td>\n",
       "      <td>POINT (6168252.101 2261023.951)</td>\n",
       "    </tr>\n",
       "    <tr>\n",
       "      <th>3</th>\n",
       "      <td>447.0</td>\n",
       "      <td>Behavioral Health</td>\n",
       "      <td>Blythe Clinic</td>\n",
       "      <td>1297 W Hobson Way</td>\n",
       "      <td>Blythe</td>\n",
       "      <td>92225</td>\n",
       "      <td>760-770-2222</td>\n",
       "      <td>POINT (7059944.605 2169652.046)</td>\n",
       "    </tr>\n",
       "    <tr>\n",
       "      <th>4</th>\n",
       "      <td>152.0</td>\n",
       "      <td>Behavioral Health</td>\n",
       "      <td>Interagency Services For Families</td>\n",
       "      <td>9890 County Farm Rd</td>\n",
       "      <td>Riverside</td>\n",
       "      <td>92503</td>\n",
       "      <td>951-358-4850</td>\n",
       "      <td>POINT (6195949.672 2280510.302)</td>\n",
       "    </tr>\n",
       "  </tbody>\n",
       "</table>\n",
       "</div>"
      ],
      "text/plain": [
       "   OBJECTID          SITE_TYPE                                     SITE_NAME  \\\n",
       "0     149.0  Behavioral Health                          Older Adult Services   \n",
       "1     150.0  Behavioral Health                 Children'S Treatment Services   \n",
       "2     151.0  Behavioral Health  Family, Adolescent, And Children'S Treatment   \n",
       "3     447.0  Behavioral Health                                 Blythe Clinic   \n",
       "4     152.0  Behavioral Health             Interagency Services For Families   \n",
       "\n",
       "               ADDRESS       CITY  ZIPCODE         PHONE  \\\n",
       "0   6355 Riverside Ave  Riverside    92506  951-369-0219   \n",
       "1  9990 County Farm Rd  Riverside    92503  951-358-4840   \n",
       "2    1195 Magnolia Ave     Corona    91719  951-273-0608   \n",
       "3    1297 W Hobson Way     Blythe    92225  760-770-2222   \n",
       "4  9890 County Farm Rd  Riverside    92503  951-358-4850   \n",
       "\n",
       "                          geometry  \n",
       "0  POINT (6216487.156 2291913.664)  \n",
       "1  POINT (6195566.226 2280519.190)  \n",
       "2  POINT (6168252.101 2261023.951)  \n",
       "3  POINT (7059944.605 2169652.046)  \n",
       "4  POINT (6195949.672 2280510.302)  "
      ]
     },
     "execution_count": 17,
     "metadata": {},
     "output_type": "execute_result"
    }
   ],
   "source": [
    "clinics_df.head()"
   ]
  },
  {
   "cell_type": "code",
   "execution_count": 21,
   "metadata": {},
   "outputs": [
    {
     "data": {
      "text/plain": [
       "18"
      ]
     },
     "execution_count": 21,
     "metadata": {},
     "output_type": "execute_result"
    }
   ],
   "source": [
    "len(clinics_df.ADDRESS.unique())"
   ]
  },
  {
   "cell_type": "markdown",
   "metadata": {},
   "source": [
    "### Extracting Riverside County Tracts"
   ]
  },
  {
   "cell_type": "code",
   "execution_count": 5,
   "metadata": {},
   "outputs": [
    {
     "data": {
      "text/plain": [
       "<matplotlib.axes._subplots.AxesSubplot at 0x7fd7cf844090>"
      ]
     },
     "execution_count": 5,
     "metadata": {},
     "output_type": "execute_result"
    },
    {
     "data": {
      "image/png": "[encoded data removed]",
      "text/plain": [
       "<Figure size 432x288 with 1 Axes>"
      ]
     },
     "metadata": {
      "needs_background": "light"
     },
     "output_type": "display_data"
    }
   ],
   "source": [
    "rc = scag[scag['geoid'].str.match('^06065')] # tracts whose geoid beggins with 06065 (Riverside County)\n",
    "rc.plot()"
   ]
  },
  {
   "cell_type": "markdown",
   "metadata": {},
   "source": [
    "### Spatial Joins\n",
    "\n",
    "Using both the `rc` and `clinic_df` datasets, the idea is to find out how many clinics are in each census tract in Riverside County.\n"
   ]
  },
  {
   "cell_type": "code",
   "execution_count": 6,
   "metadata": {},
   "outputs": [
    {
     "name": "stderr",
     "output_type": "stream",
     "text": [
      "/Users/cristian/opt/anaconda3/lib/python3.7/site-packages/ipykernel_launcher.py:1: UserWarning: CRS mismatch between the CRS of left geometries and the CRS of right geometries.\n",
      "Use `to_crs()` to reproject one of the input geometries to match the CRS of the other.\n",
      "\n",
      "Left CRS: EPSG:2230\n",
      "Right CRS: EPSG:4326\n",
      "\n",
      "  \"\"\"Entry point for launching an IPython kernel.\n"
     ]
    }
   ],
   "source": [
    "clinics_tracts = gpd.sjoin(left_df=clinics_df, right_df=rc, op='within')"
   ]
  },
  {
   "cell_type": "code",
   "execution_count": 7,
   "metadata": {},
   "outputs": [
    {
     "data": {
      "text/plain": [
       "<Projected CRS: EPSG:2230>\n",
       "Name: NAD83 / California zone 6 (ftUS)\n",
       "Axis Info [cartesian]:\n",
       "- X[east]: Easting (US survey foot)\n",
       "- Y[north]: Northing (US survey foot)\n",
       "Area of Use:\n",
       "- name: United States (USA) - California - counties Imperial; Orange; Riverside; San Diego.\n",
       "- bounds: (-118.15, 32.53, -114.42, 34.08)\n",
       "Coordinate Operation:\n",
       "- name: SPCS83 California zone 6 (US Survey feet)\n",
       "- method: Lambert Conic Conformal (2SP)\n",
       "Datum: North American Datum 1983\n",
       "- Ellipsoid: GRS 1980\n",
       "- Prime Meridian: Greenwich"
      ]
     },
     "execution_count": 7,
     "metadata": {},
     "output_type": "execute_result"
    }
   ],
   "source": [
    "clinics_df.crs"
   ]
  },
  {
   "cell_type": "code",
   "execution_count": 8,
   "metadata": {},
   "outputs": [
    {
     "data": {
      "text/plain": [
       "<Geographic 2D CRS: EPSG:4326>\n",
       "Name: WGS 84\n",
       "Axis Info [ellipsoidal]:\n",
       "- Lat[north]: Geodetic latitude (degree)\n",
       "- Lon[east]: Geodetic longitude (degree)\n",
       "Area of Use:\n",
       "- name: World.\n",
       "- bounds: (-180.0, -90.0, 180.0, 90.0)\n",
       "Datum: World Geodetic System 1984\n",
       "- Ellipsoid: WGS 84\n",
       "- Prime Meridian: Greenwich"
      ]
     },
     "execution_count": 8,
     "metadata": {},
     "output_type": "execute_result"
    }
   ],
   "source": [
    "rc.crs"
   ]
  },
  {
   "cell_type": "code",
   "execution_count": 9,
   "metadata": {},
   "outputs": [
    {
     "data": {
      "text/plain": [
       "<matplotlib.axes._subplots.AxesSubplot at 0x7fd7cf8ed150>"
      ]
     },
     "execution_count": 9,
     "metadata": {},
     "output_type": "execute_result"
    },
    {
     "data": {
      "image/png": "[encoded data removed]",
      "text/plain": [
       "<Figure size 432x288 with 1 Axes>"
      ]
     },
     "metadata": {
      "needs_background": "light"
     },
     "output_type": "display_data"
    }
   ],
   "source": [
    "\n",
    "rc.to_crs(clinics_df.crs).plot()"
   ]
  },
  {
   "cell_type": "code",
   "execution_count": 10,
   "metadata": {},
   "outputs": [],
   "source": [
    "# reproject rc to the crs of clinics_df\n",
    "rc = rc.to_crs(clinics_df.crs)"
   ]
  },
  {
   "cell_type": "code",
   "execution_count": 11,
   "metadata": {},
   "outputs": [],
   "source": [
    "clinics_tracts = gpd.sjoin(left_df=clinics_df, right_df=rc, op='within')"
   ]
  },
  {
   "cell_type": "code",
   "execution_count": 12,
   "metadata": {},
   "outputs": [
    {
     "data": {
      "text/html": [
       "<div>\n",
       "<style scoped>\n",
       "    .dataframe tbody tr th:only-of-type {\n",
       "        vertical-align: middle;\n",
       "    }\n",
       "\n",
       "    .dataframe tbody tr th {\n",
       "        vertical-align: top;\n",
       "    }\n",
       "\n",
       "    .dataframe thead th {\n",
       "        text-align: right;\n",
       "    }\n",
       "</style>\n",
       "<table border=\"1\" class=\"dataframe\">\n",
       "  <thead>\n",
       "    <tr style=\"text-align: right;\">\n",
       "      <th></th>\n",
       "      <th>OBJECTID</th>\n",
       "      <th>SITE_TYPE</th>\n",
       "      <th>SITE_NAME</th>\n",
       "      <th>ADDRESS</th>\n",
       "      <th>CITY</th>\n",
       "      <th>ZIPCODE</th>\n",
       "      <th>PHONE</th>\n",
       "      <th>geometry</th>\n",
       "      <th>index_right</th>\n",
       "      <th>geoid</th>\n",
       "      <th>...</th>\n",
       "      <th>n_white_persons</th>\n",
       "      <th>year</th>\n",
       "      <th>n_total_housing_units_sample</th>\n",
       "      <th>p_nonhisp_white_persons</th>\n",
       "      <th>p_white_over_60</th>\n",
       "      <th>p_black_over_60</th>\n",
       "      <th>p_hispanic_over_60</th>\n",
       "      <th>p_native_over_60</th>\n",
       "      <th>p_asian_over_60</th>\n",
       "      <th>p_disabled</th>\n",
       "    </tr>\n",
       "  </thead>\n",
       "  <tbody>\n",
       "    <tr>\n",
       "      <th>0</th>\n",
       "      <td>149.0</td>\n",
       "      <td>Behavioral Health</td>\n",
       "      <td>Older Adult Services</td>\n",
       "      <td>6355 Riverside Ave</td>\n",
       "      <td>Riverside</td>\n",
       "      <td>92506</td>\n",
       "      <td>951-369-0219</td>\n",
       "      <td>POINT (6216487.156 2291913.664)</td>\n",
       "      <td>661</td>\n",
       "      <td>06065031100</td>\n",
       "      <td>...</td>\n",
       "      <td>None</td>\n",
       "      <td>2010</td>\n",
       "      <td>1715.0</td>\n",
       "      <td>49.159311</td>\n",
       "      <td>None</td>\n",
       "      <td>None</td>\n",
       "      <td>None</td>\n",
       "      <td>None</td>\n",
       "      <td>None</td>\n",
       "      <td>None</td>\n",
       "    </tr>\n",
       "    <tr>\n",
       "      <th>25</th>\n",
       "      <td>146.0</td>\n",
       "      <td>Behavioral Health</td>\n",
       "      <td>Adult Mental Health Services - Central Clinic</td>\n",
       "      <td>6355 Riverside Ave</td>\n",
       "      <td>Riverside</td>\n",
       "      <td>92506</td>\n",
       "      <td>951-369-5714</td>\n",
       "      <td>POINT (6216489.695 2291912.394)</td>\n",
       "      <td>661</td>\n",
       "      <td>06065031100</td>\n",
       "      <td>...</td>\n",
       "      <td>None</td>\n",
       "      <td>2010</td>\n",
       "      <td>1715.0</td>\n",
       "      <td>49.159311</td>\n",
       "      <td>None</td>\n",
       "      <td>None</td>\n",
       "      <td>None</td>\n",
       "      <td>None</td>\n",
       "      <td>None</td>\n",
       "      <td>None</td>\n",
       "    </tr>\n",
       "    <tr>\n",
       "      <th>1</th>\n",
       "      <td>150.0</td>\n",
       "      <td>Behavioral Health</td>\n",
       "      <td>Children'S Treatment Services</td>\n",
       "      <td>9990 County Farm Rd</td>\n",
       "      <td>Riverside</td>\n",
       "      <td>92503</td>\n",
       "      <td>951-358-4840</td>\n",
       "      <td>POINT (6195566.226 2280519.190)</td>\n",
       "      <td>1798</td>\n",
       "      <td>06065041201</td>\n",
       "      <td>...</td>\n",
       "      <td>None</td>\n",
       "      <td>2010</td>\n",
       "      <td>1135.0</td>\n",
       "      <td>25.836431</td>\n",
       "      <td>None</td>\n",
       "      <td>None</td>\n",
       "      <td>None</td>\n",
       "      <td>None</td>\n",
       "      <td>None</td>\n",
       "      <td>None</td>\n",
       "    </tr>\n",
       "    <tr>\n",
       "      <th>4</th>\n",
       "      <td>152.0</td>\n",
       "      <td>Behavioral Health</td>\n",
       "      <td>Interagency Services For Families</td>\n",
       "      <td>9890 County Farm Rd</td>\n",
       "      <td>Riverside</td>\n",
       "      <td>92503</td>\n",
       "      <td>951-358-4850</td>\n",
       "      <td>POINT (6195949.672 2280510.302)</td>\n",
       "      <td>1798</td>\n",
       "      <td>06065041201</td>\n",
       "      <td>...</td>\n",
       "      <td>None</td>\n",
       "      <td>2010</td>\n",
       "      <td>1135.0</td>\n",
       "      <td>25.836431</td>\n",
       "      <td>None</td>\n",
       "      <td>None</td>\n",
       "      <td>None</td>\n",
       "      <td>None</td>\n",
       "      <td>None</td>\n",
       "      <td>None</td>\n",
       "    </tr>\n",
       "    <tr>\n",
       "      <th>5</th>\n",
       "      <td>448.0</td>\n",
       "      <td>Behavioral Health</td>\n",
       "      <td>Children'S Evaluation Services Unite</td>\n",
       "      <td>9990 County Farm Rd</td>\n",
       "      <td>Riverside</td>\n",
       "      <td>92503</td>\n",
       "      <td>951-358-7380</td>\n",
       "      <td>POINT (6195566.226 2280519.190)</td>\n",
       "      <td>1798</td>\n",
       "      <td>06065041201</td>\n",
       "      <td>...</td>\n",
       "      <td>None</td>\n",
       "      <td>2010</td>\n",
       "      <td>1135.0</td>\n",
       "      <td>25.836431</td>\n",
       "      <td>None</td>\n",
       "      <td>None</td>\n",
       "      <td>None</td>\n",
       "      <td>None</td>\n",
       "      <td>None</td>\n",
       "      <td>None</td>\n",
       "    </tr>\n",
       "  </tbody>\n",
       "</table>\n",
       "<p>5 rows × 202 columns</p>\n",
       "</div>"
      ],
      "text/plain": [
       "    OBJECTID          SITE_TYPE  \\\n",
       "0      149.0  Behavioral Health   \n",
       "25     146.0  Behavioral Health   \n",
       "1      150.0  Behavioral Health   \n",
       "4      152.0  Behavioral Health   \n",
       "5      448.0  Behavioral Health   \n",
       "\n",
       "                                        SITE_NAME              ADDRESS  \\\n",
       "0                            Older Adult Services   6355 Riverside Ave   \n",
       "25  Adult Mental Health Services - Central Clinic   6355 Riverside Ave   \n",
       "1                   Children'S Treatment Services  9990 County Farm Rd   \n",
       "4               Interagency Services For Families  9890 County Farm Rd   \n",
       "5            Children'S Evaluation Services Unite  9990 County Farm Rd   \n",
       "\n",
       "         CITY  ZIPCODE         PHONE                         geometry  \\\n",
       "0   Riverside    92506  951-369-0219  POINT (6216487.156 2291913.664)   \n",
       "25  Riverside    92506  951-369-5714  POINT (6216489.695 2291912.394)   \n",
       "1   Riverside    92503  951-358-4840  POINT (6195566.226 2280519.190)   \n",
       "4   Riverside    92503  951-358-4850  POINT (6195949.672 2280510.302)   \n",
       "5   Riverside    92503  951-358-7380  POINT (6195566.226 2280519.190)   \n",
       "\n",
       "    index_right        geoid  ...  n_white_persons  year  \\\n",
       "0           661  06065031100  ...             None  2010   \n",
       "25          661  06065031100  ...             None  2010   \n",
       "1          1798  06065041201  ...             None  2010   \n",
       "4          1798  06065041201  ...             None  2010   \n",
       "5          1798  06065041201  ...             None  2010   \n",
       "\n",
       "    n_total_housing_units_sample  p_nonhisp_white_persons  p_white_over_60  \\\n",
       "0                         1715.0                49.159311             None   \n",
       "25                        1715.0                49.159311             None   \n",
       "1                         1135.0                25.836431             None   \n",
       "4                         1135.0                25.836431             None   \n",
       "5                         1135.0                25.836431             None   \n",
       "\n",
       "    p_black_over_60 p_hispanic_over_60 p_native_over_60 p_asian_over_60  \\\n",
       "0              None               None             None            None   \n",
       "25             None               None             None            None   \n",
       "1              None               None             None            None   \n",
       "4              None               None             None            None   \n",
       "5              None               None             None            None   \n",
       "\n",
       "   p_disabled  \n",
       "0        None  \n",
       "25       None  \n",
       "1        None  \n",
       "4        None  \n",
       "5        None  \n",
       "\n",
       "[5 rows x 202 columns]"
      ]
     },
     "execution_count": 12,
     "metadata": {},
     "output_type": "execute_result"
    }
   ],
   "source": [
    "clinics_tracts.head()"
   ]
  },
  {
   "cell_type": "code",
   "execution_count": 13,
   "metadata": {},
   "outputs": [
    {
     "data": {
      "text/plain": [
       "(28, 202)"
      ]
     },
     "execution_count": 13,
     "metadata": {},
     "output_type": "execute_result"
    }
   ],
   "source": [
    "clinics_tracts.shape"
   ]
  },
  {
   "cell_type": "code",
   "execution_count": 16,
   "metadata": {},
   "outputs": [
    {
     "data": {
      "text/plain": [
       "(16, 1)"
      ]
     },
     "execution_count": 16,
     "metadata": {},
     "output_type": "execute_result"
    }
   ],
   "source": [
    "ct = clinics_tracts[['geoid', 'index_right']].groupby('geoid').agg('count')\n",
    "ct.shape"
   ]
  },
  {
   "cell_type": "code",
   "execution_count": 17,
   "metadata": {},
   "outputs": [
    {
     "data": {
      "text/html": [
       "<div>\n",
       "<style scoped>\n",
       "    .dataframe tbody tr th:only-of-type {\n",
       "        vertical-align: middle;\n",
       "    }\n",
       "\n",
       "    .dataframe tbody tr th {\n",
       "        vertical-align: top;\n",
       "    }\n",
       "\n",
       "    .dataframe thead th {\n",
       "        text-align: right;\n",
       "    }\n",
       "</style>\n",
       "<table border=\"1\" class=\"dataframe\">\n",
       "  <thead>\n",
       "    <tr style=\"text-align: right;\">\n",
       "      <th></th>\n",
       "      <th>index_right</th>\n",
       "    </tr>\n",
       "    <tr>\n",
       "      <th>geoid</th>\n",
       "      <th></th>\n",
       "    </tr>\n",
       "  </thead>\n",
       "  <tbody>\n",
       "    <tr>\n",
       "      <th>06065031100</th>\n",
       "      <td>2</td>\n",
       "    </tr>\n",
       "    <tr>\n",
       "      <th>06065040809</th>\n",
       "      <td>1</td>\n",
       "    </tr>\n",
       "    <tr>\n",
       "      <th>06065041201</th>\n",
       "      <td>7</td>\n",
       "    </tr>\n",
       "    <tr>\n",
       "      <th>06065041813</th>\n",
       "      <td>1</td>\n",
       "    </tr>\n",
       "    <tr>\n",
       "      <th>06065042209</th>\n",
       "      <td>3</td>\n",
       "    </tr>\n",
       "  </tbody>\n",
       "</table>\n",
       "</div>"
      ],
      "text/plain": [
       "             index_right\n",
       "geoid                   \n",
       "06065031100            2\n",
       "06065040809            1\n",
       "06065041201            7\n",
       "06065041813            1\n",
       "06065042209            3"
      ]
     },
     "execution_count": 17,
     "metadata": {},
     "output_type": "execute_result"
    }
   ],
   "source": [
    "ct.head()"
   ]
  },
  {
   "cell_type": "code",
   "execution_count": 18,
   "metadata": {},
   "outputs": [],
   "source": [
    "# perform outer join, so that also non-matching values are kept.\n",
    "# For those values, 0 will be set on the 'index_right' column\n",
    "rc = rc.merge(ct, on='geoid', how='outer').fillna(0)"
   ]
  },
  {
   "cell_type": "code",
   "execution_count": 19,
   "metadata": {},
   "outputs": [
    {
     "data": {
      "text/html": [
       "<div>\n",
       "<style scoped>\n",
       "    .dataframe tbody tr th:only-of-type {\n",
       "        vertical-align: middle;\n",
       "    }\n",
       "\n",
       "    .dataframe tbody tr th {\n",
       "        vertical-align: top;\n",
       "    }\n",
       "\n",
       "    .dataframe thead th {\n",
       "        text-align: right;\n",
       "    }\n",
       "</style>\n",
       "<table border=\"1\" class=\"dataframe\">\n",
       "  <thead>\n",
       "    <tr style=\"text-align: right;\">\n",
       "      <th></th>\n",
       "      <th>geoid</th>\n",
       "      <th>n_asian_under_15</th>\n",
       "      <th>n_black_under_15</th>\n",
       "      <th>n_hispanic_under_15</th>\n",
       "      <th>n_native_under_15</th>\n",
       "      <th>n_white_under_15</th>\n",
       "      <th>n_persons_under_18</th>\n",
       "      <th>n_asian_over_60</th>\n",
       "      <th>n_black_over_60</th>\n",
       "      <th>n_hispanic_over_60</th>\n",
       "      <th>...</th>\n",
       "      <th>n_total_housing_units_sample</th>\n",
       "      <th>p_nonhisp_white_persons</th>\n",
       "      <th>p_white_over_60</th>\n",
       "      <th>p_black_over_60</th>\n",
       "      <th>p_hispanic_over_60</th>\n",
       "      <th>p_native_over_60</th>\n",
       "      <th>p_asian_over_60</th>\n",
       "      <th>p_disabled</th>\n",
       "      <th>geometry</th>\n",
       "      <th>index_right</th>\n",
       "    </tr>\n",
       "  </thead>\n",
       "  <tbody>\n",
       "    <tr>\n",
       "      <th>0</th>\n",
       "      <td>06065042005</td>\n",
       "      <td>7.0</td>\n",
       "      <td>157.0</td>\n",
       "      <td>259.0</td>\n",
       "      <td>0.0</td>\n",
       "      <td>540.0</td>\n",
       "      <td>1472.0</td>\n",
       "      <td>0</td>\n",
       "      <td>0</td>\n",
       "      <td>0</td>\n",
       "      <td>...</td>\n",
       "      <td>1511.0</td>\n",
       "      <td>52.240247</td>\n",
       "      <td>0</td>\n",
       "      <td>0</td>\n",
       "      <td>0</td>\n",
       "      <td>0</td>\n",
       "      <td>0</td>\n",
       "      <td>0</td>\n",
       "      <td>POLYGON ((6220451.886 2273544.863, 6222975.821...</td>\n",
       "      <td>0.0</td>\n",
       "    </tr>\n",
       "    <tr>\n",
       "      <th>1</th>\n",
       "      <td>06065042210</td>\n",
       "      <td>14.0</td>\n",
       "      <td>4.0</td>\n",
       "      <td>392.0</td>\n",
       "      <td>0.0</td>\n",
       "      <td>49.0</td>\n",
       "      <td>626.0</td>\n",
       "      <td>0</td>\n",
       "      <td>0</td>\n",
       "      <td>0</td>\n",
       "      <td>...</td>\n",
       "      <td>2047.0</td>\n",
       "      <td>26.254459</td>\n",
       "      <td>0</td>\n",
       "      <td>0</td>\n",
       "      <td>0</td>\n",
       "      <td>0</td>\n",
       "      <td>0</td>\n",
       "      <td>0</td>\n",
       "      <td>POLYGON ((6231281.704 2304380.325, 6231334.275...</td>\n",
       "      <td>1.0</td>\n",
       "    </tr>\n",
       "    <tr>\n",
       "      <th>2</th>\n",
       "      <td>06065042403</td>\n",
       "      <td>10.0</td>\n",
       "      <td>62.0</td>\n",
       "      <td>604.0</td>\n",
       "      <td>0.0</td>\n",
       "      <td>142.0</td>\n",
       "      <td>1153.0</td>\n",
       "      <td>0</td>\n",
       "      <td>0</td>\n",
       "      <td>0</td>\n",
       "      <td>...</td>\n",
       "      <td>1194.0</td>\n",
       "      <td>27.105703</td>\n",
       "      <td>0</td>\n",
       "      <td>0</td>\n",
       "      <td>0</td>\n",
       "      <td>0</td>\n",
       "      <td>0</td>\n",
       "      <td>0</td>\n",
       "      <td>POLYGON ((6265534.814 2293274.461, 6268193.946...</td>\n",
       "      <td>0.0</td>\n",
       "    </tr>\n",
       "    <tr>\n",
       "      <th>3</th>\n",
       "      <td>06065042405</td>\n",
       "      <td>17.0</td>\n",
       "      <td>570.0</td>\n",
       "      <td>877.0</td>\n",
       "      <td>0.0</td>\n",
       "      <td>140.0</td>\n",
       "      <td>1949.0</td>\n",
       "      <td>0</td>\n",
       "      <td>0</td>\n",
       "      <td>0</td>\n",
       "      <td>...</td>\n",
       "      <td>1960.0</td>\n",
       "      <td>12.679643</td>\n",
       "      <td>0</td>\n",
       "      <td>0</td>\n",
       "      <td>0</td>\n",
       "      <td>0</td>\n",
       "      <td>0</td>\n",
       "      <td>0</td>\n",
       "      <td>POLYGON ((6254901.013 2289559.243, 6257552.324...</td>\n",
       "      <td>0.0</td>\n",
       "    </tr>\n",
       "    <tr>\n",
       "      <th>4</th>\n",
       "      <td>06065042507</td>\n",
       "      <td>6.0</td>\n",
       "      <td>196.0</td>\n",
       "      <td>1132.0</td>\n",
       "      <td>0.0</td>\n",
       "      <td>47.0</td>\n",
       "      <td>1778.0</td>\n",
       "      <td>0</td>\n",
       "      <td>0</td>\n",
       "      <td>0</td>\n",
       "      <td>...</td>\n",
       "      <td>1209.0</td>\n",
       "      <td>11.965812</td>\n",
       "      <td>0</td>\n",
       "      <td>0</td>\n",
       "      <td>0</td>\n",
       "      <td>0</td>\n",
       "      <td>0</td>\n",
       "      <td>0</td>\n",
       "      <td>POLYGON ((6260074.881 2265634.857, 6260130.853...</td>\n",
       "      <td>0.0</td>\n",
       "    </tr>\n",
       "  </tbody>\n",
       "</table>\n",
       "<p>5 rows × 195 columns</p>\n",
       "</div>"
      ],
      "text/plain": [
       "         geoid  n_asian_under_15  n_black_under_15  n_hispanic_under_15  \\\n",
       "0  06065042005               7.0             157.0                259.0   \n",
       "1  06065042210              14.0               4.0                392.0   \n",
       "2  06065042403              10.0              62.0                604.0   \n",
       "3  06065042405              17.0             570.0                877.0   \n",
       "4  06065042507               6.0             196.0               1132.0   \n",
       "\n",
       "   n_native_under_15  n_white_under_15  n_persons_under_18  n_asian_over_60  \\\n",
       "0                0.0             540.0              1472.0                0   \n",
       "1                0.0              49.0               626.0                0   \n",
       "2                0.0             142.0              1153.0                0   \n",
       "3                0.0             140.0              1949.0                0   \n",
       "4                0.0              47.0              1778.0                0   \n",
       "\n",
       "   n_black_over_60  n_hispanic_over_60  ...  n_total_housing_units_sample  \\\n",
       "0                0                   0  ...                        1511.0   \n",
       "1                0                   0  ...                        2047.0   \n",
       "2                0                   0  ...                        1194.0   \n",
       "3                0                   0  ...                        1960.0   \n",
       "4                0                   0  ...                        1209.0   \n",
       "\n",
       "   p_nonhisp_white_persons  p_white_over_60  p_black_over_60  \\\n",
       "0                52.240247                0                0   \n",
       "1                26.254459                0                0   \n",
       "2                27.105703                0                0   \n",
       "3                12.679643                0                0   \n",
       "4                11.965812                0                0   \n",
       "\n",
       "   p_hispanic_over_60  p_native_over_60  p_asian_over_60  p_disabled  \\\n",
       "0                   0                 0                0           0   \n",
       "1                   0                 0                0           0   \n",
       "2                   0                 0                0           0   \n",
       "3                   0                 0                0           0   \n",
       "4                   0                 0                0           0   \n",
       "\n",
       "                                            geometry  index_right  \n",
       "0  POLYGON ((6220451.886 2273544.863, 6222975.821...          0.0  \n",
       "1  POLYGON ((6231281.704 2304380.325, 6231334.275...          1.0  \n",
       "2  POLYGON ((6265534.814 2293274.461, 6268193.946...          0.0  \n",
       "3  POLYGON ((6254901.013 2289559.243, 6257552.324...          0.0  \n",
       "4  POLYGON ((6260074.881 2265634.857, 6260130.853...          0.0  \n",
       "\n",
       "[5 rows x 195 columns]"
      ]
     },
     "execution_count": 19,
     "metadata": {},
     "output_type": "execute_result"
    }
   ],
   "source": [
    "rc.head()"
   ]
  },
  {
   "cell_type": "code",
   "execution_count": 20,
   "metadata": {},
   "outputs": [
    {
     "data": {
      "text/plain": [
       "28.0"
      ]
     },
     "execution_count": 20,
     "metadata": {},
     "output_type": "execute_result"
    }
   ],
   "source": [
    "rc['index_right'].sum()"
   ]
  },
  {
   "cell_type": "code",
   "execution_count": 21,
   "metadata": {},
   "outputs": [],
   "source": [
    "rc.rename(columns={'index_right': 'clinics'}, inplace=True)\n"
   ]
  },
  {
   "cell_type": "code",
   "execution_count": 23,
   "metadata": {},
   "outputs": [
    {
     "data": {
      "text/plain": [
       "28.0"
      ]
     },
     "execution_count": 23,
     "metadata": {},
     "output_type": "execute_result"
    }
   ],
   "source": [
    "rc.clinics.sum()"
   ]
  },
  {
   "cell_type": "code",
   "execution_count": 24,
   "metadata": {},
   "outputs": [
    {
     "data": {
      "text/plain": [
       "0      0.0\n",
       "1      1.0\n",
       "2      0.0\n",
       "3      0.0\n",
       "4      0.0\n",
       "      ... \n",
       "448    0.0\n",
       "449    0.0\n",
       "450    0.0\n",
       "451    0.0\n",
       "452    0.0\n",
       "Name: clinics, Length: 453, dtype: float64"
      ]
     },
     "execution_count": 24,
     "metadata": {},
     "output_type": "execute_result"
    }
   ],
   "source": [
    "rc.clinics"
   ]
  },
  {
   "cell_type": "code",
   "execution_count": 25,
   "metadata": {},
   "outputs": [
    {
     "data": {
      "text/html": [
       "<div>\n",
       "<style scoped>\n",
       "    .dataframe tbody tr th:only-of-type {\n",
       "        vertical-align: middle;\n",
       "    }\n",
       "\n",
       "    .dataframe tbody tr th {\n",
       "        vertical-align: top;\n",
       "    }\n",
       "\n",
       "    .dataframe thead th {\n",
       "        text-align: right;\n",
       "    }\n",
       "</style>\n",
       "<table border=\"1\" class=\"dataframe\">\n",
       "  <thead>\n",
       "    <tr style=\"text-align: right;\">\n",
       "      <th></th>\n",
       "      <th>geoid</th>\n",
       "      <th>n_asian_under_15</th>\n",
       "      <th>n_black_under_15</th>\n",
       "      <th>n_hispanic_under_15</th>\n",
       "      <th>n_native_under_15</th>\n",
       "      <th>n_white_under_15</th>\n",
       "      <th>n_persons_under_18</th>\n",
       "      <th>n_asian_over_60</th>\n",
       "      <th>n_black_over_60</th>\n",
       "      <th>n_hispanic_over_60</th>\n",
       "      <th>...</th>\n",
       "      <th>n_total_housing_units_sample</th>\n",
       "      <th>p_nonhisp_white_persons</th>\n",
       "      <th>p_white_over_60</th>\n",
       "      <th>p_black_over_60</th>\n",
       "      <th>p_hispanic_over_60</th>\n",
       "      <th>p_native_over_60</th>\n",
       "      <th>p_asian_over_60</th>\n",
       "      <th>p_disabled</th>\n",
       "      <th>geometry</th>\n",
       "      <th>clinics</th>\n",
       "    </tr>\n",
       "  </thead>\n",
       "  <tbody>\n",
       "    <tr>\n",
       "      <th>0</th>\n",
       "      <td>06065042005</td>\n",
       "      <td>7.0</td>\n",
       "      <td>157.0</td>\n",
       "      <td>259.0</td>\n",
       "      <td>0.0</td>\n",
       "      <td>540.0</td>\n",
       "      <td>1472.0</td>\n",
       "      <td>0</td>\n",
       "      <td>0</td>\n",
       "      <td>0</td>\n",
       "      <td>...</td>\n",
       "      <td>1511.0</td>\n",
       "      <td>52.240247</td>\n",
       "      <td>0</td>\n",
       "      <td>0</td>\n",
       "      <td>0</td>\n",
       "      <td>0</td>\n",
       "      <td>0</td>\n",
       "      <td>0</td>\n",
       "      <td>POLYGON ((6220451.886 2273544.863, 6222975.821...</td>\n",
       "      <td>0.0</td>\n",
       "    </tr>\n",
       "    <tr>\n",
       "      <th>1</th>\n",
       "      <td>06065042210</td>\n",
       "      <td>14.0</td>\n",
       "      <td>4.0</td>\n",
       "      <td>392.0</td>\n",
       "      <td>0.0</td>\n",
       "      <td>49.0</td>\n",
       "      <td>626.0</td>\n",
       "      <td>0</td>\n",
       "      <td>0</td>\n",
       "      <td>0</td>\n",
       "      <td>...</td>\n",
       "      <td>2047.0</td>\n",
       "      <td>26.254459</td>\n",
       "      <td>0</td>\n",
       "      <td>0</td>\n",
       "      <td>0</td>\n",
       "      <td>0</td>\n",
       "      <td>0</td>\n",
       "      <td>0</td>\n",
       "      <td>POLYGON ((6231281.704 2304380.325, 6231334.275...</td>\n",
       "      <td>1.0</td>\n",
       "    </tr>\n",
       "    <tr>\n",
       "      <th>2</th>\n",
       "      <td>06065042403</td>\n",
       "      <td>10.0</td>\n",
       "      <td>62.0</td>\n",
       "      <td>604.0</td>\n",
       "      <td>0.0</td>\n",
       "      <td>142.0</td>\n",
       "      <td>1153.0</td>\n",
       "      <td>0</td>\n",
       "      <td>0</td>\n",
       "      <td>0</td>\n",
       "      <td>...</td>\n",
       "      <td>1194.0</td>\n",
       "      <td>27.105703</td>\n",
       "      <td>0</td>\n",
       "      <td>0</td>\n",
       "      <td>0</td>\n",
       "      <td>0</td>\n",
       "      <td>0</td>\n",
       "      <td>0</td>\n",
       "      <td>POLYGON ((6265534.814 2293274.461, 6268193.946...</td>\n",
       "      <td>0.0</td>\n",
       "    </tr>\n",
       "    <tr>\n",
       "      <th>3</th>\n",
       "      <td>06065042405</td>\n",
       "      <td>17.0</td>\n",
       "      <td>570.0</td>\n",
       "      <td>877.0</td>\n",
       "      <td>0.0</td>\n",
       "      <td>140.0</td>\n",
       "      <td>1949.0</td>\n",
       "      <td>0</td>\n",
       "      <td>0</td>\n",
       "      <td>0</td>\n",
       "      <td>...</td>\n",
       "      <td>1960.0</td>\n",
       "      <td>12.679643</td>\n",
       "      <td>0</td>\n",
       "      <td>0</td>\n",
       "      <td>0</td>\n",
       "      <td>0</td>\n",
       "      <td>0</td>\n",
       "      <td>0</td>\n",
       "      <td>POLYGON ((6254901.013 2289559.243, 6257552.324...</td>\n",
       "      <td>0.0</td>\n",
       "    </tr>\n",
       "    <tr>\n",
       "      <th>4</th>\n",
       "      <td>06065042507</td>\n",
       "      <td>6.0</td>\n",
       "      <td>196.0</td>\n",
       "      <td>1132.0</td>\n",
       "      <td>0.0</td>\n",
       "      <td>47.0</td>\n",
       "      <td>1778.0</td>\n",
       "      <td>0</td>\n",
       "      <td>0</td>\n",
       "      <td>0</td>\n",
       "      <td>...</td>\n",
       "      <td>1209.0</td>\n",
       "      <td>11.965812</td>\n",
       "      <td>0</td>\n",
       "      <td>0</td>\n",
       "      <td>0</td>\n",
       "      <td>0</td>\n",
       "      <td>0</td>\n",
       "      <td>0</td>\n",
       "      <td>POLYGON ((6260074.881 2265634.857, 6260130.853...</td>\n",
       "      <td>0.0</td>\n",
       "    </tr>\n",
       "  </tbody>\n",
       "</table>\n",
       "<p>5 rows × 195 columns</p>\n",
       "</div>"
      ],
      "text/plain": [
       "         geoid  n_asian_under_15  n_black_under_15  n_hispanic_under_15  \\\n",
       "0  06065042005               7.0             157.0                259.0   \n",
       "1  06065042210              14.0               4.0                392.0   \n",
       "2  06065042403              10.0              62.0                604.0   \n",
       "3  06065042405              17.0             570.0                877.0   \n",
       "4  06065042507               6.0             196.0               1132.0   \n",
       "\n",
       "   n_native_under_15  n_white_under_15  n_persons_under_18  n_asian_over_60  \\\n",
       "0                0.0             540.0              1472.0                0   \n",
       "1                0.0              49.0               626.0                0   \n",
       "2                0.0             142.0              1153.0                0   \n",
       "3                0.0             140.0              1949.0                0   \n",
       "4                0.0              47.0              1778.0                0   \n",
       "\n",
       "   n_black_over_60  n_hispanic_over_60  ...  n_total_housing_units_sample  \\\n",
       "0                0                   0  ...                        1511.0   \n",
       "1                0                   0  ...                        2047.0   \n",
       "2                0                   0  ...                        1194.0   \n",
       "3                0                   0  ...                        1960.0   \n",
       "4                0                   0  ...                        1209.0   \n",
       "\n",
       "   p_nonhisp_white_persons  p_white_over_60  p_black_over_60  \\\n",
       "0                52.240247                0                0   \n",
       "1                26.254459                0                0   \n",
       "2                27.105703                0                0   \n",
       "3                12.679643                0                0   \n",
       "4                11.965812                0                0   \n",
       "\n",
       "   p_hispanic_over_60  p_native_over_60  p_asian_over_60  p_disabled  \\\n",
       "0                   0                 0                0           0   \n",
       "1                   0                 0                0           0   \n",
       "2                   0                 0                0           0   \n",
       "3                   0                 0                0           0   \n",
       "4                   0                 0                0           0   \n",
       "\n",
       "                                            geometry  clinics  \n",
       "0  POLYGON ((6220451.886 2273544.863, 6222975.821...      0.0  \n",
       "1  POLYGON ((6231281.704 2304380.325, 6231334.275...      1.0  \n",
       "2  POLYGON ((6265534.814 2293274.461, 6268193.946...      0.0  \n",
       "3  POLYGON ((6254901.013 2289559.243, 6257552.324...      0.0  \n",
       "4  POLYGON ((6260074.881 2265634.857, 6260130.853...      0.0  \n",
       "\n",
       "[5 rows x 195 columns]"
      ]
     },
     "execution_count": 25,
     "metadata": {},
     "output_type": "execute_result"
    }
   ],
   "source": [
    "rc.head()"
   ]
  },
  {
   "cell_type": "code",
   "execution_count": 32,
   "metadata": {},
   "outputs": [],
   "source": [
    "geoids_set = set(scag.geoid.str[:5])"
   ]
  },
  {
   "cell_type": "code",
   "execution_count": 47,
   "metadata": {},
   "outputs": [
    {
     "name": "stderr",
     "output_type": "stream",
     "text": [
      "/Users/cristian/opt/anaconda3/lib/python3.7/site-packages/ipykernel_launcher.py:7: UserWarning: Column names longer than 10 characters will be truncated when saved to ESRI Shapefile.\n",
      "  import sys\n"
     ]
    }
   ],
   "source": [
    "import os\n",
    "out_path = 'output/south_california'\n",
    "if not os.path.exists(out_path):\n",
    "    os.mkdir(out_path)\n",
    "for geoid in geoids_set:\n",
    "    geoids_df = scag[scag['geoid'].str[:5] == geoid]\n",
    "    geoids_df.to_file(f'{out_path}/{geoid}.shp')"
   ]
  },
  {
   "cell_type": "code",
   "execution_count": 48,
   "metadata": {},
   "outputs": [
    {
     "name": "stdout",
     "output_type": "stream",
     "text": [
      ".\n"
     ]
    }
   ],
   "source": []
  },
  {
   "cell_type": "code",
   "execution_count": null,
   "metadata": {},
   "outputs": [],
   "source": []
  }
 ],
 "metadata": {
  "kernelspec": {
   "display_name": "Python 3",
   "language": "python",
   "name": "python3"
  },
  "language_info": {
   "codemirror_mode": {
    "name": "ipython",
    "version": 3
   },
   "file_extension": ".py",
   "mimetype": "text/x-python",
   "name": "python",
   "nbconvert_exporter": "python",
   "pygments_lexer": "ipython3",
   "version": "3.7.6"
  }
 },
 "nbformat": 4,
 "nbformat_minor": 5
}
