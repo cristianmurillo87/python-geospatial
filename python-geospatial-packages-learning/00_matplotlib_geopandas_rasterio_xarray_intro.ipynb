{
 "cells": [
  {
   "cell_type": "code",
   "execution_count": 64,
   "id": "fe548d89-1933-4268-a9ab-fe1b15d46635",
   "metadata": {},
   "outputs": [],
   "source": [
    "class Point:\n",
    "    \"\"\" A class that represents a geographical point\n",
    "        which consists of an X, Y coordinate\n",
    "    \"\"\"\n",
    "    \n",
    "    def __init__(self, lat: float = 0, lon:float = 0 ):\n",
    "        self.__x = lon\n",
    "        self.__y = lat\n",
    "        \n",
    "    def __repr__(self):\n",
    "        return f'Point(lon={self.__x}, lat={self.__y})'\n",
    "    \n",
    "    def __str__(self):\n",
    "        return f'{self.__x},{self.__y}'\n",
    "    \n",
    "    def __gt__(self, other):\n",
    "        return self.lat > other.lat and self.lon > other.lon\n",
    "    \n",
    "    def __lt__(self, other):\n",
    "        return self.lat < other.lat and self.lon < other.lon\n",
    "    \n",
    "    def __eq__(self, other):\n",
    "        return self.lat == other.lat and self.lon == other.lon\n",
    "    \n",
    "    @property\n",
    "    def lon(self):\n",
    "        return self.__x\n",
    "    \n",
    "    @property\n",
    "    def lat(self):\n",
    "        return self.__y\n",
    "    \n",
    "    @property\n",
    "    def as_tuple(self):\n",
    "        return (self.lat, self.lon)"
   ]
  },
  {
   "cell_type": "code",
   "execution_count": 15,
   "id": "7b9afb0d-21c1-4254-8e87-e62462b83ca9",
   "metadata": {},
   "outputs": [],
   "source": [
    "def haversine_distance(origin:Point, destination:Point) -> float:\n",
    "    \"\"\"Calculates the Haversine distance between\n",
    "        two points (x, y)\n",
    "    \"\"\"\n",
    "    \n",
    "    import math\n",
    "    \n",
    "    EARTH_RADIUS = 6371000\n",
    "    \n",
    "    diff_lat = math.radians(destination.lat - origin.lat)\n",
    "    diff_lon = math.radians(destination.lon - origin.lon)\n",
    "    \n",
    "    a = math.sin(diff_lat / 2) * math.sin(diff_lat / 2) + math.cos(math.radians(origin.lat)) \\\n",
    "        * math.cos(math.radians(destination.lat)) * math.sin(diff_lon / 2) * math.sin(diff_lon / 2)\n",
    "    \n",
    "    c = 2 * math.atan2(math.sqrt(a), math.sqrt(1 - a))\n",
    "    \n",
    "    distance = EARTH_RADIUS * c\n",
    "    return distance\n",
    "    \n",
    "    "
   ]
  },
  {
   "cell_type": "code",
   "execution_count": 65,
   "id": "a7c741bf-384c-4797-8187-31240e9f2030",
   "metadata": {},
   "outputs": [],
   "source": [
    "san_francisco = Point(37.7749, -122.4194)\n",
    "new_york = Point(40.661, -73.944)"
   ]
  },
  {
   "cell_type": "code",
   "execution_count": 36,
   "id": "f9ab1d9b-661e-41eb-b6eb-ea810f0327d0",
   "metadata": {},
   "outputs": [
    {
     "name": "stdout",
     "output_type": "stream",
     "text": [
      "(-122.4194, 37.7749)\n"
     ]
    }
   ],
   "source": [
    "print(san_francisco)"
   ]
  },
  {
   "cell_type": "code",
   "execution_count": 37,
   "id": "604906e3-0895-4199-bba9-b46d490e8b0c",
   "metadata": {},
   "outputs": [
    {
     "data": {
      "text/plain": [
       "Point(lon=-73.944, lat=40.661)"
      ]
     },
     "execution_count": 37,
     "metadata": {},
     "output_type": "execute_result"
    }
   ],
   "source": [
    "new_york"
   ]
  },
  {
   "cell_type": "code",
   "execution_count": 43,
   "id": "614336d2-5adf-460e-b491-3220d714cf22",
   "metadata": {},
   "outputs": [
    {
     "name": "stdout",
     "output_type": "stream",
     "text": [
      "4135.374617164737 km\n"
     ]
    }
   ],
   "source": [
    "distance_ = haversine_distance(san_francisco, new_york)\n",
    "print(distance_ / 1000, 'km')"
   ]
  },
  {
   "cell_type": "code",
   "execution_count": 39,
   "id": "e816125a-c130-487c-971e-d33705394377",
   "metadata": {},
   "outputs": [
    {
     "name": "stdout",
     "output_type": "stream",
     "text": [
      "True\n"
     ]
    }
   ],
   "source": [
    "print(new_york > san_francisco)"
   ]
  },
  {
   "cell_type": "code",
   "execution_count": 40,
   "id": "f0a1ddfc-f098-4d68-b45a-20f9894df638",
   "metadata": {},
   "outputs": [
    {
     "name": "stdout",
     "output_type": "stream",
     "text": [
      "False\n"
     ]
    }
   ],
   "source": [
    "print(new_york == san_francisco)"
   ]
  },
  {
   "cell_type": "code",
   "execution_count": 41,
   "id": "1036bad9-4a84-4dd9-8af2-9d46eac33d0f",
   "metadata": {},
   "outputs": [
    {
     "data": {
      "text/plain": [
       "(37.7749, -122.4194)"
      ]
     },
     "execution_count": 41,
     "metadata": {},
     "output_type": "execute_result"
    }
   ],
   "source": [
    "san_francisco.as_tuple"
   ]
  },
  {
   "cell_type": "code",
   "execution_count": 53,
   "id": "868dedfc-e826-4f5f-9bff-258af4e14d1b",
   "metadata": {},
   "outputs": [
    {
     "data": {
      "text/plain": [
       "'-122.4194,37.7749'"
      ]
     },
     "execution_count": 53,
     "metadata": {},
     "output_type": "execute_result"
    }
   ],
   "source": [
    "str(san_francisco)"
   ]
  },
  {
   "cell_type": "code",
   "execution_count": 45,
   "id": "b50c4c3f-796e-4d8a-8278-b2d59ce3bb90",
   "metadata": {},
   "outputs": [],
   "source": [
    "from geopy import distance as dt"
   ]
  },
  {
   "cell_type": "code",
   "execution_count": 52,
   "id": "d64ef978-fd25-4e5d-9100-4b05d176d9db",
   "metadata": {},
   "outputs": [
    {
     "name": "stdout",
     "output_type": "stream",
     "text": [
      "4135.3804590061345 km 4145.446977549561 km\n"
     ]
    }
   ],
   "source": [
    "sf = san_francisco.as_tuple\n",
    "ny = new_york.as_tuple\n",
    "\n",
    "# Haversine formula\n",
    "straigh_line_distance = dt.great_circle(sf, ny)\n",
    "# Vincenty's formula\n",
    "ellipsoid_distance = dt.geodesic(sf, ny, ellipsoid='WGS-84')\n",
    "\n",
    "print(straigh_line_distance, ellipsoid_distance)"
   ]
  },
  {
   "cell_type": "markdown",
   "id": "76754cf4-a4da-4583-8389-ee9a1e9f7e2c",
   "metadata": {},
   "source": [
    "#### Calculating Routes using the OpenRouteService API"
   ]
  },
  {
   "cell_type": "code",
   "execution_count": 48,
   "id": "6944b4ff-9dcd-483c-930b-26b03b1b36da",
   "metadata": {},
   "outputs": [
    {
     "name": "stdout",
     "output_type": "stream",
     "text": [
      "200\n"
     ]
    }
   ],
   "source": [
    "import requests\n",
    "\n",
    "response = requests.get('http://spatialthoughts.com')\n",
    "print(response.status_code)"
   ]
  },
  {
   "cell_type": "code",
   "execution_count": 49,
   "id": "e6ca25b3-4fa7-45b2-989c-5bb4d0cd0481",
   "metadata": {},
   "outputs": [],
   "source": [
    "OPEN_ROUTE_SERVICE_KEY = '5b3ce3597851110001cf62482792ba47f66d4d00bfe816b84e9a9dae'"
   ]
  },
  {
   "cell_type": "code",
   "execution_count": 55,
   "id": "04ff92e3-8593-4db9-bcfb-a5d9ce1fa324",
   "metadata": {},
   "outputs": [
    {
     "name": "stdout",
     "output_type": "stream",
     "text": [
      "Request successful\n"
     ]
    }
   ],
   "source": [
    "parameters = {\n",
    "    'api_key': OPEN_ROUTE_SERVICE_KEY,\n",
    "    'start': str(san_francisco),\n",
    "    'end': str(new_york)\n",
    "}\n",
    "\n",
    "response = requests.get('https://api.openrouteservice.org/v2/directions/driving-car', params=parameters)\n",
    "\n",
    "if response.status_code == 200:\n",
    "    print('Request successful')\n",
    "    data = response.json()\n",
    "else:\n",
    "    print('Request failed')"
   ]
  },
  {
   "cell_type": "code",
   "execution_count": 62,
   "id": "ef065a50-96ca-4c6f-ac79-b5fc8fd317ab",
   "metadata": {},
   "outputs": [
    {
     "name": "stdout",
     "output_type": "stream",
     "text": [
      "4692.2778\n"
     ]
    }
   ],
   "source": [
    "summary = data['features'][0]['properties']['summary']\n",
    "print(summary['distance'] / 1000)"
   ]
  },
  {
   "cell_type": "code",
   "execution_count": 66,
   "id": "3fb32229-0c71-4a04-9304-786b272bfe40",
   "metadata": {},
   "outputs": [],
   "source": [
    "def  get_driving_distance(source: Point, destination: Point):\n",
    "    \"\"\" Returns the driving distance between two points \"\"\"\n",
    "    \n",
    "    parameters = {\n",
    "        'api_key': OPEN_ROUTE_SERVICE_KEY,\n",
    "        'start': str(source),\n",
    "        'end': str(destination)\n",
    "    }\n",
    "    \n",
    "    response = requests.get('https://api.openrouteservice.org/v2/directions/driving-car', params=parameters)\n",
    "    \n",
    "    if response.status_code == 200:\n",
    "        data = response.json()\n",
    "        summary = data['features'][0]['properties']['summary']\n",
    "        distance = summary['distance'] / 1000\n",
    "        return distance\n",
    "        \n",
    "    else:\n",
    "        print('Request failed.')\n",
    "        return -1\n",
    "    "
   ]
  },
  {
   "cell_type": "code",
   "execution_count": 70,
   "id": "eb962294-ce0d-453e-9851-919d5f6d336e",
   "metadata": {},
   "outputs": [],
   "source": [
    "source = san_francisco\n",
    "\n",
    "destination_cities = {\n",
    "    'Los Angeles': Point(34.0522, -118.2437),\n",
    "    'Boston': Point(42.3601, -71.0589),\n",
    "    'Atlanta': Point(33.7490, -84.3880)\n",
    "}"
   ]
  },
  {
   "cell_type": "code",
   "execution_count": 79,
   "id": "2aea6501-421b-4b16-9964-e14b36ac9022",
   "metadata": {},
   "outputs": [
    {
     "name": "stdout",
     "output_type": "stream",
     "text": [
      "615.3162\n",
      "4986.664900000001\n",
      "3975.4229\n"
     ]
    }
   ],
   "source": [
    "import time\n",
    "for city_name, dest in destination_cities.items():\n",
    "    print(get_driving_distance(source, dest))\n",
    "    time.sleep(2)"
   ]
  },
  {
   "cell_type": "markdown",
   "id": "b0b26bea-4e33-480a-8d4e-9cb5f49a8f16",
   "metadata": {},
   "source": [
    "### Working with Pandas"
   ]
  },
  {
   "cell_type": "code",
   "execution_count": 80,
   "id": "071709da-0144-4cb3-91cb-09d60159d4ce",
   "metadata": {},
   "outputs": [
    {
     "name": "stdout",
     "output_type": "stream",
     "text": [
      "          city   city_ascii      lat       lng        country iso2 iso3  \\\n",
      "0        Tokyo        Tokyo  35.6850  139.7514          Japan   JP  JPN   \n",
      "1     New York     New York  40.6943  -73.9249  United States   US  USA   \n",
      "2  Mexico City  Mexico City  19.4424  -99.1310         Mexico   MX  MEX   \n",
      "3       Mumbai       Mumbai  19.0170   72.8570          India   IN  IND   \n",
      "4    São Paulo    Sao Paulo -23.5587  -46.6250         Brazil   BR  BRA   \n",
      "\n",
      "         admin_name  capital  population          id  \n",
      "0             Tōkyō  primary  35676000.0  1392685764  \n",
      "1          New York      NaN  19354922.0  1840034016  \n",
      "2  Ciudad de México  primary  19028000.0  1484247881  \n",
      "3       Mahārāshtra    admin  18978000.0  1356226629  \n",
      "4         São Paulo    admin  18845000.0  1076532519  \n"
     ]
    }
   ],
   "source": [
    "import os\n",
    "import pandas as pd\n",
    "\n",
    "data_pkg_path = 'data'\n",
    "filename = 'worldcities.csv'\n",
    "path = os.path.join(data_pkg_path, filename)\n",
    "df = pd.read_csv(path)\n",
    "print(df.head())"
   ]
  },
  {
   "cell_type": "code",
   "execution_count": 81,
   "id": "e9775b33-3b10-4808-8fd0-45b259a4d9a5",
   "metadata": {},
   "outputs": [
    {
     "name": "stdout",
     "output_type": "stream",
     "text": [
      "           city city_ascii      lat      lng country iso2 iso3  \\\n",
      "3        Mumbai     Mumbai  19.0170  72.8570   India   IN  IND   \n",
      "5         Delhi      Delhi  28.6700  77.2300   India   IN  IND   \n",
      "7       Kolkata    Kolkata  22.4950  88.3247   India   IN  IND   \n",
      "34      Chennai    Chennai  13.0900  80.2800   India   IN  IND   \n",
      "36    Bengalūru  Bengaluru  12.9700  77.5600   India   IN  IND   \n",
      "...         ...        ...      ...      ...     ...  ...  ...   \n",
      "7305      Karūr      Karur  10.9504  78.0833   India   IN  IND   \n",
      "7441     Jorhāt     Jorhat  26.7500  94.2167   India   IN  IND   \n",
      "7583      Sopur      Sopur  34.3000  74.4667   India   IN  IND   \n",
      "7681     Tezpur     Tezpur  26.6338  92.8000   India   IN  IND   \n",
      "9384        Diu        Diu  20.7197  70.9904   India   IN  IND   \n",
      "\n",
      "             admin_name capital  population          id  \n",
      "3           Mahārāshtra   admin  18978000.0  1356226629  \n",
      "5                 Delhi   admin  15926000.0  1356872604  \n",
      "7           West Bengal   admin  14787000.0  1356060520  \n",
      "34          Tamil Nādu    admin   7163000.0  1356374944  \n",
      "36            Karnātaka   admin   6787000.0  1356410365  \n",
      "...                 ...     ...         ...         ...  \n",
      "7305        Tamil Nādu      NaN     76915.0  1356837900  \n",
      "7441              Assam     NaN     69033.0  1356638741  \n",
      "7583  Jammu and Kashmīr     NaN     63035.0  1356978065  \n",
      "7681              Assam     NaN     58851.0  1356299437  \n",
      "9384      Damān and Diu     NaN     23779.0  1356923516  \n",
      "\n",
      "[212 rows x 11 columns]\n"
     ]
    }
   ],
   "source": [
    "# Filtering data\n",
    "\n",
    "filtered = df[df['country'] == 'India']\n",
    "print(filtered)"
   ]
  },
  {
   "cell_type": "code",
   "execution_count": 82,
   "id": "5e6931cf-a639-4010-b4c0-4704e27d7b61",
   "metadata": {},
   "outputs": [
    {
     "name": "stdout",
     "output_type": "stream",
     "text": [
      "city                     Cali\n",
      "city_ascii               Cali\n",
      "lat                       3.4\n",
      "lng                     -76.5\n",
      "country              Colombia\n",
      "iso2                       CO\n",
      "iso3                      COL\n",
      "admin_name    Valle del Cauca\n",
      "capital                 admin\n",
      "population          2254000.0\n",
      "id                 1170417589\n",
      "Name: 178, dtype: object\n"
     ]
    }
   ],
   "source": [
    "country_df = df[df['country'] == 'Colombia'].copy()\n",
    "filtered = country_df[country_df['city_ascii'] == 'Cali']\n",
    "print(filtered.iloc[0])"
   ]
  },
  {
   "cell_type": "code",
   "execution_count": 83,
   "id": "05481c2f-1f7b-46f8-b1ed-bf0bc370b5b5",
   "metadata": {},
   "outputs": [
    {
     "name": "stdout",
     "output_type": "stream",
     "text": [
      "(3.4, -76.5)\n"
     ]
    }
   ],
   "source": [
    "city_coordinates = (filtered.iloc[0]['lat'], filtered.iloc[0]['lng'])\n",
    "print(city_coordinates)"
   ]
  },
  {
   "cell_type": "code",
   "execution_count": 85,
   "id": "3fecbc9a-2e3a-4ecd-a4af-19bb803fe974",
   "metadata": {},
   "outputs": [
    {
     "name": "stdout",
     "output_type": "stream",
     "text": [
      "29       299.207840\n",
      "100      334.068424\n",
      "178        0.000000\n",
      "235      856.878700\n",
      "491      556.771455\n",
      "            ...    \n",
      "10902    177.419668\n",
      "14272    593.326841\n",
      "14278    266.915039\n",
      "14300    434.480165\n",
      "14326    253.748533\n",
      "Length: 72, dtype: float64\n"
     ]
    }
   ],
   "source": [
    "from geopy import distance\n",
    "def calculate_distance_to_home_city(row):\n",
    "    city_coords = (row['lat'], row['lng'])\n",
    "    return distance.geodesic(city_coords, city_coordinates).km\n",
    "\n",
    "result = country_df.apply(calculate_distance_to_home_city, axis=1)\n",
    "print(result)"
   ]
  },
  {
   "cell_type": "code",
   "execution_count": 86,
   "id": "36ef271a-0f5a-4ceb-99fe-b1bfb13fa6f7",
   "metadata": {},
   "outputs": [
    {
     "data": {
      "text/html": [
       "<div>\n",
       "<style scoped>\n",
       "    .dataframe tbody tr th:only-of-type {\n",
       "        vertical-align: middle;\n",
       "    }\n",
       "\n",
       "    .dataframe tbody tr th {\n",
       "        vertical-align: top;\n",
       "    }\n",
       "\n",
       "    .dataframe thead th {\n",
       "        text-align: right;\n",
       "    }\n",
       "</style>\n",
       "<table border=\"1\" class=\"dataframe\">\n",
       "  <thead>\n",
       "    <tr style=\"text-align: right;\">\n",
       "      <th></th>\n",
       "      <th>city</th>\n",
       "      <th>city_ascii</th>\n",
       "      <th>lat</th>\n",
       "      <th>lng</th>\n",
       "      <th>country</th>\n",
       "      <th>iso2</th>\n",
       "      <th>iso3</th>\n",
       "      <th>admin_name</th>\n",
       "      <th>capital</th>\n",
       "      <th>population</th>\n",
       "      <th>id</th>\n",
       "      <th>distance</th>\n",
       "    </tr>\n",
       "  </thead>\n",
       "  <tbody>\n",
       "    <tr>\n",
       "      <th>29</th>\n",
       "      <td>Bogotá</td>\n",
       "      <td>Bogota</td>\n",
       "      <td>4.5964</td>\n",
       "      <td>-74.0833</td>\n",
       "      <td>Colombia</td>\n",
       "      <td>CO</td>\n",
       "      <td>COL</td>\n",
       "      <td>Bogotá</td>\n",
       "      <td>primary</td>\n",
       "      <td>7772000.0</td>\n",
       "      <td>1170483426</td>\n",
       "      <td>299.207840</td>\n",
       "    </tr>\n",
       "    <tr>\n",
       "      <th>100</th>\n",
       "      <td>Medellín</td>\n",
       "      <td>Medellin</td>\n",
       "      <td>6.2750</td>\n",
       "      <td>-75.5750</td>\n",
       "      <td>Colombia</td>\n",
       "      <td>CO</td>\n",
       "      <td>COL</td>\n",
       "      <td>Antioquia</td>\n",
       "      <td>admin</td>\n",
       "      <td>3297000.0</td>\n",
       "      <td>1170680389</td>\n",
       "      <td>334.068424</td>\n",
       "    </tr>\n",
       "    <tr>\n",
       "      <th>178</th>\n",
       "      <td>Cali</td>\n",
       "      <td>Cali</td>\n",
       "      <td>3.4000</td>\n",
       "      <td>-76.5000</td>\n",
       "      <td>Colombia</td>\n",
       "      <td>CO</td>\n",
       "      <td>COL</td>\n",
       "      <td>Valle del Cauca</td>\n",
       "      <td>admin</td>\n",
       "      <td>2254000.0</td>\n",
       "      <td>1170417589</td>\n",
       "      <td>0.000000</td>\n",
       "    </tr>\n",
       "    <tr>\n",
       "      <th>235</th>\n",
       "      <td>Barranquilla</td>\n",
       "      <td>Barranquilla</td>\n",
       "      <td>10.9600</td>\n",
       "      <td>-74.8000</td>\n",
       "      <td>Colombia</td>\n",
       "      <td>CO</td>\n",
       "      <td>COL</td>\n",
       "      <td>Atlántico</td>\n",
       "      <td>admin</td>\n",
       "      <td>1798000.0</td>\n",
       "      <td>1170179113</td>\n",
       "      <td>856.878700</td>\n",
       "    </tr>\n",
       "    <tr>\n",
       "      <th>491</th>\n",
       "      <td>Bucaramanga</td>\n",
       "      <td>Bucaramanga</td>\n",
       "      <td>7.1301</td>\n",
       "      <td>-73.1259</td>\n",
       "      <td>Colombia</td>\n",
       "      <td>CO</td>\n",
       "      <td>COL</td>\n",
       "      <td>Santander</td>\n",
       "      <td>admin</td>\n",
       "      <td>1009000.0</td>\n",
       "      <td>1170940590</td>\n",
       "      <td>556.771455</td>\n",
       "    </tr>\n",
       "  </tbody>\n",
       "</table>\n",
       "</div>"
      ],
      "text/plain": [
       "             city    city_ascii      lat      lng   country iso2 iso3  \\\n",
       "29         Bogotá        Bogota   4.5964 -74.0833  Colombia   CO  COL   \n",
       "100      Medellín      Medellin   6.2750 -75.5750  Colombia   CO  COL   \n",
       "178          Cali          Cali   3.4000 -76.5000  Colombia   CO  COL   \n",
       "235  Barranquilla  Barranquilla  10.9600 -74.8000  Colombia   CO  COL   \n",
       "491   Bucaramanga   Bucaramanga   7.1301 -73.1259  Colombia   CO  COL   \n",
       "\n",
       "          admin_name  capital  population          id    distance  \n",
       "29            Bogotá  primary   7772000.0  1170483426  299.207840  \n",
       "100        Antioquia    admin   3297000.0  1170680389  334.068424  \n",
       "178  Valle del Cauca    admin   2254000.0  1170417589    0.000000  \n",
       "235        Atlántico    admin   1798000.0  1170179113  856.878700  \n",
       "491        Santander    admin   1009000.0  1170940590  556.771455  "
      ]
     },
     "execution_count": 86,
     "metadata": {},
     "output_type": "execute_result"
    }
   ],
   "source": [
    "country_df['distance'] = result\n",
    "country_df.head()"
   ]
  },
  {
   "cell_type": "markdown",
   "id": "8cd6a400-11e3-4457-99ba-85c7f01e4b0e",
   "metadata": {},
   "source": [
    "### Geopandas"
   ]
  },
  {
   "cell_type": "code",
   "execution_count": 2,
   "id": "a1fbd663-505a-4a31-afdf-837985ce1f9c",
   "metadata": {},
   "outputs": [],
   "source": [
    "import os\n",
    "import pandas as pd\n",
    "import geopandas as gpd"
   ]
  },
  {
   "cell_type": "code",
   "execution_count": 3,
   "id": "db33b14c-623a-4214-8064-c8f63093fe6e",
   "metadata": {},
   "outputs": [],
   "source": [
    "folder = 'data/geonames'\n",
    "file = 'US.txt'\n",
    "file_path = os.path.join(folder, file)"
   ]
  },
  {
   "cell_type": "code",
   "execution_count": 4,
   "id": "cfd1dff1-c15d-47fd-9d1f-f74c6059743f",
   "metadata": {},
   "outputs": [
    {
     "name": "stderr",
     "output_type": "stream",
     "text": [
      "/opt/conda/lib/python3.9/site-packages/IPython/core/interactiveshell.py:3444: DtypeWarning: Columns (9,11) have mixed types.Specify dtype option on import or set low_memory=False.\n",
      "  exec(code_obj, self.user_global_ns, self.user_ns)\n"
     ]
    },
    {
     "name": "stdout",
     "output_type": "stream",
     "text": [
      "<class 'pandas.core.frame.DataFrame'>\n",
      "RangeIndex: 2237861 entries, 0 to 2237860\n",
      "Data columns (total 19 columns):\n",
      " #   Column             Dtype  \n",
      "---  ------             -----  \n",
      " 0   geonameid          int64  \n",
      " 1   name               object \n",
      " 2   asciiname          object \n",
      " 3   alternatenames     object \n",
      " 4   latitude           float64\n",
      " 5   longitude          float64\n",
      " 6   feature class      object \n",
      " 7   feature code       object \n",
      " 8   country code       object \n",
      " 9   cc2                object \n",
      " 10  admin1 code        object \n",
      " 11  admin2 code        object \n",
      " 12  admin3 code        float64\n",
      " 13  admin4 code        float64\n",
      " 14  population         int64  \n",
      " 15  elevation          float64\n",
      " 16  dem                int64  \n",
      " 17  timezone           object \n",
      " 18  modification date  object \n",
      "dtypes: float64(5), int64(3), object(11)\n",
      "memory usage: 324.4+ MB\n",
      "None\n"
     ]
    }
   ],
   "source": [
    "column_names = [\n",
    "    'geonameid', 'name', 'asciiname', 'alternatenames', \n",
    "    'latitude', 'longitude', 'feature class', 'feature code',\n",
    "    'country code', 'cc2', 'admin1 code', 'admin2 code',\n",
    "    'admin3 code', 'admin4 code', 'population', 'elevation',\n",
    "    'dem', 'timezone', 'modification date'\n",
    "]\n",
    "\n",
    "df = pd.read_csv(file_path, sep='\\t', names=column_names)\n",
    "print(df.info())"
   ]
  },
  {
   "cell_type": "code",
   "execution_count": 5,
   "id": "6bc6f04e-c84a-47dd-8e5e-98958cbb8088",
   "metadata": {},
   "outputs": [
    {
     "data": {
      "text/plain": [
       "Index(['geonameid', 'name', 'asciiname', 'alternatenames', 'latitude',\n",
       "       'longitude', 'feature class', 'feature code', 'country code', 'cc2',\n",
       "       'admin1 code', 'admin2 code', 'admin3 code', 'admin4 code',\n",
       "       'population', 'elevation', 'dem', 'timezone', 'modification date'],\n",
       "      dtype='object')"
      ]
     },
     "execution_count": 5,
     "metadata": {},
     "output_type": "execute_result"
    }
   ],
   "source": [
    "df.columns"
   ]
  },
  {
   "cell_type": "code",
   "execution_count": 6,
   "id": "b5c18ece-4e6d-492c-9835-a28f084a04c9",
   "metadata": {},
   "outputs": [
    {
     "data": {
      "text/html": [
       "<div>\n",
       "<style scoped>\n",
       "    .dataframe tbody tr th:only-of-type {\n",
       "        vertical-align: middle;\n",
       "    }\n",
       "\n",
       "    .dataframe tbody tr th {\n",
       "        vertical-align: top;\n",
       "    }\n",
       "\n",
       "    .dataframe thead th {\n",
       "        text-align: right;\n",
       "    }\n",
       "</style>\n",
       "<table border=\"1\" class=\"dataframe\">\n",
       "  <thead>\n",
       "    <tr style=\"text-align: right;\">\n",
       "      <th></th>\n",
       "      <th>geonameid</th>\n",
       "      <th>name</th>\n",
       "      <th>asciiname</th>\n",
       "      <th>alternatenames</th>\n",
       "      <th>latitude</th>\n",
       "      <th>longitude</th>\n",
       "      <th>feature class</th>\n",
       "      <th>feature code</th>\n",
       "      <th>country code</th>\n",
       "      <th>cc2</th>\n",
       "      <th>admin1 code</th>\n",
       "      <th>admin2 code</th>\n",
       "      <th>admin3 code</th>\n",
       "      <th>admin4 code</th>\n",
       "      <th>population</th>\n",
       "      <th>elevation</th>\n",
       "      <th>dem</th>\n",
       "      <th>timezone</th>\n",
       "      <th>modification date</th>\n",
       "    </tr>\n",
       "  </thead>\n",
       "  <tbody>\n",
       "    <tr>\n",
       "      <th>0</th>\n",
       "      <td>2130833</td>\n",
       "      <td>McArthur Reef</td>\n",
       "      <td>McArthur Reef</td>\n",
       "      <td>NaN</td>\n",
       "      <td>52.06667</td>\n",
       "      <td>177.86667</td>\n",
       "      <td>U</td>\n",
       "      <td>RFU</td>\n",
       "      <td>US</td>\n",
       "      <td>NaN</td>\n",
       "      <td>AK</td>\n",
       "      <td>16.0</td>\n",
       "      <td>NaN</td>\n",
       "      <td>NaN</td>\n",
       "      <td>0</td>\n",
       "      <td>NaN</td>\n",
       "      <td>-9999</td>\n",
       "      <td>Asia/Kamchatka</td>\n",
       "      <td>2016-07-05</td>\n",
       "    </tr>\n",
       "    <tr>\n",
       "      <th>1</th>\n",
       "      <td>3577483</td>\n",
       "      <td>The Narrows</td>\n",
       "      <td>The Narrows</td>\n",
       "      <td>The Narrows</td>\n",
       "      <td>18.37502</td>\n",
       "      <td>-64.72517</td>\n",
       "      <td>H</td>\n",
       "      <td>CHN</td>\n",
       "      <td>US</td>\n",
       "      <td>VG</td>\n",
       "      <td>00</td>\n",
       "      <td>NaN</td>\n",
       "      <td>NaN</td>\n",
       "      <td>NaN</td>\n",
       "      <td>0</td>\n",
       "      <td>NaN</td>\n",
       "      <td>-9999</td>\n",
       "      <td>America/St_Thomas</td>\n",
       "      <td>2018-11-06</td>\n",
       "    </tr>\n",
       "    <tr>\n",
       "      <th>2</th>\n",
       "      <td>3831601</td>\n",
       "      <td>Nantucket Shoals</td>\n",
       "      <td>Nantucket Shoals</td>\n",
       "      <td>NaN</td>\n",
       "      <td>41.06917</td>\n",
       "      <td>-69.67983</td>\n",
       "      <td>U</td>\n",
       "      <td>SHSU</td>\n",
       "      <td>US</td>\n",
       "      <td>NaN</td>\n",
       "      <td>MA</td>\n",
       "      <td>NaN</td>\n",
       "      <td>NaN</td>\n",
       "      <td>NaN</td>\n",
       "      <td>0</td>\n",
       "      <td>NaN</td>\n",
       "      <td>-9999</td>\n",
       "      <td>NaN</td>\n",
       "      <td>2019-03-18</td>\n",
       "    </tr>\n",
       "    <tr>\n",
       "      <th>3</th>\n",
       "      <td>3831610</td>\n",
       "      <td>Little Stellwagen Basin</td>\n",
       "      <td>Little Stellwagen Basin</td>\n",
       "      <td>NaN</td>\n",
       "      <td>42.11667</td>\n",
       "      <td>-70.28333</td>\n",
       "      <td>U</td>\n",
       "      <td>BSNU</td>\n",
       "      <td>US</td>\n",
       "      <td>NaN</td>\n",
       "      <td>00</td>\n",
       "      <td>NaN</td>\n",
       "      <td>NaN</td>\n",
       "      <td>NaN</td>\n",
       "      <td>0</td>\n",
       "      <td>NaN</td>\n",
       "      <td>-9999</td>\n",
       "      <td>America/New_York</td>\n",
       "      <td>2017-05-26</td>\n",
       "    </tr>\n",
       "    <tr>\n",
       "      <th>4</th>\n",
       "      <td>3831661</td>\n",
       "      <td>Cashes Ledge</td>\n",
       "      <td>Cashes Ledge</td>\n",
       "      <td>Cash Ledge,Cashe Ledge</td>\n",
       "      <td>42.91328</td>\n",
       "      <td>-68.95380</td>\n",
       "      <td>U</td>\n",
       "      <td>RDGU</td>\n",
       "      <td>US</td>\n",
       "      <td>NaN</td>\n",
       "      <td>NaN</td>\n",
       "      <td>NaN</td>\n",
       "      <td>NaN</td>\n",
       "      <td>NaN</td>\n",
       "      <td>0</td>\n",
       "      <td>NaN</td>\n",
       "      <td>-9999</td>\n",
       "      <td>NaN</td>\n",
       "      <td>2019-02-11</td>\n",
       "    </tr>\n",
       "  </tbody>\n",
       "</table>\n",
       "</div>"
      ],
      "text/plain": [
       "   geonameid                     name                asciiname  \\\n",
       "0    2130833            McArthur Reef            McArthur Reef   \n",
       "1    3577483              The Narrows              The Narrows   \n",
       "2    3831601         Nantucket Shoals         Nantucket Shoals   \n",
       "3    3831610  Little Stellwagen Basin  Little Stellwagen Basin   \n",
       "4    3831661             Cashes Ledge             Cashes Ledge   \n",
       "\n",
       "           alternatenames  latitude  longitude feature class feature code  \\\n",
       "0                     NaN  52.06667  177.86667             U          RFU   \n",
       "1             The Narrows  18.37502  -64.72517             H          CHN   \n",
       "2                     NaN  41.06917  -69.67983             U         SHSU   \n",
       "3                     NaN  42.11667  -70.28333             U         BSNU   \n",
       "4  Cash Ledge,Cashe Ledge  42.91328  -68.95380             U         RDGU   \n",
       "\n",
       "  country code  cc2 admin1 code admin2 code  admin3 code  admin4 code  \\\n",
       "0           US  NaN          AK        16.0          NaN          NaN   \n",
       "1           US   VG          00         NaN          NaN          NaN   \n",
       "2           US  NaN          MA         NaN          NaN          NaN   \n",
       "3           US  NaN          00         NaN          NaN          NaN   \n",
       "4           US  NaN         NaN         NaN          NaN          NaN   \n",
       "\n",
       "   population  elevation   dem           timezone modification date  \n",
       "0           0        NaN -9999     Asia/Kamchatka        2016-07-05  \n",
       "1           0        NaN -9999  America/St_Thomas        2018-11-06  \n",
       "2           0        NaN -9999                NaN        2019-03-18  \n",
       "3           0        NaN -9999   America/New_York        2017-05-26  \n",
       "4           0        NaN -9999                NaN        2019-02-11  "
      ]
     },
     "execution_count": 6,
     "metadata": {},
     "output_type": "execute_result"
    }
   ],
   "source": [
    "df.head()"
   ]
  },
  {
   "cell_type": "code",
   "execution_count": 10,
   "id": "e5acadd1-8d4e-4139-a361-dc82b9d8fe68",
   "metadata": {},
   "outputs": [
    {
     "data": {
      "text/plain": [
       "S    1145159\n",
       "H     506986\n",
       "T     225328\n",
       "P     193111\n",
       "L      80152\n",
       "A      55834\n",
       "R      26263\n",
       "V       2173\n",
       "U        198\n",
       "Name: feature class, dtype: int64"
      ]
     },
     "execution_count": 10,
     "metadata": {},
     "output_type": "execute_result"
    }
   ],
   "source": [
    "df['feature class'].value_counts()"
   ]
  },
  {
   "cell_type": "code",
   "execution_count": 11,
   "id": "d2e118ea-5bc4-4868-8643-b46c74dcd839",
   "metadata": {},
   "outputs": [
    {
     "data": {
      "text/html": [
       "<div>\n",
       "<style scoped>\n",
       "    .dataframe tbody tr th:only-of-type {\n",
       "        vertical-align: middle;\n",
       "    }\n",
       "\n",
       "    .dataframe tbody tr th {\n",
       "        vertical-align: top;\n",
       "    }\n",
       "\n",
       "    .dataframe thead th {\n",
       "        text-align: right;\n",
       "    }\n",
       "</style>\n",
       "<table border=\"1\" class=\"dataframe\">\n",
       "  <thead>\n",
       "    <tr style=\"text-align: right;\">\n",
       "      <th></th>\n",
       "      <th>geonameid</th>\n",
       "      <th>name</th>\n",
       "      <th>asciiname</th>\n",
       "      <th>alternatenames</th>\n",
       "      <th>latitude</th>\n",
       "      <th>longitude</th>\n",
       "      <th>feature class</th>\n",
       "      <th>feature code</th>\n",
       "      <th>country code</th>\n",
       "      <th>cc2</th>\n",
       "      <th>admin1 code</th>\n",
       "      <th>admin2 code</th>\n",
       "      <th>admin3 code</th>\n",
       "      <th>admin4 code</th>\n",
       "      <th>population</th>\n",
       "      <th>elevation</th>\n",
       "      <th>dem</th>\n",
       "      <th>timezone</th>\n",
       "      <th>modification date</th>\n",
       "    </tr>\n",
       "  </thead>\n",
       "  <tbody>\n",
       "    <tr>\n",
       "      <th>15</th>\n",
       "      <td>4045410</td>\n",
       "      <td>Vulcan Point</td>\n",
       "      <td>Vulcan Point</td>\n",
       "      <td>Volcan Point,Vulcan Point</td>\n",
       "      <td>52.10222</td>\n",
       "      <td>177.53889</td>\n",
       "      <td>T</td>\n",
       "      <td>CAPE</td>\n",
       "      <td>US</td>\n",
       "      <td>NaN</td>\n",
       "      <td>AK</td>\n",
       "      <td>16.0</td>\n",
       "      <td>NaN</td>\n",
       "      <td>NaN</td>\n",
       "      <td>0</td>\n",
       "      <td>NaN</td>\n",
       "      <td>-9999</td>\n",
       "      <td>America/Adak</td>\n",
       "      <td>2014-10-08</td>\n",
       "    </tr>\n",
       "    <tr>\n",
       "      <th>16</th>\n",
       "      <td>4045411</td>\n",
       "      <td>Tropical Ridge</td>\n",
       "      <td>Tropical Ridge</td>\n",
       "      <td>NaN</td>\n",
       "      <td>51.99167</td>\n",
       "      <td>177.50833</td>\n",
       "      <td>T</td>\n",
       "      <td>RDGE</td>\n",
       "      <td>US</td>\n",
       "      <td>NaN</td>\n",
       "      <td>AK</td>\n",
       "      <td>16.0</td>\n",
       "      <td>NaN</td>\n",
       "      <td>NaN</td>\n",
       "      <td>0</td>\n",
       "      <td>NaN</td>\n",
       "      <td>267</td>\n",
       "      <td>America/Adak</td>\n",
       "      <td>2010-01-30</td>\n",
       "    </tr>\n",
       "    <tr>\n",
       "      <th>17</th>\n",
       "      <td>4045412</td>\n",
       "      <td>Thirty-Seven Hill</td>\n",
       "      <td>Thirty-Seven Hill</td>\n",
       "      <td>NaN</td>\n",
       "      <td>52.84528</td>\n",
       "      <td>173.15278</td>\n",
       "      <td>T</td>\n",
       "      <td>MT</td>\n",
       "      <td>US</td>\n",
       "      <td>NaN</td>\n",
       "      <td>AK</td>\n",
       "      <td>16.0</td>\n",
       "      <td>NaN</td>\n",
       "      <td>NaN</td>\n",
       "      <td>0</td>\n",
       "      <td>NaN</td>\n",
       "      <td>193</td>\n",
       "      <td>America/Adak</td>\n",
       "      <td>2014-10-08</td>\n",
       "    </tr>\n",
       "    <tr>\n",
       "      <th>20</th>\n",
       "      <td>4045415</td>\n",
       "      <td>Square Point</td>\n",
       "      <td>Square Point</td>\n",
       "      <td>NaN</td>\n",
       "      <td>52.86120</td>\n",
       "      <td>173.33679</td>\n",
       "      <td>T</td>\n",
       "      <td>CAPE</td>\n",
       "      <td>US</td>\n",
       "      <td>NaN</td>\n",
       "      <td>AK</td>\n",
       "      <td>16.0</td>\n",
       "      <td>NaN</td>\n",
       "      <td>NaN</td>\n",
       "      <td>0</td>\n",
       "      <td>NaN</td>\n",
       "      <td>30</td>\n",
       "      <td>America/Adak</td>\n",
       "      <td>2014-11-17</td>\n",
       "    </tr>\n",
       "    <tr>\n",
       "      <th>21</th>\n",
       "      <td>4045416</td>\n",
       "      <td>Square Bluff</td>\n",
       "      <td>Square Bluff</td>\n",
       "      <td>NaN</td>\n",
       "      <td>51.65000</td>\n",
       "      <td>178.70000</td>\n",
       "      <td>T</td>\n",
       "      <td>CLF</td>\n",
       "      <td>US</td>\n",
       "      <td>NaN</td>\n",
       "      <td>AK</td>\n",
       "      <td>16.0</td>\n",
       "      <td>NaN</td>\n",
       "      <td>NaN</td>\n",
       "      <td>0</td>\n",
       "      <td>NaN</td>\n",
       "      <td>-9999</td>\n",
       "      <td>America/Adak</td>\n",
       "      <td>2014-10-08</td>\n",
       "    </tr>\n",
       "  </tbody>\n",
       "</table>\n",
       "</div>"
      ],
      "text/plain": [
       "    geonameid               name          asciiname  \\\n",
       "15    4045410       Vulcan Point       Vulcan Point   \n",
       "16    4045411     Tropical Ridge     Tropical Ridge   \n",
       "17    4045412  Thirty-Seven Hill  Thirty-Seven Hill   \n",
       "20    4045415       Square Point       Square Point   \n",
       "21    4045416       Square Bluff       Square Bluff   \n",
       "\n",
       "               alternatenames  latitude  longitude feature class feature code  \\\n",
       "15  Volcan Point,Vulcan Point  52.10222  177.53889             T         CAPE   \n",
       "16                        NaN  51.99167  177.50833             T         RDGE   \n",
       "17                        NaN  52.84528  173.15278             T           MT   \n",
       "20                        NaN  52.86120  173.33679             T         CAPE   \n",
       "21                        NaN  51.65000  178.70000             T          CLF   \n",
       "\n",
       "   country code  cc2 admin1 code admin2 code  admin3 code  admin4 code  \\\n",
       "15           US  NaN          AK        16.0          NaN          NaN   \n",
       "16           US  NaN          AK        16.0          NaN          NaN   \n",
       "17           US  NaN          AK        16.0          NaN          NaN   \n",
       "20           US  NaN          AK        16.0          NaN          NaN   \n",
       "21           US  NaN          AK        16.0          NaN          NaN   \n",
       "\n",
       "    population  elevation   dem      timezone modification date  \n",
       "15           0        NaN -9999  America/Adak        2014-10-08  \n",
       "16           0        NaN   267  America/Adak        2010-01-30  \n",
       "17           0        NaN   193  America/Adak        2014-10-08  \n",
       "20           0        NaN    30  America/Adak        2014-11-17  \n",
       "21           0        NaN -9999  America/Adak        2014-10-08  "
      ]
     },
     "execution_count": 11,
     "metadata": {},
     "output_type": "execute_result"
    }
   ],
   "source": [
    "mountains = df[df['feature class'] == 'T']\n",
    "mountains.head()"
   ]
  },
  {
   "cell_type": "code",
   "execution_count": 12,
   "id": "c4927b47-f6a5-47d5-a5c4-637cb82caef8",
   "metadata": {},
   "outputs": [
    {
     "name": "stdout",
     "output_type": "stream",
     "text": [
      "                 name  latitude  longitude   dem feature class\n",
      "15       Vulcan Point  52.10222  177.53889 -9999             T\n",
      "16     Tropical Ridge  51.99167  177.50833   267             T\n",
      "17  Thirty-Seven Hill  52.84528  173.15278   193             T\n",
      "20       Square Point  52.86120  173.33679    30             T\n",
      "21       Square Bluff  51.65000  178.70000 -9999             T\n"
     ]
    }
   ],
   "source": [
    "print(mountains.head()[['name', 'latitude', 'longitude', 'dem','feature class']])"
   ]
  },
  {
   "cell_type": "code",
   "execution_count": 13,
   "id": "d805d370-f314-4599-a74e-7ba718393028",
   "metadata": {},
   "outputs": [
    {
     "data": {
      "text/html": [
       "<div>\n",
       "<style scoped>\n",
       "    .dataframe tbody tr th:only-of-type {\n",
       "        vertical-align: middle;\n",
       "    }\n",
       "\n",
       "    .dataframe tbody tr th {\n",
       "        vertical-align: top;\n",
       "    }\n",
       "\n",
       "    .dataframe thead th {\n",
       "        text-align: right;\n",
       "    }\n",
       "</style>\n",
       "<table border=\"1\" class=\"dataframe\">\n",
       "  <thead>\n",
       "    <tr style=\"text-align: right;\">\n",
       "      <th></th>\n",
       "      <th>geonameid</th>\n",
       "      <th>name</th>\n",
       "      <th>asciiname</th>\n",
       "      <th>alternatenames</th>\n",
       "      <th>latitude</th>\n",
       "      <th>longitude</th>\n",
       "      <th>feature class</th>\n",
       "      <th>feature code</th>\n",
       "      <th>country code</th>\n",
       "      <th>cc2</th>\n",
       "      <th>admin1 code</th>\n",
       "      <th>admin2 code</th>\n",
       "      <th>admin3 code</th>\n",
       "      <th>admin4 code</th>\n",
       "      <th>population</th>\n",
       "      <th>elevation</th>\n",
       "      <th>dem</th>\n",
       "      <th>timezone</th>\n",
       "      <th>modification date</th>\n",
       "      <th>geometry</th>\n",
       "    </tr>\n",
       "  </thead>\n",
       "  <tbody>\n",
       "    <tr>\n",
       "      <th>15</th>\n",
       "      <td>4045410</td>\n",
       "      <td>Vulcan Point</td>\n",
       "      <td>Vulcan Point</td>\n",
       "      <td>Volcan Point,Vulcan Point</td>\n",
       "      <td>52.10222</td>\n",
       "      <td>177.53889</td>\n",
       "      <td>T</td>\n",
       "      <td>CAPE</td>\n",
       "      <td>US</td>\n",
       "      <td>NaN</td>\n",
       "      <td>AK</td>\n",
       "      <td>16.0</td>\n",
       "      <td>NaN</td>\n",
       "      <td>NaN</td>\n",
       "      <td>0</td>\n",
       "      <td>NaN</td>\n",
       "      <td>-9999</td>\n",
       "      <td>America/Adak</td>\n",
       "      <td>2014-10-08</td>\n",
       "      <td>POINT (177.53889 52.10222)</td>\n",
       "    </tr>\n",
       "    <tr>\n",
       "      <th>16</th>\n",
       "      <td>4045411</td>\n",
       "      <td>Tropical Ridge</td>\n",
       "      <td>Tropical Ridge</td>\n",
       "      <td>NaN</td>\n",
       "      <td>51.99167</td>\n",
       "      <td>177.50833</td>\n",
       "      <td>T</td>\n",
       "      <td>RDGE</td>\n",
       "      <td>US</td>\n",
       "      <td>NaN</td>\n",
       "      <td>AK</td>\n",
       "      <td>16.0</td>\n",
       "      <td>NaN</td>\n",
       "      <td>NaN</td>\n",
       "      <td>0</td>\n",
       "      <td>NaN</td>\n",
       "      <td>267</td>\n",
       "      <td>America/Adak</td>\n",
       "      <td>2010-01-30</td>\n",
       "      <td>POINT (177.50833 51.99167)</td>\n",
       "    </tr>\n",
       "    <tr>\n",
       "      <th>17</th>\n",
       "      <td>4045412</td>\n",
       "      <td>Thirty-Seven Hill</td>\n",
       "      <td>Thirty-Seven Hill</td>\n",
       "      <td>NaN</td>\n",
       "      <td>52.84528</td>\n",
       "      <td>173.15278</td>\n",
       "      <td>T</td>\n",
       "      <td>MT</td>\n",
       "      <td>US</td>\n",
       "      <td>NaN</td>\n",
       "      <td>AK</td>\n",
       "      <td>16.0</td>\n",
       "      <td>NaN</td>\n",
       "      <td>NaN</td>\n",
       "      <td>0</td>\n",
       "      <td>NaN</td>\n",
       "      <td>193</td>\n",
       "      <td>America/Adak</td>\n",
       "      <td>2014-10-08</td>\n",
       "      <td>POINT (173.15278 52.84528)</td>\n",
       "    </tr>\n",
       "    <tr>\n",
       "      <th>20</th>\n",
       "      <td>4045415</td>\n",
       "      <td>Square Point</td>\n",
       "      <td>Square Point</td>\n",
       "      <td>NaN</td>\n",
       "      <td>52.86120</td>\n",
       "      <td>173.33679</td>\n",
       "      <td>T</td>\n",
       "      <td>CAPE</td>\n",
       "      <td>US</td>\n",
       "      <td>NaN</td>\n",
       "      <td>AK</td>\n",
       "      <td>16.0</td>\n",
       "      <td>NaN</td>\n",
       "      <td>NaN</td>\n",
       "      <td>0</td>\n",
       "      <td>NaN</td>\n",
       "      <td>30</td>\n",
       "      <td>America/Adak</td>\n",
       "      <td>2014-11-17</td>\n",
       "      <td>POINT (173.33679 52.86120)</td>\n",
       "    </tr>\n",
       "    <tr>\n",
       "      <th>21</th>\n",
       "      <td>4045416</td>\n",
       "      <td>Square Bluff</td>\n",
       "      <td>Square Bluff</td>\n",
       "      <td>NaN</td>\n",
       "      <td>51.65000</td>\n",
       "      <td>178.70000</td>\n",
       "      <td>T</td>\n",
       "      <td>CLF</td>\n",
       "      <td>US</td>\n",
       "      <td>NaN</td>\n",
       "      <td>AK</td>\n",
       "      <td>16.0</td>\n",
       "      <td>NaN</td>\n",
       "      <td>NaN</td>\n",
       "      <td>0</td>\n",
       "      <td>NaN</td>\n",
       "      <td>-9999</td>\n",
       "      <td>America/Adak</td>\n",
       "      <td>2014-10-08</td>\n",
       "      <td>POINT (178.70000 51.65000)</td>\n",
       "    </tr>\n",
       "  </tbody>\n",
       "</table>\n",
       "</div>"
      ],
      "text/plain": [
       "    geonameid               name          asciiname  \\\n",
       "15    4045410       Vulcan Point       Vulcan Point   \n",
       "16    4045411     Tropical Ridge     Tropical Ridge   \n",
       "17    4045412  Thirty-Seven Hill  Thirty-Seven Hill   \n",
       "20    4045415       Square Point       Square Point   \n",
       "21    4045416       Square Bluff       Square Bluff   \n",
       "\n",
       "               alternatenames  latitude  longitude feature class feature code  \\\n",
       "15  Volcan Point,Vulcan Point  52.10222  177.53889             T         CAPE   \n",
       "16                        NaN  51.99167  177.50833             T         RDGE   \n",
       "17                        NaN  52.84528  173.15278             T           MT   \n",
       "20                        NaN  52.86120  173.33679             T         CAPE   \n",
       "21                        NaN  51.65000  178.70000             T          CLF   \n",
       "\n",
       "   country code  cc2 admin1 code admin2 code  admin3 code  admin4 code  \\\n",
       "15           US  NaN          AK        16.0          NaN          NaN   \n",
       "16           US  NaN          AK        16.0          NaN          NaN   \n",
       "17           US  NaN          AK        16.0          NaN          NaN   \n",
       "20           US  NaN          AK        16.0          NaN          NaN   \n",
       "21           US  NaN          AK        16.0          NaN          NaN   \n",
       "\n",
       "    population  elevation   dem      timezone modification date  \\\n",
       "15           0        NaN -9999  America/Adak        2014-10-08   \n",
       "16           0        NaN   267  America/Adak        2010-01-30   \n",
       "17           0        NaN   193  America/Adak        2014-10-08   \n",
       "20           0        NaN    30  America/Adak        2014-11-17   \n",
       "21           0        NaN -9999  America/Adak        2014-10-08   \n",
       "\n",
       "                      geometry  \n",
       "15  POINT (177.53889 52.10222)  \n",
       "16  POINT (177.50833 51.99167)  \n",
       "17  POINT (173.15278 52.84528)  \n",
       "20  POINT (173.33679 52.86120)  \n",
       "21  POINT (178.70000 51.65000)  "
      ]
     },
     "execution_count": 13,
     "metadata": {},
     "output_type": "execute_result"
    }
   ],
   "source": [
    "geometry = gpd.points_from_xy(mountains.longitude, mountains.latitude)\n",
    "gdf = gpd.GeoDataFrame(mountains, geometry=geometry, crs='EPSG:4326')\n",
    "gdf.head()"
   ]
  },
  {
   "cell_type": "code",
   "execution_count": 14,
   "id": "8c0bd2ca-0f2a-48fb-bb95-40e2427b58fc",
   "metadata": {},
   "outputs": [
    {
     "name": "stdout",
     "output_type": "stream",
     "text": [
      "<class 'geopandas.geodataframe.GeoDataFrame'>\n",
      "Int64Index: 225328 entries, 15 to 2237836\n",
      "Data columns (total 20 columns):\n",
      " #   Column             Non-Null Count   Dtype   \n",
      "---  ------             --------------   -----   \n",
      " 0   geonameid          225328 non-null  int64   \n",
      " 1   name               225328 non-null  object  \n",
      " 2   asciiname          225328 non-null  object  \n",
      " 3   alternatenames     30933 non-null   object  \n",
      " 4   latitude           225328 non-null  float64 \n",
      " 5   longitude          225328 non-null  float64 \n",
      " 6   feature class      225328 non-null  object  \n",
      " 7   feature code       225328 non-null  object  \n",
      " 8   country code       225328 non-null  object  \n",
      " 9   cc2                5 non-null       object  \n",
      " 10  admin1 code        225327 non-null  object  \n",
      " 11  admin2 code        225170 non-null  object  \n",
      " 12  admin3 code        21646 non-null   float64 \n",
      " 13  admin4 code        0 non-null       float64 \n",
      " 14  population         225328 non-null  int64   \n",
      " 15  elevation          224417 non-null  float64 \n",
      " 16  dem                225328 non-null  int64   \n",
      " 17  timezone           225273 non-null  object  \n",
      " 18  modification date  225328 non-null  object  \n",
      " 19  geometry           225328 non-null  geometry\n",
      "dtypes: float64(5), geometry(1), int64(3), object(11)\n",
      "memory usage: 36.1+ MB\n",
      "None\n"
     ]
    }
   ],
   "source": [
    "print(gdf.info())"
   ]
  },
  {
   "cell_type": "markdown",
   "id": "2cf763cb-75c2-491b-a8d0-f99e04871fdb",
   "metadata": {},
   "source": [
    "### Working with Rasterio"
   ]
  },
  {
   "cell_type": "code",
   "execution_count": 4,
   "id": "f8ab8ae0-eb37-479d-ace8-b3320b60d8fb",
   "metadata": {},
   "outputs": [],
   "source": [
    "import os\n",
    "import rasterio as rio"
   ]
  },
  {
   "cell_type": "code",
   "execution_count": 6,
   "id": "19b9c9f7-bb03-4a11-b918-36ba96b32c2d",
   "metadata": {},
   "outputs": [
    {
     "name": "stdout",
     "output_type": "stream",
     "text": [
      "data/srtm/N28E087.hgt\n"
     ]
    }
   ],
   "source": [
    "data_folder = 'data'\n",
    "srtm_dir = 'srtm'\n",
    "filename = 'N28E087.hgt'\n",
    "path = os.path.join(data_folder, srtm_dir, filename)\n",
    "print(path)"
   ]
  },
  {
   "cell_type": "code",
   "execution_count": 17,
   "id": "82527dde-9e0f-44f0-a36c-a08ae12bd302",
   "metadata": {},
   "outputs": [],
   "source": [
    "dataset = rio.open(path)"
   ]
  },
  {
   "cell_type": "code",
   "execution_count": 18,
   "id": "513d9b31-39b5-48f2-bf56-415fee4f1acd",
   "metadata": {},
   "outputs": [
    {
     "data": {
      "text/plain": [
       "{'driver': 'SRTMHGT',\n",
       " 'dtype': 'int16',\n",
       " 'nodata': -32768.0,\n",
       " 'width': 3601,\n",
       " 'height': 3601,\n",
       " 'count': 1,\n",
       " 'crs': CRS.from_epsg(4326),\n",
       " 'transform': Affine(0.0002777777777777778, 0.0, 86.99986111111112,\n",
       "        0.0, -0.0002777777777777778, 29.000138888888888)}"
      ]
     },
     "execution_count": 18,
     "metadata": {},
     "output_type": "execute_result"
    }
   ],
   "source": [
    "dataset.meta"
   ]
  },
  {
   "cell_type": "code",
   "execution_count": 19,
   "id": "92e2de69-f9c2-4b3a-8c34-e21e55f2de11",
   "metadata": {},
   "outputs": [],
   "source": [
    "# read a band from a raster\n",
    "band1 = dataset.read(1)"
   ]
  },
  {
   "cell_type": "code",
   "execution_count": 20,
   "id": "3f3181bc-213d-48c0-8bcf-b9c5303af4f8",
   "metadata": {},
   "outputs": [
    {
     "name": "stdout",
     "output_type": "stream",
     "text": [
      "[[5217 5211 5208 ... 5097 5098 5089]\n",
      " [5206 5201 5200 ... 5080 5075 5069]\n",
      " [5199 5194 5191 ... 5063 5055 5048]\n",
      " ...\n",
      " [5347 5345 5343 ... 5747 5750 5757]\n",
      " [5338 5338 5336 ... 5737 5740 5747]\n",
      " [5332 5331 5332 ... 5734 5736 5744]]\n"
     ]
    }
   ],
   "source": [
    "print(band1)"
   ]
  },
  {
   "cell_type": "code",
   "execution_count": 21,
   "id": "1b5c46c7-00e0-4039-9dc2-b5c1f39b3cb5",
   "metadata": {},
   "outputs": [
    {
     "data": {
      "text/plain": [
       "numpy.ndarray"
      ]
     },
     "execution_count": 21,
     "metadata": {},
     "output_type": "execute_result"
    }
   ],
   "source": [
    "type(band1)"
   ]
  },
  {
   "cell_type": "code",
   "execution_count": 25,
   "id": "c8c0f64b-f586-4024-bc9f-e9787ec58e8f",
   "metadata": {},
   "outputs": [
    {
     "name": "stdout",
     "output_type": "stream",
     "text": [
      "3601 rows x 3601 cols\n"
     ]
    }
   ],
   "source": [
    "shape = band1.shape\n",
    "print(f'{shape[0]} rows x {shape[1]} cols')"
   ]
  },
  {
   "cell_type": "code",
   "execution_count": 7,
   "id": "2c0562a8-2763-4844-9d7d-ba696604a34c",
   "metadata": {},
   "outputs": [
    {
     "name": "stdout",
     "output_type": "stream",
     "text": [
      "['data/srtm/N27E086.hgt', 'data/srtm/N27E087.hgt', 'data/srtm/N28E086.hgt', 'data/srtm/N28E087.hgt']\n"
     ]
    }
   ],
   "source": [
    "srtm_path = os.path.join(data_folder, srtm_dir)\n",
    "all_files = os.listdir(srtm_path)\n",
    "\n",
    "dataset_list = []\n",
    "\n",
    "for file in all_files:\n",
    "        path = os.path.join(data_folder, srtm_dir, file)\n",
    "        dataset_list.append(path)\n",
    "print(dataset_list)\n"
   ]
  },
  {
   "cell_type": "code",
   "execution_count": 27,
   "id": "cd87bc6d-5eab-4726-9b68-a94cfb69df87",
   "metadata": {},
   "outputs": [
    {
     "name": "stdout",
     "output_type": "stream",
     "text": [
      "(array([[[4916, 4926, 4931, ..., 5097, 5098, 5089],\n",
      "        [4919, 4932, 4928, ..., 5080, 5075, 5069],\n",
      "        [4919, 4928, 4935, ..., 5063, 5055, 5048],\n",
      "        ...,\n",
      "        [ 368,  368,  366, ..., 1905, 1919, 1937],\n",
      "        [ 364,  364,  362, ..., 1913, 1930, 1944],\n",
      "        [ 360,  359,  357, ..., 1918, 1930, 1942]]], dtype=int16), Affine(0.0002777777777777778, 0.0, 85.99986111111112,\n",
      "       0.0, -0.0002777777777777778, 29.000138888888888))\n"
     ]
    }
   ],
   "source": [
    "from rasterio import merge\n",
    "merged_result = merge.merge(dataset_list)\n",
    "print(merged_result)"
   ]
  },
  {
   "cell_type": "code",
   "execution_count": 28,
   "id": "65eb7c94-532d-47a8-a622-f079821e0d9d",
   "metadata": {},
   "outputs": [
    {
     "data": {
      "text/plain": [
       "tuple"
      ]
     },
     "execution_count": 28,
     "metadata": {},
     "output_type": "execute_result"
    }
   ],
   "source": [
    "type(merged_result)"
   ]
  },
  {
   "cell_type": "code",
   "execution_count": 29,
   "id": "76e4cff2-5469-4e0a-a0f3-a4fd023749ae",
   "metadata": {},
   "outputs": [],
   "source": [
    "merged_data = merged_result[0]\n",
    "merged_transform = merged_result[1]"
   ]
  },
  {
   "cell_type": "code",
   "execution_count": 30,
   "id": "39d6f724-d897-4c89-806d-f15ad46d44d0",
   "metadata": {},
   "outputs": [
    {
     "name": "stdout",
     "output_type": "stream",
     "text": [
      "(1, 7201, 7201)\n"
     ]
    }
   ],
   "source": [
    "print(merged_data.shape)"
   ]
  },
  {
   "cell_type": "code",
   "execution_count": 33,
   "id": "b56b9bcd-48c4-4e9f-8675-71045c21eadf",
   "metadata": {},
   "outputs": [
    {
     "data": {
      "text/plain": [
       "(7201, 7201)"
      ]
     },
     "execution_count": 33,
     "metadata": {},
     "output_type": "execute_result"
    }
   ],
   "source": [
    "merged_data.reshape(-1).reshape(7201, 7201).shape"
   ]
  },
  {
   "cell_type": "markdown",
   "id": "2dd49580-62a5-4bfc-b695-1b3daac13698",
   "metadata": {},
   "source": [
    "### Working with XArray"
   ]
  },
  {
   "cell_type": "code",
   "execution_count": 2,
   "id": "ff9e35cf-6977-4d95-b30f-59843ed2eb10",
   "metadata": {},
   "outputs": [],
   "source": [
    "import rioxarray as rxr\n",
    "from rioxarray.rioxarray import xarray\n",
    "from rioxarray.merge import merge_arrays"
   ]
  },
  {
   "cell_type": "code",
   "execution_count": 10,
   "id": "66e54d9a-3109-4a0d-99b3-e7407a63ec92",
   "metadata": {},
   "outputs": [],
   "source": [
    "data_folder = 'data'\n",
    "srtm_dir = 'srtm'\n",
    "filename = 'N28E087.hgt'\n",
    "file_path = os.path.join(data_folder, srtm_dir, filename)"
   ]
  },
  {
   "cell_type": "code",
   "execution_count": 11,
   "id": "a7f5e03f-11da-44d1-a236-c81236a06bc5",
   "metadata": {},
   "outputs": [],
   "source": [
    "rds = rxr.open_rasterio(file_path)"
   ]
  },
  {
   "cell_type": "code",
   "execution_count": 38,
   "id": "b44aac35-4b15-4e06-ae53-8beee86844fe",
   "metadata": {},
   "outputs": [
    {
     "data": {
      "text/plain": [
       "xarray.core.dataarray.DataArray"
      ]
     },
     "execution_count": 38,
     "metadata": {},
     "output_type": "execute_result"
    }
   ],
   "source": [
    "type(rds)"
   ]
  },
  {
   "cell_type": "code",
   "execution_count": 39,
   "id": "da4db7ad-1ff2-4193-878c-b1270fb31593",
   "metadata": {},
   "outputs": [
    {
     "data": {
      "text/plain": [
       "array([[[5217, 5211, 5208, ..., 5097, 5098, 5089],\n",
       "        [5206, 5201, 5200, ..., 5080, 5075, 5069],\n",
       "        [5199, 5194, 5191, ..., 5063, 5055, 5048],\n",
       "        ...,\n",
       "        [5347, 5345, 5343, ..., 5747, 5750, 5757],\n",
       "        [5338, 5338, 5336, ..., 5737, 5740, 5747],\n",
       "        [5332, 5331, 5332, ..., 5734, 5736, 5744]]], dtype=int16)"
      ]
     },
     "execution_count": 39,
     "metadata": {},
     "output_type": "execute_result"
    }
   ],
   "source": [
    "rds.values"
   ]
  },
  {
   "cell_type": "code",
   "execution_count": 40,
   "id": "6f471abb-e478-43c1-ae58-186bbb875475",
   "metadata": {},
   "outputs": [
    {
     "data": {
      "text/plain": [
       "numpy.ndarray"
      ]
     },
     "execution_count": 40,
     "metadata": {},
     "output_type": "execute_result"
    }
   ],
   "source": [
    "type(rds.values)"
   ]
  },
  {
   "cell_type": "code",
   "execution_count": 41,
   "id": "0de2932e-972e-4fdc-afb3-39e5ab200a7e",
   "metadata": {},
   "outputs": [
    {
     "data": {
      "text/plain": [
       "Coordinates:\n",
       "  * band         (band) int64 1\n",
       "  * x            (x) float64 87.0 87.0 87.0 87.0 87.0 ... 88.0 88.0 88.0 88.0\n",
       "  * y            (y) float64 29.0 29.0 29.0 29.0 29.0 ... 28.0 28.0 28.0 28.0\n",
       "    spatial_ref  int64 0"
      ]
     },
     "execution_count": 41,
     "metadata": {},
     "output_type": "execute_result"
    }
   ],
   "source": [
    "rds.coords"
   ]
  },
  {
   "cell_type": "code",
   "execution_count": 42,
   "id": "00c03013-94b2-465a-b70c-ab21863d528f",
   "metadata": {},
   "outputs": [
    {
     "data": {
      "text/html": [
       "<div><svg style=\"position: absolute; width: 0; height: 0; overflow: hidden\">\n",
       "<defs>\n",
       "<symbol id=\"icon-database\" viewBox=\"0 0 32 32\">\n",
       "<path d=\"M16 0c-8.837 0-16 2.239-16 5v4c0 2.761 7.163 5 16 5s16-2.239 16-5v-4c0-2.761-7.163-5-16-5z\"></path>\n",
       "<path d=\"M16 17c-8.837 0-16-2.239-16-5v6c0 2.761 7.163 5 16 5s16-2.239 16-5v-6c0 2.761-7.163 5-16 5z\"></path>\n",
       "<path d=\"M16 26c-8.837 0-16-2.239-16-5v6c0 2.761 7.163 5 16 5s16-2.239 16-5v-6c0 2.761-7.163 5-16 5z\"></path>\n",
       "</symbol>\n",
       "<symbol id=\"icon-file-text2\" viewBox=\"0 0 32 32\">\n",
       "<path d=\"M28.681 7.159c-0.694-0.947-1.662-2.053-2.724-3.116s-2.169-2.030-3.116-2.724c-1.612-1.182-2.393-1.319-2.841-1.319h-15.5c-1.378 0-2.5 1.121-2.5 2.5v27c0 1.378 1.122 2.5 2.5 2.5h23c1.378 0 2.5-1.122 2.5-2.5v-19.5c0-0.448-0.137-1.23-1.319-2.841zM24.543 5.457c0.959 0.959 1.712 1.825 2.268 2.543h-4.811v-4.811c0.718 0.556 1.584 1.309 2.543 2.268zM28 29.5c0 0.271-0.229 0.5-0.5 0.5h-23c-0.271 0-0.5-0.229-0.5-0.5v-27c0-0.271 0.229-0.5 0.5-0.5 0 0 15.499-0 15.5 0v7c0 0.552 0.448 1 1 1h7v19.5z\"></path>\n",
       "<path d=\"M23 26h-14c-0.552 0-1-0.448-1-1s0.448-1 1-1h14c0.552 0 1 0.448 1 1s-0.448 1-1 1z\"></path>\n",
       "<path d=\"M23 22h-14c-0.552 0-1-0.448-1-1s0.448-1 1-1h14c0.552 0 1 0.448 1 1s-0.448 1-1 1z\"></path>\n",
       "<path d=\"M23 18h-14c-0.552 0-1-0.448-1-1s0.448-1 1-1h14c0.552 0 1 0.448 1 1s-0.448 1-1 1z\"></path>\n",
       "</symbol>\n",
       "</defs>\n",
       "</svg>\n",
       "<style>/* CSS stylesheet for displaying xarray objects in jupyterlab.\n",
       " *\n",
       " */\n",
       "\n",
       ":root {\n",
       "  --xr-font-color0: var(--jp-content-font-color0, rgba(0, 0, 0, 1));\n",
       "  --xr-font-color2: var(--jp-content-font-color2, rgba(0, 0, 0, 0.54));\n",
       "  --xr-font-color3: var(--jp-content-font-color3, rgba(0, 0, 0, 0.38));\n",
       "  --xr-border-color: var(--jp-border-color2, #e0e0e0);\n",
       "  --xr-disabled-color: var(--jp-layout-color3, #bdbdbd);\n",
       "  --xr-background-color: var(--jp-layout-color0, white);\n",
       "  --xr-background-color-row-even: var(--jp-layout-color1, white);\n",
       "  --xr-background-color-row-odd: var(--jp-layout-color2, #eeeeee);\n",
       "}\n",
       "\n",
       "html[theme=dark],\n",
       "body.vscode-dark {\n",
       "  --xr-font-color0: rgba(255, 255, 255, 1);\n",
       "  --xr-font-color2: rgba(255, 255, 255, 0.54);\n",
       "  --xr-font-color3: rgba(255, 255, 255, 0.38);\n",
       "  --xr-border-color: #1F1F1F;\n",
       "  --xr-disabled-color: #515151;\n",
       "  --xr-background-color: #111111;\n",
       "  --xr-background-color-row-even: #111111;\n",
       "  --xr-background-color-row-odd: #313131;\n",
       "}\n",
       "\n",
       ".xr-wrap {\n",
       "  display: block;\n",
       "  min-width: 300px;\n",
       "  max-width: 700px;\n",
       "}\n",
       "\n",
       ".xr-text-repr-fallback {\n",
       "  /* fallback to plain text repr when CSS is not injected (untrusted notebook) */\n",
       "  display: none;\n",
       "}\n",
       "\n",
       ".xr-header {\n",
       "  padding-top: 6px;\n",
       "  padding-bottom: 6px;\n",
       "  margin-bottom: 4px;\n",
       "  border-bottom: solid 1px var(--xr-border-color);\n",
       "}\n",
       "\n",
       ".xr-header > div,\n",
       ".xr-header > ul {\n",
       "  display: inline;\n",
       "  margin-top: 0;\n",
       "  margin-bottom: 0;\n",
       "}\n",
       "\n",
       ".xr-obj-type,\n",
       ".xr-array-name {\n",
       "  margin-left: 2px;\n",
       "  margin-right: 10px;\n",
       "}\n",
       "\n",
       ".xr-obj-type {\n",
       "  color: var(--xr-font-color2);\n",
       "}\n",
       "\n",
       ".xr-sections {\n",
       "  padding-left: 0 !important;\n",
       "  display: grid;\n",
       "  grid-template-columns: 150px auto auto 1fr 20px 20px;\n",
       "}\n",
       "\n",
       ".xr-section-item {\n",
       "  display: contents;\n",
       "}\n",
       "\n",
       ".xr-section-item input {\n",
       "  display: none;\n",
       "}\n",
       "\n",
       ".xr-section-item input + label {\n",
       "  color: var(--xr-disabled-color);\n",
       "}\n",
       "\n",
       ".xr-section-item input:enabled + label {\n",
       "  cursor: pointer;\n",
       "  color: var(--xr-font-color2);\n",
       "}\n",
       "\n",
       ".xr-section-item input:enabled + label:hover {\n",
       "  color: var(--xr-font-color0);\n",
       "}\n",
       "\n",
       ".xr-section-summary {\n",
       "  grid-column: 1;\n",
       "  color: var(--xr-font-color2);\n",
       "  font-weight: 500;\n",
       "}\n",
       "\n",
       ".xr-section-summary > span {\n",
       "  display: inline-block;\n",
       "  padding-left: 0.5em;\n",
       "}\n",
       "\n",
       ".xr-section-summary-in:disabled + label {\n",
       "  color: var(--xr-font-color2);\n",
       "}\n",
       "\n",
       ".xr-section-summary-in + label:before {\n",
       "  display: inline-block;\n",
       "  content: '►';\n",
       "  font-size: 11px;\n",
       "  width: 15px;\n",
       "  text-align: center;\n",
       "}\n",
       "\n",
       ".xr-section-summary-in:disabled + label:before {\n",
       "  color: var(--xr-disabled-color);\n",
       "}\n",
       "\n",
       ".xr-section-summary-in:checked + label:before {\n",
       "  content: '▼';\n",
       "}\n",
       "\n",
       ".xr-section-summary-in:checked + label > span {\n",
       "  display: none;\n",
       "}\n",
       "\n",
       ".xr-section-summary,\n",
       ".xr-section-inline-details {\n",
       "  padding-top: 4px;\n",
       "  padding-bottom: 4px;\n",
       "}\n",
       "\n",
       ".xr-section-inline-details {\n",
       "  grid-column: 2 / -1;\n",
       "}\n",
       "\n",
       ".xr-section-details {\n",
       "  display: none;\n",
       "  grid-column: 1 / -1;\n",
       "  margin-bottom: 5px;\n",
       "}\n",
       "\n",
       ".xr-section-summary-in:checked ~ .xr-section-details {\n",
       "  display: contents;\n",
       "}\n",
       "\n",
       ".xr-array-wrap {\n",
       "  grid-column: 1 / -1;\n",
       "  display: grid;\n",
       "  grid-template-columns: 20px auto;\n",
       "}\n",
       "\n",
       ".xr-array-wrap > label {\n",
       "  grid-column: 1;\n",
       "  vertical-align: top;\n",
       "}\n",
       "\n",
       ".xr-preview {\n",
       "  color: var(--xr-font-color3);\n",
       "}\n",
       "\n",
       ".xr-array-preview,\n",
       ".xr-array-data {\n",
       "  padding: 0 5px !important;\n",
       "  grid-column: 2;\n",
       "}\n",
       "\n",
       ".xr-array-data,\n",
       ".xr-array-in:checked ~ .xr-array-preview {\n",
       "  display: none;\n",
       "}\n",
       "\n",
       ".xr-array-in:checked ~ .xr-array-data,\n",
       ".xr-array-preview {\n",
       "  display: inline-block;\n",
       "}\n",
       "\n",
       ".xr-dim-list {\n",
       "  display: inline-block !important;\n",
       "  list-style: none;\n",
       "  padding: 0 !important;\n",
       "  margin: 0;\n",
       "}\n",
       "\n",
       ".xr-dim-list li {\n",
       "  display: inline-block;\n",
       "  padding: 0;\n",
       "  margin: 0;\n",
       "}\n",
       "\n",
       ".xr-dim-list:before {\n",
       "  content: '(';\n",
       "}\n",
       "\n",
       ".xr-dim-list:after {\n",
       "  content: ')';\n",
       "}\n",
       "\n",
       ".xr-dim-list li:not(:last-child):after {\n",
       "  content: ',';\n",
       "  padding-right: 5px;\n",
       "}\n",
       "\n",
       ".xr-has-index {\n",
       "  font-weight: bold;\n",
       "}\n",
       "\n",
       ".xr-var-list,\n",
       ".xr-var-item {\n",
       "  display: contents;\n",
       "}\n",
       "\n",
       ".xr-var-item > div,\n",
       ".xr-var-item label,\n",
       ".xr-var-item > .xr-var-name span {\n",
       "  background-color: var(--xr-background-color-row-even);\n",
       "  margin-bottom: 0;\n",
       "}\n",
       "\n",
       ".xr-var-item > .xr-var-name:hover span {\n",
       "  padding-right: 5px;\n",
       "}\n",
       "\n",
       ".xr-var-list > li:nth-child(odd) > div,\n",
       ".xr-var-list > li:nth-child(odd) > label,\n",
       ".xr-var-list > li:nth-child(odd) > .xr-var-name span {\n",
       "  background-color: var(--xr-background-color-row-odd);\n",
       "}\n",
       "\n",
       ".xr-var-name {\n",
       "  grid-column: 1;\n",
       "}\n",
       "\n",
       ".xr-var-dims {\n",
       "  grid-column: 2;\n",
       "}\n",
       "\n",
       ".xr-var-dtype {\n",
       "  grid-column: 3;\n",
       "  text-align: right;\n",
       "  color: var(--xr-font-color2);\n",
       "}\n",
       "\n",
       ".xr-var-preview {\n",
       "  grid-column: 4;\n",
       "}\n",
       "\n",
       ".xr-var-name,\n",
       ".xr-var-dims,\n",
       ".xr-var-dtype,\n",
       ".xr-preview,\n",
       ".xr-attrs dt {\n",
       "  white-space: nowrap;\n",
       "  overflow: hidden;\n",
       "  text-overflow: ellipsis;\n",
       "  padding-right: 10px;\n",
       "}\n",
       "\n",
       ".xr-var-name:hover,\n",
       ".xr-var-dims:hover,\n",
       ".xr-var-dtype:hover,\n",
       ".xr-attrs dt:hover {\n",
       "  overflow: visible;\n",
       "  width: auto;\n",
       "  z-index: 1;\n",
       "}\n",
       "\n",
       ".xr-var-attrs,\n",
       ".xr-var-data {\n",
       "  display: none;\n",
       "  background-color: var(--xr-background-color) !important;\n",
       "  padding-bottom: 5px !important;\n",
       "}\n",
       "\n",
       ".xr-var-attrs-in:checked ~ .xr-var-attrs,\n",
       ".xr-var-data-in:checked ~ .xr-var-data {\n",
       "  display: block;\n",
       "}\n",
       "\n",
       ".xr-var-data > table {\n",
       "  float: right;\n",
       "}\n",
       "\n",
       ".xr-var-name span,\n",
       ".xr-var-data,\n",
       ".xr-attrs {\n",
       "  padding-left: 25px !important;\n",
       "}\n",
       "\n",
       ".xr-attrs,\n",
       ".xr-var-attrs,\n",
       ".xr-var-data {\n",
       "  grid-column: 1 / -1;\n",
       "}\n",
       "\n",
       "dl.xr-attrs {\n",
       "  padding: 0;\n",
       "  margin: 0;\n",
       "  display: grid;\n",
       "  grid-template-columns: 125px auto;\n",
       "}\n",
       "\n",
       ".xr-attrs dt,\n",
       ".xr-attrs dd {\n",
       "  padding: 0;\n",
       "  margin: 0;\n",
       "  float: left;\n",
       "  padding-right: 10px;\n",
       "  width: auto;\n",
       "}\n",
       "\n",
       ".xr-attrs dt {\n",
       "  font-weight: normal;\n",
       "  grid-column: 1;\n",
       "}\n",
       "\n",
       ".xr-attrs dt:hover span {\n",
       "  display: inline-block;\n",
       "  background: var(--xr-background-color);\n",
       "  padding-right: 10px;\n",
       "}\n",
       "\n",
       ".xr-attrs dd {\n",
       "  grid-column: 2;\n",
       "  white-space: pre-wrap;\n",
       "  word-break: break-all;\n",
       "}\n",
       "\n",
       ".xr-icon-database,\n",
       ".xr-icon-file-text2 {\n",
       "  display: inline-block;\n",
       "  vertical-align: middle;\n",
       "  width: 1em;\n",
       "  height: 1.5em !important;\n",
       "  stroke-width: 0;\n",
       "  stroke: currentColor;\n",
       "  fill: currentColor;\n",
       "}\n",
       "</style><pre class='xr-text-repr-fallback'>&lt;xarray.DataArray (y: 3601, x: 3601)&gt;\n",
       "array([[5217, 5211, 5208, ..., 5097, 5098, 5089],\n",
       "       [5206, 5201, 5200, ..., 5080, 5075, 5069],\n",
       "       [5199, 5194, 5191, ..., 5063, 5055, 5048],\n",
       "       ...,\n",
       "       [5347, 5345, 5343, ..., 5747, 5750, 5757],\n",
       "       [5338, 5338, 5336, ..., 5737, 5740, 5747],\n",
       "       [5332, 5331, 5332, ..., 5734, 5736, 5744]], dtype=int16)\n",
       "Coordinates:\n",
       "    band         int64 1\n",
       "  * x            (x) float64 87.0 87.0 87.0 87.0 87.0 ... 88.0 88.0 88.0 88.0\n",
       "  * y            (y) float64 29.0 29.0 29.0 29.0 29.0 ... 28.0 28.0 28.0 28.0\n",
       "    spatial_ref  int64 0\n",
       "Attributes:\n",
       "    _FillValue:    -32768.0\n",
       "    scale_factor:  1.0\n",
       "    add_offset:    0.0\n",
       "    units:         m</pre><div class='xr-wrap' hidden><div class='xr-header'><div class='xr-obj-type'>xarray.DataArray</div><div class='xr-array-name'></div><ul class='xr-dim-list'><li><span class='xr-has-index'>y</span>: 3601</li><li><span class='xr-has-index'>x</span>: 3601</li></ul></div><ul class='xr-sections'><li class='xr-section-item'><div class='xr-array-wrap'><input id='section-b20dd9fe-30a9-43b9-90b5-cf812c7753fa' class='xr-array-in' type='checkbox' checked><label for='section-b20dd9fe-30a9-43b9-90b5-cf812c7753fa' title='Show/hide data repr'><svg class='icon xr-icon-database'><use xlink:href='#icon-database'></use></svg></label><div class='xr-array-preview xr-preview'><span>5217 5211 5208 5204 5201 5198 5193 ... 5742 5735 5733 5734 5736 5744</span></div><div class='xr-array-data'><pre>array([[5217, 5211, 5208, ..., 5097, 5098, 5089],\n",
       "       [5206, 5201, 5200, ..., 5080, 5075, 5069],\n",
       "       [5199, 5194, 5191, ..., 5063, 5055, 5048],\n",
       "       ...,\n",
       "       [5347, 5345, 5343, ..., 5747, 5750, 5757],\n",
       "       [5338, 5338, 5336, ..., 5737, 5740, 5747],\n",
       "       [5332, 5331, 5332, ..., 5734, 5736, 5744]], dtype=int16)</pre></div></div></li><li class='xr-section-item'><input id='section-d2fc5a56-1d8a-475f-8f01-86b700bc9bfa' class='xr-section-summary-in' type='checkbox'  checked><label for='section-d2fc5a56-1d8a-475f-8f01-86b700bc9bfa' class='xr-section-summary' >Coordinates: <span>(4)</span></label><div class='xr-section-inline-details'></div><div class='xr-section-details'><ul class='xr-var-list'><li class='xr-var-item'><div class='xr-var-name'><span>band</span></div><div class='xr-var-dims'>()</div><div class='xr-var-dtype'>int64</div><div class='xr-var-preview xr-preview'>1</div><input id='attrs-40f65caa-522e-4042-a208-4131f83cb612' class='xr-var-attrs-in' type='checkbox' disabled><label for='attrs-40f65caa-522e-4042-a208-4131f83cb612' title='Show/Hide attributes'><svg class='icon xr-icon-file-text2'><use xlink:href='#icon-file-text2'></use></svg></label><input id='data-22e862a3-8a94-4deb-8efc-5c97eb3be11c' class='xr-var-data-in' type='checkbox'><label for='data-22e862a3-8a94-4deb-8efc-5c97eb3be11c' title='Show/Hide data repr'><svg class='icon xr-icon-database'><use xlink:href='#icon-database'></use></svg></label><div class='xr-var-attrs'><dl class='xr-attrs'></dl></div><div class='xr-var-data'><pre>array(1)</pre></div></li><li class='xr-var-item'><div class='xr-var-name'><span class='xr-has-index'>x</span></div><div class='xr-var-dims'>(x)</div><div class='xr-var-dtype'>float64</div><div class='xr-var-preview xr-preview'>87.0 87.0 87.0 ... 88.0 88.0 88.0</div><input id='attrs-55488ae6-f1f1-4b6c-802f-4d633d38d14a' class='xr-var-attrs-in' type='checkbox' disabled><label for='attrs-55488ae6-f1f1-4b6c-802f-4d633d38d14a' title='Show/Hide attributes'><svg class='icon xr-icon-file-text2'><use xlink:href='#icon-file-text2'></use></svg></label><input id='data-9e6f3411-3a9a-4fe9-ac79-d22a8381671e' class='xr-var-data-in' type='checkbox'><label for='data-9e6f3411-3a9a-4fe9-ac79-d22a8381671e' title='Show/Hide data repr'><svg class='icon xr-icon-database'><use xlink:href='#icon-database'></use></svg></label><div class='xr-var-attrs'><dl class='xr-attrs'></dl></div><div class='xr-var-data'><pre>array([87.      , 87.000278, 87.000556, ..., 87.999444, 87.999722, 88.      ])</pre></div></li><li class='xr-var-item'><div class='xr-var-name'><span class='xr-has-index'>y</span></div><div class='xr-var-dims'>(y)</div><div class='xr-var-dtype'>float64</div><div class='xr-var-preview xr-preview'>29.0 29.0 29.0 ... 28.0 28.0 28.0</div><input id='attrs-f6ab9b3e-a764-4715-b464-65528f1fc569' class='xr-var-attrs-in' type='checkbox' disabled><label for='attrs-f6ab9b3e-a764-4715-b464-65528f1fc569' title='Show/Hide attributes'><svg class='icon xr-icon-file-text2'><use xlink:href='#icon-file-text2'></use></svg></label><input id='data-df12f5d8-c133-4bc2-af13-1a077ead6c13' class='xr-var-data-in' type='checkbox'><label for='data-df12f5d8-c133-4bc2-af13-1a077ead6c13' title='Show/Hide data repr'><svg class='icon xr-icon-database'><use xlink:href='#icon-database'></use></svg></label><div class='xr-var-attrs'><dl class='xr-attrs'></dl></div><div class='xr-var-data'><pre>array([29.      , 28.999722, 28.999444, ..., 28.000556, 28.000278, 28.      ])</pre></div></li><li class='xr-var-item'><div class='xr-var-name'><span>spatial_ref</span></div><div class='xr-var-dims'>()</div><div class='xr-var-dtype'>int64</div><div class='xr-var-preview xr-preview'>0</div><input id='attrs-944765eb-16c2-407e-840c-53404d53b648' class='xr-var-attrs-in' type='checkbox' ><label for='attrs-944765eb-16c2-407e-840c-53404d53b648' title='Show/Hide attributes'><svg class='icon xr-icon-file-text2'><use xlink:href='#icon-file-text2'></use></svg></label><input id='data-f18fb79e-e50f-4c38-908a-a497dcb87390' class='xr-var-data-in' type='checkbox'><label for='data-f18fb79e-e50f-4c38-908a-a497dcb87390' title='Show/Hide data repr'><svg class='icon xr-icon-database'><use xlink:href='#icon-database'></use></svg></label><div class='xr-var-attrs'><dl class='xr-attrs'><dt><span>crs_wkt :</span></dt><dd>GEOGCS[&quot;WGS 84&quot;,DATUM[&quot;WGS_1984&quot;,SPHEROID[&quot;WGS 84&quot;,6378137,298.257223563,AUTHORITY[&quot;EPSG&quot;,&quot;7030&quot;]],AUTHORITY[&quot;EPSG&quot;,&quot;6326&quot;]],PRIMEM[&quot;Greenwich&quot;,0,AUTHORITY[&quot;EPSG&quot;,&quot;8901&quot;]],UNIT[&quot;degree&quot;,0.0174532925199433,AUTHORITY[&quot;EPSG&quot;,&quot;9122&quot;]],AXIS[&quot;Latitude&quot;,NORTH],AXIS[&quot;Longitude&quot;,EAST],AUTHORITY[&quot;EPSG&quot;,&quot;4326&quot;]]</dd><dt><span>semi_major_axis :</span></dt><dd>6378137.0</dd><dt><span>semi_minor_axis :</span></dt><dd>6356752.314245179</dd><dt><span>inverse_flattening :</span></dt><dd>298.257223563</dd><dt><span>reference_ellipsoid_name :</span></dt><dd>WGS 84</dd><dt><span>longitude_of_prime_meridian :</span></dt><dd>0.0</dd><dt><span>prime_meridian_name :</span></dt><dd>Greenwich</dd><dt><span>geographic_crs_name :</span></dt><dd>WGS 84</dd><dt><span>grid_mapping_name :</span></dt><dd>latitude_longitude</dd><dt><span>spatial_ref :</span></dt><dd>GEOGCS[&quot;WGS 84&quot;,DATUM[&quot;WGS_1984&quot;,SPHEROID[&quot;WGS 84&quot;,6378137,298.257223563,AUTHORITY[&quot;EPSG&quot;,&quot;7030&quot;]],AUTHORITY[&quot;EPSG&quot;,&quot;6326&quot;]],PRIMEM[&quot;Greenwich&quot;,0,AUTHORITY[&quot;EPSG&quot;,&quot;8901&quot;]],UNIT[&quot;degree&quot;,0.0174532925199433,AUTHORITY[&quot;EPSG&quot;,&quot;9122&quot;]],AXIS[&quot;Latitude&quot;,NORTH],AXIS[&quot;Longitude&quot;,EAST],AUTHORITY[&quot;EPSG&quot;,&quot;4326&quot;]]</dd><dt><span>GeoTransform :</span></dt><dd>86.99986111111112 0.0002777777777777778 0.0 29.000138888888888 0.0 -0.0002777777777777778</dd></dl></div><div class='xr-var-data'><pre>array(0)</pre></div></li></ul></div></li><li class='xr-section-item'><input id='section-d1210502-7fa2-4732-b0f8-d3e2bfc07672' class='xr-section-summary-in' type='checkbox'  checked><label for='section-d1210502-7fa2-4732-b0f8-d3e2bfc07672' class='xr-section-summary' >Attributes: <span>(4)</span></label><div class='xr-section-inline-details'></div><div class='xr-section-details'><dl class='xr-attrs'><dt><span>_FillValue :</span></dt><dd>-32768.0</dd><dt><span>scale_factor :</span></dt><dd>1.0</dd><dt><span>add_offset :</span></dt><dd>0.0</dd><dt><span>units :</span></dt><dd>m</dd></dl></div></li></ul></div></div>"
      ],
      "text/plain": [
       "<xarray.DataArray (y: 3601, x: 3601)>\n",
       "array([[5217, 5211, 5208, ..., 5097, 5098, 5089],\n",
       "       [5206, 5201, 5200, ..., 5080, 5075, 5069],\n",
       "       [5199, 5194, 5191, ..., 5063, 5055, 5048],\n",
       "       ...,\n",
       "       [5347, 5345, 5343, ..., 5747, 5750, 5757],\n",
       "       [5338, 5338, 5336, ..., 5737, 5740, 5747],\n",
       "       [5332, 5331, 5332, ..., 5734, 5736, 5744]], dtype=int16)\n",
       "Coordinates:\n",
       "    band         int64 1\n",
       "  * x            (x) float64 87.0 87.0 87.0 87.0 87.0 ... 88.0 88.0 88.0 88.0\n",
       "  * y            (y) float64 29.0 29.0 29.0 29.0 29.0 ... 28.0 28.0 28.0 28.0\n",
       "    spatial_ref  int64 0\n",
       "Attributes:\n",
       "    _FillValue:    -32768.0\n",
       "    scale_factor:  1.0\n",
       "    add_offset:    0.0\n",
       "    units:         m"
      ]
     },
     "execution_count": 42,
     "metadata": {},
     "output_type": "execute_result"
    }
   ],
   "source": [
    "band_1 = rds.sel(band=1)\n",
    "band_1"
   ]
  },
  {
   "cell_type": "code",
   "execution_count": 12,
   "id": "e84a2b19-d2e1-4bf9-b492-40e6faa3a2b5",
   "metadata": {},
   "outputs": [
    {
     "name": "stdout",
     "output_type": "stream",
     "text": [
      "CRS:  EPSG:4326\n",
      "Resolution:  (0.0002777777777777778, -0.0002777777777777778)\n",
      "Bounds:  (86.99986111111112, 27.999861111111112, 88.00013888888888, 29.000138888888888)\n",
      "Width:  3601\n",
      "Height:  3601\n"
     ]
    }
   ],
   "source": [
    "def print_raster_properties(raster: xarray.core.dataarray.DataArray):\n",
    "    print('CRS: ', rds.rio.crs)\n",
    "    print('Resolution: ', rds.rio.resolution())\n",
    "    print('Bounds: ', rds.rio.bounds())\n",
    "    print('Width: ', rds.rio.width)\n",
    "    print('Height: ', rds.rio.height)\n",
    "\n",
    "print_raster_properties(rds)"
   ]
  },
  {
   "cell_type": "code",
   "execution_count": 13,
   "id": "ab2adcca-2c95-441e-9602-e0d1f49d52d2",
   "metadata": {},
   "outputs": [
    {
     "data": {
      "text/plain": [
       "[<xarray.DataArray (band: 1, y: 3601, x: 3601)>\n",
       " [12967201 values with dtype=int16]\n",
       " Coordinates:\n",
       "   * band         (band) int64 1\n",
       "   * x            (x) float64 86.0 86.0 86.0 86.0 86.0 ... 87.0 87.0 87.0 87.0\n",
       "   * y            (y) float64 28.0 28.0 28.0 28.0 28.0 ... 27.0 27.0 27.0 27.0\n",
       "     spatial_ref  int64 0\n",
       " Attributes:\n",
       "     _FillValue:    -32768.0\n",
       "     scale_factor:  1.0\n",
       "     add_offset:    0.0\n",
       "     units:         m,\n",
       " <xarray.DataArray (band: 1, y: 3601, x: 3601)>\n",
       " [12967201 values with dtype=int16]\n",
       " Coordinates:\n",
       "   * band         (band) int64 1\n",
       "   * x            (x) float64 87.0 87.0 87.0 87.0 87.0 ... 88.0 88.0 88.0 88.0\n",
       "   * y            (y) float64 28.0 28.0 28.0 28.0 28.0 ... 27.0 27.0 27.0 27.0\n",
       "     spatial_ref  int64 0\n",
       " Attributes:\n",
       "     _FillValue:    -32768.0\n",
       "     scale_factor:  1.0\n",
       "     add_offset:    0.0\n",
       "     units:         m,\n",
       " <xarray.DataArray (band: 1, y: 3601, x: 3601)>\n",
       " [12967201 values with dtype=int16]\n",
       " Coordinates:\n",
       "   * band         (band) int64 1\n",
       "   * x            (x) float64 86.0 86.0 86.0 86.0 86.0 ... 87.0 87.0 87.0 87.0\n",
       "   * y            (y) float64 29.0 29.0 29.0 29.0 29.0 ... 28.0 28.0 28.0 28.0\n",
       "     spatial_ref  int64 0\n",
       " Attributes:\n",
       "     _FillValue:    -32768.0\n",
       "     scale_factor:  1.0\n",
       "     add_offset:    0.0\n",
       "     units:         m,\n",
       " <xarray.DataArray (band: 1, y: 3601, x: 3601)>\n",
       " [12967201 values with dtype=int16]\n",
       " Coordinates:\n",
       "   * band         (band) int64 1\n",
       "   * x            (x) float64 87.0 87.0 87.0 87.0 87.0 ... 88.0 88.0 88.0 88.0\n",
       "   * y            (y) float64 29.0 29.0 29.0 29.0 29.0 ... 28.0 28.0 28.0 28.0\n",
       "     spatial_ref  int64 0\n",
       " Attributes:\n",
       "     _FillValue:    -32768.0\n",
       "     scale_factor:  1.0\n",
       "     add_offset:    0.0\n",
       "     units:         m]"
      ]
     },
     "execution_count": 13,
     "metadata": {},
     "output_type": "execute_result"
    }
   ],
   "source": [
    "raster_datasets = [rxr.open_rasterio(dataset) for dataset in dataset_list]\n",
    "raster_datasets"
   ]
  },
  {
   "cell_type": "code",
   "execution_count": 14,
   "id": "8dfaabdd-6267-44c1-91dc-2fe9d94025a4",
   "metadata": {},
   "outputs": [
    {
     "data": {
      "text/html": [
       "<div><svg style=\"position: absolute; width: 0; height: 0; overflow: hidden\">\n",
       "<defs>\n",
       "<symbol id=\"icon-database\" viewBox=\"0 0 32 32\">\n",
       "<path d=\"M16 0c-8.837 0-16 2.239-16 5v4c0 2.761 7.163 5 16 5s16-2.239 16-5v-4c0-2.761-7.163-5-16-5z\"></path>\n",
       "<path d=\"M16 17c-8.837 0-16-2.239-16-5v6c0 2.761 7.163 5 16 5s16-2.239 16-5v-6c0 2.761-7.163 5-16 5z\"></path>\n",
       "<path d=\"M16 26c-8.837 0-16-2.239-16-5v6c0 2.761 7.163 5 16 5s16-2.239 16-5v-6c0 2.761-7.163 5-16 5z\"></path>\n",
       "</symbol>\n",
       "<symbol id=\"icon-file-text2\" viewBox=\"0 0 32 32\">\n",
       "<path d=\"M28.681 7.159c-0.694-0.947-1.662-2.053-2.724-3.116s-2.169-2.030-3.116-2.724c-1.612-1.182-2.393-1.319-2.841-1.319h-15.5c-1.378 0-2.5 1.121-2.5 2.5v27c0 1.378 1.122 2.5 2.5 2.5h23c1.378 0 2.5-1.122 2.5-2.5v-19.5c0-0.448-0.137-1.23-1.319-2.841zM24.543 5.457c0.959 0.959 1.712 1.825 2.268 2.543h-4.811v-4.811c0.718 0.556 1.584 1.309 2.543 2.268zM28 29.5c0 0.271-0.229 0.5-0.5 0.5h-23c-0.271 0-0.5-0.229-0.5-0.5v-27c0-0.271 0.229-0.5 0.5-0.5 0 0 15.499-0 15.5 0v7c0 0.552 0.448 1 1 1h7v19.5z\"></path>\n",
       "<path d=\"M23 26h-14c-0.552 0-1-0.448-1-1s0.448-1 1-1h14c0.552 0 1 0.448 1 1s-0.448 1-1 1z\"></path>\n",
       "<path d=\"M23 22h-14c-0.552 0-1-0.448-1-1s0.448-1 1-1h14c0.552 0 1 0.448 1 1s-0.448 1-1 1z\"></path>\n",
       "<path d=\"M23 18h-14c-0.552 0-1-0.448-1-1s0.448-1 1-1h14c0.552 0 1 0.448 1 1s-0.448 1-1 1z\"></path>\n",
       "</symbol>\n",
       "</defs>\n",
       "</svg>\n",
       "<style>/* CSS stylesheet for displaying xarray objects in jupyterlab.\n",
       " *\n",
       " */\n",
       "\n",
       ":root {\n",
       "  --xr-font-color0: var(--jp-content-font-color0, rgba(0, 0, 0, 1));\n",
       "  --xr-font-color2: var(--jp-content-font-color2, rgba(0, 0, 0, 0.54));\n",
       "  --xr-font-color3: var(--jp-content-font-color3, rgba(0, 0, 0, 0.38));\n",
       "  --xr-border-color: var(--jp-border-color2, #e0e0e0);\n",
       "  --xr-disabled-color: var(--jp-layout-color3, #bdbdbd);\n",
       "  --xr-background-color: var(--jp-layout-color0, white);\n",
       "  --xr-background-color-row-even: var(--jp-layout-color1, white);\n",
       "  --xr-background-color-row-odd: var(--jp-layout-color2, #eeeeee);\n",
       "}\n",
       "\n",
       "html[theme=dark],\n",
       "body.vscode-dark {\n",
       "  --xr-font-color0: rgba(255, 255, 255, 1);\n",
       "  --xr-font-color2: rgba(255, 255, 255, 0.54);\n",
       "  --xr-font-color3: rgba(255, 255, 255, 0.38);\n",
       "  --xr-border-color: #1F1F1F;\n",
       "  --xr-disabled-color: #515151;\n",
       "  --xr-background-color: #111111;\n",
       "  --xr-background-color-row-even: #111111;\n",
       "  --xr-background-color-row-odd: #313131;\n",
       "}\n",
       "\n",
       ".xr-wrap {\n",
       "  display: block;\n",
       "  min-width: 300px;\n",
       "  max-width: 700px;\n",
       "}\n",
       "\n",
       ".xr-text-repr-fallback {\n",
       "  /* fallback to plain text repr when CSS is not injected (untrusted notebook) */\n",
       "  display: none;\n",
       "}\n",
       "\n",
       ".xr-header {\n",
       "  padding-top: 6px;\n",
       "  padding-bottom: 6px;\n",
       "  margin-bottom: 4px;\n",
       "  border-bottom: solid 1px var(--xr-border-color);\n",
       "}\n",
       "\n",
       ".xr-header > div,\n",
       ".xr-header > ul {\n",
       "  display: inline;\n",
       "  margin-top: 0;\n",
       "  margin-bottom: 0;\n",
       "}\n",
       "\n",
       ".xr-obj-type,\n",
       ".xr-array-name {\n",
       "  margin-left: 2px;\n",
       "  margin-right: 10px;\n",
       "}\n",
       "\n",
       ".xr-obj-type {\n",
       "  color: var(--xr-font-color2);\n",
       "}\n",
       "\n",
       ".xr-sections {\n",
       "  padding-left: 0 !important;\n",
       "  display: grid;\n",
       "  grid-template-columns: 150px auto auto 1fr 20px 20px;\n",
       "}\n",
       "\n",
       ".xr-section-item {\n",
       "  display: contents;\n",
       "}\n",
       "\n",
       ".xr-section-item input {\n",
       "  display: none;\n",
       "}\n",
       "\n",
       ".xr-section-item input + label {\n",
       "  color: var(--xr-disabled-color);\n",
       "}\n",
       "\n",
       ".xr-section-item input:enabled + label {\n",
       "  cursor: pointer;\n",
       "  color: var(--xr-font-color2);\n",
       "}\n",
       "\n",
       ".xr-section-item input:enabled + label:hover {\n",
       "  color: var(--xr-font-color0);\n",
       "}\n",
       "\n",
       ".xr-section-summary {\n",
       "  grid-column: 1;\n",
       "  color: var(--xr-font-color2);\n",
       "  font-weight: 500;\n",
       "}\n",
       "\n",
       ".xr-section-summary > span {\n",
       "  display: inline-block;\n",
       "  padding-left: 0.5em;\n",
       "}\n",
       "\n",
       ".xr-section-summary-in:disabled + label {\n",
       "  color: var(--xr-font-color2);\n",
       "}\n",
       "\n",
       ".xr-section-summary-in + label:before {\n",
       "  display: inline-block;\n",
       "  content: '►';\n",
       "  font-size: 11px;\n",
       "  width: 15px;\n",
       "  text-align: center;\n",
       "}\n",
       "\n",
       ".xr-section-summary-in:disabled + label:before {\n",
       "  color: var(--xr-disabled-color);\n",
       "}\n",
       "\n",
       ".xr-section-summary-in:checked + label:before {\n",
       "  content: '▼';\n",
       "}\n",
       "\n",
       ".xr-section-summary-in:checked + label > span {\n",
       "  display: none;\n",
       "}\n",
       "\n",
       ".xr-section-summary,\n",
       ".xr-section-inline-details {\n",
       "  padding-top: 4px;\n",
       "  padding-bottom: 4px;\n",
       "}\n",
       "\n",
       ".xr-section-inline-details {\n",
       "  grid-column: 2 / -1;\n",
       "}\n",
       "\n",
       ".xr-section-details {\n",
       "  display: none;\n",
       "  grid-column: 1 / -1;\n",
       "  margin-bottom: 5px;\n",
       "}\n",
       "\n",
       ".xr-section-summary-in:checked ~ .xr-section-details {\n",
       "  display: contents;\n",
       "}\n",
       "\n",
       ".xr-array-wrap {\n",
       "  grid-column: 1 / -1;\n",
       "  display: grid;\n",
       "  grid-template-columns: 20px auto;\n",
       "}\n",
       "\n",
       ".xr-array-wrap > label {\n",
       "  grid-column: 1;\n",
       "  vertical-align: top;\n",
       "}\n",
       "\n",
       ".xr-preview {\n",
       "  color: var(--xr-font-color3);\n",
       "}\n",
       "\n",
       ".xr-array-preview,\n",
       ".xr-array-data {\n",
       "  padding: 0 5px !important;\n",
       "  grid-column: 2;\n",
       "}\n",
       "\n",
       ".xr-array-data,\n",
       ".xr-array-in:checked ~ .xr-array-preview {\n",
       "  display: none;\n",
       "}\n",
       "\n",
       ".xr-array-in:checked ~ .xr-array-data,\n",
       ".xr-array-preview {\n",
       "  display: inline-block;\n",
       "}\n",
       "\n",
       ".xr-dim-list {\n",
       "  display: inline-block !important;\n",
       "  list-style: none;\n",
       "  padding: 0 !important;\n",
       "  margin: 0;\n",
       "}\n",
       "\n",
       ".xr-dim-list li {\n",
       "  display: inline-block;\n",
       "  padding: 0;\n",
       "  margin: 0;\n",
       "}\n",
       "\n",
       ".xr-dim-list:before {\n",
       "  content: '(';\n",
       "}\n",
       "\n",
       ".xr-dim-list:after {\n",
       "  content: ')';\n",
       "}\n",
       "\n",
       ".xr-dim-list li:not(:last-child):after {\n",
       "  content: ',';\n",
       "  padding-right: 5px;\n",
       "}\n",
       "\n",
       ".xr-has-index {\n",
       "  font-weight: bold;\n",
       "}\n",
       "\n",
       ".xr-var-list,\n",
       ".xr-var-item {\n",
       "  display: contents;\n",
       "}\n",
       "\n",
       ".xr-var-item > div,\n",
       ".xr-var-item label,\n",
       ".xr-var-item > .xr-var-name span {\n",
       "  background-color: var(--xr-background-color-row-even);\n",
       "  margin-bottom: 0;\n",
       "}\n",
       "\n",
       ".xr-var-item > .xr-var-name:hover span {\n",
       "  padding-right: 5px;\n",
       "}\n",
       "\n",
       ".xr-var-list > li:nth-child(odd) > div,\n",
       ".xr-var-list > li:nth-child(odd) > label,\n",
       ".xr-var-list > li:nth-child(odd) > .xr-var-name span {\n",
       "  background-color: var(--xr-background-color-row-odd);\n",
       "}\n",
       "\n",
       ".xr-var-name {\n",
       "  grid-column: 1;\n",
       "}\n",
       "\n",
       ".xr-var-dims {\n",
       "  grid-column: 2;\n",
       "}\n",
       "\n",
       ".xr-var-dtype {\n",
       "  grid-column: 3;\n",
       "  text-align: right;\n",
       "  color: var(--xr-font-color2);\n",
       "}\n",
       "\n",
       ".xr-var-preview {\n",
       "  grid-column: 4;\n",
       "}\n",
       "\n",
       ".xr-var-name,\n",
       ".xr-var-dims,\n",
       ".xr-var-dtype,\n",
       ".xr-preview,\n",
       ".xr-attrs dt {\n",
       "  white-space: nowrap;\n",
       "  overflow: hidden;\n",
       "  text-overflow: ellipsis;\n",
       "  padding-right: 10px;\n",
       "}\n",
       "\n",
       ".xr-var-name:hover,\n",
       ".xr-var-dims:hover,\n",
       ".xr-var-dtype:hover,\n",
       ".xr-attrs dt:hover {\n",
       "  overflow: visible;\n",
       "  width: auto;\n",
       "  z-index: 1;\n",
       "}\n",
       "\n",
       ".xr-var-attrs,\n",
       ".xr-var-data {\n",
       "  display: none;\n",
       "  background-color: var(--xr-background-color) !important;\n",
       "  padding-bottom: 5px !important;\n",
       "}\n",
       "\n",
       ".xr-var-attrs-in:checked ~ .xr-var-attrs,\n",
       ".xr-var-data-in:checked ~ .xr-var-data {\n",
       "  display: block;\n",
       "}\n",
       "\n",
       ".xr-var-data > table {\n",
       "  float: right;\n",
       "}\n",
       "\n",
       ".xr-var-name span,\n",
       ".xr-var-data,\n",
       ".xr-attrs {\n",
       "  padding-left: 25px !important;\n",
       "}\n",
       "\n",
       ".xr-attrs,\n",
       ".xr-var-attrs,\n",
       ".xr-var-data {\n",
       "  grid-column: 1 / -1;\n",
       "}\n",
       "\n",
       "dl.xr-attrs {\n",
       "  padding: 0;\n",
       "  margin: 0;\n",
       "  display: grid;\n",
       "  grid-template-columns: 125px auto;\n",
       "}\n",
       "\n",
       ".xr-attrs dt,\n",
       ".xr-attrs dd {\n",
       "  padding: 0;\n",
       "  margin: 0;\n",
       "  float: left;\n",
       "  padding-right: 10px;\n",
       "  width: auto;\n",
       "}\n",
       "\n",
       ".xr-attrs dt {\n",
       "  font-weight: normal;\n",
       "  grid-column: 1;\n",
       "}\n",
       "\n",
       ".xr-attrs dt:hover span {\n",
       "  display: inline-block;\n",
       "  background: var(--xr-background-color);\n",
       "  padding-right: 10px;\n",
       "}\n",
       "\n",
       ".xr-attrs dd {\n",
       "  grid-column: 2;\n",
       "  white-space: pre-wrap;\n",
       "  word-break: break-all;\n",
       "}\n",
       "\n",
       ".xr-icon-database,\n",
       ".xr-icon-file-text2 {\n",
       "  display: inline-block;\n",
       "  vertical-align: middle;\n",
       "  width: 1em;\n",
       "  height: 1.5em !important;\n",
       "  stroke-width: 0;\n",
       "  stroke: currentColor;\n",
       "  fill: currentColor;\n",
       "}\n",
       "</style><pre class='xr-text-repr-fallback'>&lt;xarray.DataArray (band: 1, y: 7201, x: 7201)&gt;\n",
       "array([[[4916, 4926, 4931, ..., 5097, 5098, 5089],\n",
       "        [4919, 4932, 4928, ..., 5080, 5075, 5069],\n",
       "        [4919, 4928, 4935, ..., 5063, 5055, 5048],\n",
       "        ...,\n",
       "        [ 368,  368,  366, ..., 1905, 1919, 1937],\n",
       "        [ 364,  364,  362, ..., 1913, 1930, 1944],\n",
       "        [ 360,  359,  357, ..., 1918, 1930, 1942]]], dtype=int16)\n",
       "Coordinates:\n",
       "  * x            (x) float64 86.0 86.0 86.0 86.0 86.0 ... 88.0 88.0 88.0 88.0\n",
       "  * y            (y) float64 29.0 29.0 29.0 29.0 29.0 ... 27.0 27.0 27.0 27.0\n",
       "  * band         (band) int64 1\n",
       "    spatial_ref  int64 0\n",
       "Attributes:\n",
       "    _FillValue:    -32768\n",
       "    scale_factor:  1.0\n",
       "    add_offset:    0.0\n",
       "    units:         m</pre><div class='xr-wrap' hidden><div class='xr-header'><div class='xr-obj-type'>xarray.DataArray</div><div class='xr-array-name'></div><ul class='xr-dim-list'><li><span class='xr-has-index'>band</span>: 1</li><li><span class='xr-has-index'>y</span>: 7201</li><li><span class='xr-has-index'>x</span>: 7201</li></ul></div><ul class='xr-sections'><li class='xr-section-item'><div class='xr-array-wrap'><input id='section-08834ca1-1a92-4ae0-b94b-a3f1e2e700ca' class='xr-array-in' type='checkbox' checked><label for='section-08834ca1-1a92-4ae0-b94b-a3f1e2e700ca' title='Show/hide data repr'><svg class='icon xr-icon-database'><use xlink:href='#icon-database'></use></svg></label><div class='xr-array-preview xr-preview'><span>4916 4926 4931 4929 4929 4931 4934 ... 1877 1887 1904 1918 1930 1942</span></div><div class='xr-array-data'><pre>array([[[4916, 4926, 4931, ..., 5097, 5098, 5089],\n",
       "        [4919, 4932, 4928, ..., 5080, 5075, 5069],\n",
       "        [4919, 4928, 4935, ..., 5063, 5055, 5048],\n",
       "        ...,\n",
       "        [ 368,  368,  366, ..., 1905, 1919, 1937],\n",
       "        [ 364,  364,  362, ..., 1913, 1930, 1944],\n",
       "        [ 360,  359,  357, ..., 1918, 1930, 1942]]], dtype=int16)</pre></div></div></li><li class='xr-section-item'><input id='section-85cfd0b6-d69e-468f-bfbe-6066dd68441f' class='xr-section-summary-in' type='checkbox'  checked><label for='section-85cfd0b6-d69e-468f-bfbe-6066dd68441f' class='xr-section-summary' >Coordinates: <span>(4)</span></label><div class='xr-section-inline-details'></div><div class='xr-section-details'><ul class='xr-var-list'><li class='xr-var-item'><div class='xr-var-name'><span class='xr-has-index'>x</span></div><div class='xr-var-dims'>(x)</div><div class='xr-var-dtype'>float64</div><div class='xr-var-preview xr-preview'>86.0 86.0 86.0 ... 88.0 88.0 88.0</div><input id='attrs-b7e395c0-8b86-4b3c-9626-64530c9b3285' class='xr-var-attrs-in' type='checkbox' disabled><label for='attrs-b7e395c0-8b86-4b3c-9626-64530c9b3285' title='Show/Hide attributes'><svg class='icon xr-icon-file-text2'><use xlink:href='#icon-file-text2'></use></svg></label><input id='data-ac7ddd76-5636-4008-9574-0a401ed8cf50' class='xr-var-data-in' type='checkbox'><label for='data-ac7ddd76-5636-4008-9574-0a401ed8cf50' title='Show/Hide data repr'><svg class='icon xr-icon-database'><use xlink:href='#icon-database'></use></svg></label><div class='xr-var-attrs'><dl class='xr-attrs'></dl></div><div class='xr-var-data'><pre>array([86.      , 86.000278, 86.000556, ..., 87.999444, 87.999722, 88.      ])</pre></div></li><li class='xr-var-item'><div class='xr-var-name'><span class='xr-has-index'>y</span></div><div class='xr-var-dims'>(y)</div><div class='xr-var-dtype'>float64</div><div class='xr-var-preview xr-preview'>29.0 29.0 29.0 ... 27.0 27.0 27.0</div><input id='attrs-93fcdec0-425b-46db-8ba0-25bf201b3571' class='xr-var-attrs-in' type='checkbox' disabled><label for='attrs-93fcdec0-425b-46db-8ba0-25bf201b3571' title='Show/Hide attributes'><svg class='icon xr-icon-file-text2'><use xlink:href='#icon-file-text2'></use></svg></label><input id='data-9f67f1dc-f994-4703-a10b-0d052ca5f838' class='xr-var-data-in' type='checkbox'><label for='data-9f67f1dc-f994-4703-a10b-0d052ca5f838' title='Show/Hide data repr'><svg class='icon xr-icon-database'><use xlink:href='#icon-database'></use></svg></label><div class='xr-var-attrs'><dl class='xr-attrs'></dl></div><div class='xr-var-data'><pre>array([29.      , 28.999722, 28.999444, ..., 27.000556, 27.000278, 27.      ])</pre></div></li><li class='xr-var-item'><div class='xr-var-name'><span class='xr-has-index'>band</span></div><div class='xr-var-dims'>(band)</div><div class='xr-var-dtype'>int64</div><div class='xr-var-preview xr-preview'>1</div><input id='attrs-b85cdbf8-ae07-441a-8566-4a132673e2b5' class='xr-var-attrs-in' type='checkbox' disabled><label for='attrs-b85cdbf8-ae07-441a-8566-4a132673e2b5' title='Show/Hide attributes'><svg class='icon xr-icon-file-text2'><use xlink:href='#icon-file-text2'></use></svg></label><input id='data-fbbffa82-148a-4260-a77e-e65bb48bc341' class='xr-var-data-in' type='checkbox'><label for='data-fbbffa82-148a-4260-a77e-e65bb48bc341' title='Show/Hide data repr'><svg class='icon xr-icon-database'><use xlink:href='#icon-database'></use></svg></label><div class='xr-var-attrs'><dl class='xr-attrs'></dl></div><div class='xr-var-data'><pre>array([1])</pre></div></li><li class='xr-var-item'><div class='xr-var-name'><span>spatial_ref</span></div><div class='xr-var-dims'>()</div><div class='xr-var-dtype'>int64</div><div class='xr-var-preview xr-preview'>0</div><input id='attrs-cc505ba7-3992-4c9a-8e7d-6e4a7d515b86' class='xr-var-attrs-in' type='checkbox' ><label for='attrs-cc505ba7-3992-4c9a-8e7d-6e4a7d515b86' title='Show/Hide attributes'><svg class='icon xr-icon-file-text2'><use xlink:href='#icon-file-text2'></use></svg></label><input id='data-09c2ec50-a2a0-4332-b527-88ab0508db3f' class='xr-var-data-in' type='checkbox'><label for='data-09c2ec50-a2a0-4332-b527-88ab0508db3f' title='Show/Hide data repr'><svg class='icon xr-icon-database'><use xlink:href='#icon-database'></use></svg></label><div class='xr-var-attrs'><dl class='xr-attrs'><dt><span>crs_wkt :</span></dt><dd>GEOGCS[&quot;WGS 84&quot;,DATUM[&quot;WGS_1984&quot;,SPHEROID[&quot;WGS 84&quot;,6378137,298.257223563,AUTHORITY[&quot;EPSG&quot;,&quot;7030&quot;]],AUTHORITY[&quot;EPSG&quot;,&quot;6326&quot;]],PRIMEM[&quot;Greenwich&quot;,0,AUTHORITY[&quot;EPSG&quot;,&quot;8901&quot;]],UNIT[&quot;degree&quot;,0.0174532925199433,AUTHORITY[&quot;EPSG&quot;,&quot;9122&quot;]],AXIS[&quot;Latitude&quot;,NORTH],AXIS[&quot;Longitude&quot;,EAST],AUTHORITY[&quot;EPSG&quot;,&quot;4326&quot;]]</dd><dt><span>semi_major_axis :</span></dt><dd>6378137.0</dd><dt><span>semi_minor_axis :</span></dt><dd>6356752.314245179</dd><dt><span>inverse_flattening :</span></dt><dd>298.257223563</dd><dt><span>reference_ellipsoid_name :</span></dt><dd>WGS 84</dd><dt><span>longitude_of_prime_meridian :</span></dt><dd>0.0</dd><dt><span>prime_meridian_name :</span></dt><dd>Greenwich</dd><dt><span>geographic_crs_name :</span></dt><dd>WGS 84</dd><dt><span>grid_mapping_name :</span></dt><dd>latitude_longitude</dd><dt><span>spatial_ref :</span></dt><dd>GEOGCS[&quot;WGS 84&quot;,DATUM[&quot;WGS_1984&quot;,SPHEROID[&quot;WGS 84&quot;,6378137,298.257223563,AUTHORITY[&quot;EPSG&quot;,&quot;7030&quot;]],AUTHORITY[&quot;EPSG&quot;,&quot;6326&quot;]],PRIMEM[&quot;Greenwich&quot;,0,AUTHORITY[&quot;EPSG&quot;,&quot;8901&quot;]],UNIT[&quot;degree&quot;,0.0174532925199433,AUTHORITY[&quot;EPSG&quot;,&quot;9122&quot;]],AXIS[&quot;Latitude&quot;,NORTH],AXIS[&quot;Longitude&quot;,EAST],AUTHORITY[&quot;EPSG&quot;,&quot;4326&quot;]]</dd><dt><span>GeoTransform :</span></dt><dd>85.99986111111112 0.0002777777777777778 0.0 29.000138888888888 0.0 -0.0002777777777777778</dd></dl></div><div class='xr-var-data'><pre>array(0)</pre></div></li></ul></div></li><li class='xr-section-item'><input id='section-717c50ee-4909-442a-a755-f3a6a3e578ce' class='xr-section-summary-in' type='checkbox'  checked><label for='section-717c50ee-4909-442a-a755-f3a6a3e578ce' class='xr-section-summary' >Attributes: <span>(4)</span></label><div class='xr-section-inline-details'></div><div class='xr-section-details'><dl class='xr-attrs'><dt><span>_FillValue :</span></dt><dd>-32768</dd><dt><span>scale_factor :</span></dt><dd>1.0</dd><dt><span>add_offset :</span></dt><dd>0.0</dd><dt><span>units :</span></dt><dd>m</dd></dl></div></li></ul></div></div>"
      ],
      "text/plain": [
       "<xarray.DataArray (band: 1, y: 7201, x: 7201)>\n",
       "array([[[4916, 4926, 4931, ..., 5097, 5098, 5089],\n",
       "        [4919, 4932, 4928, ..., 5080, 5075, 5069],\n",
       "        [4919, 4928, 4935, ..., 5063, 5055, 5048],\n",
       "        ...,\n",
       "        [ 368,  368,  366, ..., 1905, 1919, 1937],\n",
       "        [ 364,  364,  362, ..., 1913, 1930, 1944],\n",
       "        [ 360,  359,  357, ..., 1918, 1930, 1942]]], dtype=int16)\n",
       "Coordinates:\n",
       "  * x            (x) float64 86.0 86.0 86.0 86.0 86.0 ... 88.0 88.0 88.0 88.0\n",
       "  * y            (y) float64 29.0 29.0 29.0 29.0 29.0 ... 27.0 27.0 27.0 27.0\n",
       "  * band         (band) int64 1\n",
       "    spatial_ref  int64 0\n",
       "Attributes:\n",
       "    _FillValue:    -32768\n",
       "    scale_factor:  1.0\n",
       "    add_offset:    0.0\n",
       "    units:         m"
      ]
     },
     "execution_count": 14,
     "metadata": {},
     "output_type": "execute_result"
    }
   ],
   "source": [
    "merged = merge_arrays(raster_datasets)\n",
    "merged"
   ]
  },
  {
   "cell_type": "code",
   "execution_count": 52,
   "id": "02d7c702-aa00-43e1-a858-dd47f58c9e63",
   "metadata": {},
   "outputs": [],
   "source": [
    "output_file = 'output/merged_xarray_raster.tif'\n",
    "merged.rio.to_raster(output_file)"
   ]
  },
  {
   "cell_type": "markdown",
   "id": "e139dfb6-0d57-4f37-908c-2ee04ae777bd",
   "metadata": {},
   "source": [
    "### Visualizing Rasters"
   ]
  },
  {
   "cell_type": "code",
   "execution_count": 15,
   "id": "4d8262d0-c29b-4681-b77d-c5d303e4fadb",
   "metadata": {},
   "outputs": [],
   "source": [
    "import matplotlib.pyplot as plt\n",
    "%matplotlib inline"
   ]
  },
  {
   "cell_type": "code",
   "execution_count": null,
   "id": "40afd64a-f870-4551-84b6-f0ddc915c648",
   "metadata": {},
   "outputs": [],
   "source": [
    "fig, axes = plt.subplots(1, 4)\n",
    "fig.set_size_inches(15, 3)\n",
    "plt.tight_layout()\n",
    "\n",
    "for index, raster in enumerate(raster_datasets):\n",
    "    ax = axes[index]\n",
    "    raster.plot(ax=ax, cmap='Greys_r')\n",
    "    ax.axis('off')\n",
    "    filename = dataset_list[index]\n",
    "    ax.set_title(filename)"
   ]
  },
  {
   "cell_type": "code",
   "execution_count": null,
   "id": "0fa8de66-9aae-422d-b90d-53b0c2393956",
   "metadata": {},
   "outputs": [],
   "source": []
  }
 ],
 "metadata": {
  "kernelspec": {
   "display_name": "Python 3 (ipykernel)",
   "language": "python",
   "name": "python3"
  },
  "language_info": {
   "codemirror_mode": {
    "name": "ipython",
    "version": 3
   },
   "file_extension": ".py",
   "mimetype": "text/x-python",
   "name": "python",
   "nbconvert_exporter": "python",
   "pygments_lexer": "ipython3",
   "version": "3.9.7"
  }
 },
 "nbformat": 4,
 "nbformat_minor": 5
}
