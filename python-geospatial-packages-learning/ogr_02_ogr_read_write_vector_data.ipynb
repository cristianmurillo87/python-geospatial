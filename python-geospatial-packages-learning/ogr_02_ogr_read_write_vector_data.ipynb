{
 "cells": [
  {
   "cell_type": "markdown",
   "id": "10c66db7-9ff5-49ea-9a34-aed28be89796",
   "metadata": {},
   "source": [
    "### Read and Write Vector Data with OGR\n",
    "\n",
    "In OGR, when reading a vector layer, you access elements in the following order:\n",
    "\n",
    " 1. Source\n",
    " 1. Layer\n",
    " 1. Feature"
   ]
  },
  {
   "cell_type": "code",
   "execution_count": 34,
   "id": "1a231de0-55d8-44c1-aa50-b18a72e564a2",
   "metadata": {},
   "outputs": [],
   "source": [
    "from osgeo import ogr, osr"
   ]
  },
  {
   "cell_type": "code",
   "execution_count": 25,
   "id": "f3268cda-bb0e-4233-b73c-9a7c9fd626b9",
   "metadata": {},
   "outputs": [],
   "source": [
    "# Datasource\n",
    "ds = ogr.Open('data/census/tl_2019_06_tract.shp', 1)\n",
    "# Layer\n",
    "layer = ds.GetLayer()\n",
    "extent = layer.GetExtent() # xmin, xmax, ymin, ymax"
   ]
  },
  {
   "cell_type": "code",
   "execution_count": 26,
   "id": "7d5c4b4a-8b62-4f2b-b20b-1346d45a1c26",
   "metadata": {},
   "outputs": [
    {
     "data": {
      "text/plain": [
       "(-124.48200299999999, -114.131211, 32.528832, 42.009502999999995)"
      ]
     },
     "execution_count": 26,
     "metadata": {},
     "output_type": "execute_result"
    }
   ],
   "source": [
    "extent"
   ]
  },
  {
   "cell_type": "code",
   "execution_count": 27,
   "id": "f375e2e6-6072-411b-945b-657e46120850",
   "metadata": {},
   "outputs": [],
   "source": [
    "feature = layer.GetFeature(1)"
   ]
  },
  {
   "cell_type": "code",
   "execution_count": 28,
   "id": "424a9dd1-6509-4cc4-a38f-3cb1a5c81126",
   "metadata": {},
   "outputs": [],
   "source": [
    "layer_def = layer.GetLayerDefn()"
   ]
  },
  {
   "cell_type": "code",
   "execution_count": 29,
   "id": "8f04c059-6c85-4fe5-9a59-b09bc827672b",
   "metadata": {},
   "outputs": [],
   "source": [
    "fd = layer_def.GetFieldDefn(1)"
   ]
  },
  {
   "cell_type": "code",
   "execution_count": 30,
   "id": "bce9940e-0ed6-4472-aac6-0603c7c88916",
   "metadata": {},
   "outputs": [
    {
     "data": {
      "text/plain": [
       "'COUNTYFP'"
      ]
     },
     "execution_count": 30,
     "metadata": {},
     "output_type": "execute_result"
    }
   ],
   "source": [
    "fd.GetName()"
   ]
  },
  {
   "cell_type": "code",
   "execution_count": 17,
   "id": "b26aab4b-ff01-4fdc-9aad-a602939463bb",
   "metadata": {},
   "outputs": [
    {
     "name": "stdout",
     "output_type": "stream",
     "text": [
      "STATEFP\n",
      "COUNTYFP\n",
      "TRACTCE\n",
      "GEOID\n",
      "NAME\n",
      "NAMELSAD\n",
      "MTFCC\n",
      "FUNCSTAT\n",
      "ALAND\n",
      "AWATER\n",
      "INTPTLAT\n",
      "INTPTLON\n"
     ]
    }
   ],
   "source": [
    "for i in range(layer_def.GetFieldCount()):\n",
    "    field_def = layer_def.GetFieldDefn(i)\n",
    "    print(field_def.GetName())"
   ]
  },
  {
   "cell_type": "code",
   "execution_count": 20,
   "id": "89e9b37d-acfe-4614-90fe-e81cf7797e26",
   "metadata": {},
   "outputs": [],
   "source": [
    "for feat in layer:\n",
    "    print(feature.GetField('STATEFP'))"
   ]
  },
  {
   "cell_type": "code",
   "execution_count": 31,
   "id": "1c8fa237-6cbf-4bae-b92c-fe9ba97a0efa",
   "metadata": {},
   "outputs": [],
   "source": [
    "driver = ogr.GetDriverByName('ESRI Shapefile')\n",
    "out_ds = driver.CreateDataSource('output/out_test.shp')\n",
    "out_layer = ds.CopyLayer(layer, 'out_test')\n",
    "\n",
    "# Add a field to the new layer\n",
    "new_field = ogr.FieldDefn('PERIMETER', ogr.OFTReal)\n",
    "new_field.SetWidth(10)\n",
    "new_field.SetPrecision(3)\n",
    "out_layer.CreateField(new_field)\n",
    "\n",
    "for feat in out_layer:\n",
    "    geom = feat.GetGeometryRef()\n",
    "    perimeter = geom.Boundary().Length()\n",
    "    feat.SetField('PERIMETER', perimeter)\n",
    "    out_layer.SetFeature(feature)\n",
    "\n",
    "out_layer = out_ds = None"
   ]
  },
  {
   "cell_type": "code",
   "execution_count": 32,
   "id": "3d941a0e-3328-4bae-afe2-98f031b106a1",
   "metadata": {},
   "outputs": [],
   "source": [
    "ring = ogr.Geometry(ogr.wkbLinearRing)\n",
    "ring.AddPoint(extent[0], extent[2])\n",
    "ring.AddPoint(extent[1], extent[2])\n",
    "ring.AddPoint(extent[1], extent[3])\n",
    "ring.AddPoint(extent[0], extent[3])\n",
    "ring.AddPoint(extent[0], extent[2])"
   ]
  },
  {
   "cell_type": "code",
   "execution_count": 33,
   "id": "abb48868-58d9-46ff-b585-88ec04172b3a",
   "metadata": {},
   "outputs": [
    {
     "data": {
      "text/plain": [
       "0"
      ]
     },
     "execution_count": 33,
     "metadata": {},
     "output_type": "execute_result"
    }
   ],
   "source": [
    "poly = ogr.Geometry(ogr.wkbPolygon)\n",
    "poly.AddGeometry(ring)"
   ]
  },
  {
   "cell_type": "code",
   "execution_count": 37,
   "id": "314c8181-6b66-44c0-87bb-0b48bddde400",
   "metadata": {},
   "outputs": [],
   "source": [
    "# create a spatial reference \n",
    "srs = osr.SpatialReference()\n",
    "srs.ImportFromEPSG(4326)\n",
    "\n",
    "# or extract it from a layer\n",
    "srs = layer.GetSpatialFilter()"
   ]
  },
  {
   "cell_type": "code",
   "execution_count": 39,
   "id": "c10d8ce9-f0f4-46bd-aa0c-49f965f3f6af",
   "metadata": {},
   "outputs": [],
   "source": [
    "out_ds = driver.CreateDataSource('output/extent.shp')\n",
    "out_layer = out_ds.CreateLayer('extent', srs)\n",
    "\n",
    "feature = ogr.Feature(out_layer.GetLayerDefn())\n",
    "feature.SetGeometry(poly)\n",
    "out_layer.CreateFeature(feature)\n",
    "\n",
    "out_ds = out_layer = feature = None"
   ]
  },
  {
   "cell_type": "code",
   "execution_count": null,
   "id": "9ab8bdf2-36af-4f6e-b883-92cf5cfd248f",
   "metadata": {},
   "outputs": [],
   "source": []
  }
 ],
 "metadata": {
  "kernelspec": {
   "display_name": "Python 3 (ipykernel)",
   "language": "python",
   "name": "python3"
  },
  "language_info": {
   "codemirror_mode": {
    "name": "ipython",
    "version": 3
   },
   "file_extension": ".py",
   "mimetype": "text/x-python",
   "name": "python",
   "nbconvert_exporter": "python",
   "pygments_lexer": "ipython3",
   "version": "3.9.7"
  }
 },
 "nbformat": 4,
 "nbformat_minor": 5
}
