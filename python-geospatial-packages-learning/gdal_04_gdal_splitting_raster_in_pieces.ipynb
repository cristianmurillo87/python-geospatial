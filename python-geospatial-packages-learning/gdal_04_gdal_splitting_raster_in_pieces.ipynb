{
 "cells": [
  {
   "cell_type": "markdown",
   "id": "87301913-998d-4eae-b6f2-92b3b84efa65",
   "metadata": {},
   "source": [
    "### Splitting Rasters into Equal Pieces"
   ]
  },
  {
   "cell_type": "markdown",
   "id": "b1c3905e-3896-4672-8c79-7d82f2f0ef00",
   "metadata": {},
   "source": [
    "#### Using GDAL Warp"
   ]
  },
  {
   "cell_type": "code",
   "execution_count": 1,
   "id": "5129fd78-aa31-4a26-a914-81c3ff6dd3ee",
   "metadata": {},
   "outputs": [],
   "source": [
    "from osgeo import gdal"
   ]
  },
  {
   "cell_type": "code",
   "execution_count": 52,
   "id": "6e2969f8-1537-4404-b3ce-04196538182b",
   "metadata": {},
   "outputs": [],
   "source": [
    "dem = gdal.Open('data/dem/north_mexico_clip.tif')"
   ]
  },
  {
   "cell_type": "code",
   "execution_count": 53,
   "id": "75eb7d17-f4cb-4140-83d7-a928906d7f48",
   "metadata": {},
   "outputs": [],
   "source": [
    "gt = dem.GetGeoTransform()\n",
    "\n",
    "x_min = gt[0]\n",
    "y_max = gt[3]\n",
    "pixel_width = gt[1]\n",
    "pixel_height = gt[5]"
   ]
  },
  {
   "cell_type": "code",
   "execution_count": 5,
   "id": "18d41d3c-d893-462b-8f47-bdfbb6a6a6b7",
   "metadata": {},
   "outputs": [
    {
     "name": "stdout",
     "output_type": "stream",
     "text": [
      "6089 7812\n"
     ]
    }
   ],
   "source": [
    "array = dem.GetRasterBand(1).ReadAsArray()\n",
    "dx, dy = array.shape\n",
    "print(dx, dy)"
   ]
  },
  {
   "cell_type": "code",
   "execution_count": 8,
   "id": "190b2d7e-7f57-4e7b-8b79-1b11dc4360fe",
   "metadata": {},
   "outputs": [
    {
     "name": "stdout",
     "output_type": "stream",
     "text": [
      "996369.0 3397005.0\n"
     ]
    }
   ],
   "source": [
    "x_max = x_min + dx * pixel_width\n",
    "y_min = y_max + dy * pixel_height\n",
    "\n",
    "print(x_max, y_min)"
   ]
  },
  {
   "cell_type": "code",
   "execution_count": 9,
   "id": "9e433322-9348-4015-92cd-ed67738cfdb1",
   "metadata": {},
   "outputs": [
    {
     "name": "stdout",
     "output_type": "stream",
     "text": [
      "978102.0 3420441.0\n"
     ]
    }
   ],
   "source": [
    "print(x_min, y_max)"
   ]
  },
  {
   "cell_type": "code",
   "execution_count": 12,
   "id": "85eace0b-bfcd-4a1e-a50f-e3cb39ec619d",
   "metadata": {},
   "outputs": [],
   "source": [
    "import numpy as np"
   ]
  },
  {
   "cell_type": "code",
   "execution_count": 23,
   "id": "e9760fa6-fdea-4bcb-8f9e-a3acde07d327",
   "metadata": {},
   "outputs": [
    {
     "name": "stdout",
     "output_type": "stream",
     "text": [
      "[978102. 984191. 990280. 996369.]\n",
      "[3420441. 3412629. 3404817. 3397005.]\n"
     ]
    }
   ],
   "source": [
    "xdiv = 3\n",
    "ydiv = 3\n",
    "x_range = np.linspace(x_min, x_max, xdiv + 1)\n",
    "y_range = np.linspace(y_max, y_min, ydiv + 1)\n",
    "print(x_range)\n",
    "print(y_range)"
   ]
  },
  {
   "cell_type": "code",
   "execution_count": 46,
   "id": "107baa54-cf36-49af-b45a-f9a3f26f0ba9",
   "metadata": {},
   "outputs": [],
   "source": [
    "for i in range(xdiv):\n",
    "    for j in range(ydiv):\n",
    "        x0 = x_range[i]\n",
    "        x1 = x_range[i+1]\n",
    "        y0 = y_range[j]\n",
    "        y1 = y_range[j+1]\n",
    "        \n",
    "        gdal.Warp(f'output/northern_mexico_dem_{i}_{j}.tif', dem,\n",
    "                  outputBounds=(x0, y0, x1, y1), dstNodata=-9999)\n"
   ]
  },
  {
   "cell_type": "markdown",
   "id": "c4d7fad9-804d-4063-ad38-aefda350c15e",
   "metadata": {},
   "source": [
    "### Merge Rasters"
   ]
  },
  {
   "cell_type": "code",
   "execution_count": 30,
   "id": "55e5178e-7340-478f-9548-bc4def6eaef2",
   "metadata": {},
   "outputs": [],
   "source": [
    "import glob\n",
    "import subprocess"
   ]
  },
  {
   "cell_type": "code",
   "execution_count": 60,
   "id": "fba1197a-3dad-40bb-bef1-c6537f7228fc",
   "metadata": {},
   "outputs": [],
   "source": [
    "dem_list = glob.glob('output/northern_mexico_dem_[0-9]_[0-9].tif')"
   ]
  },
  {
   "cell_type": "code",
   "execution_count": 48,
   "id": "d5273304-81ac-4ff8-9b82-8089aec32f73",
   "metadata": {},
   "outputs": [
    {
     "data": {
      "text/plain": [
       "['output/northern_mexico_dem_0_0.tif',\n",
       " 'output/northern_mexico_dem_0_1.tif',\n",
       " 'output/northern_mexico_dem_0_2.tif',\n",
       " 'output/northern_mexico_dem_1_0.tif',\n",
       " 'output/northern_mexico_dem_1_1.tif',\n",
       " 'output/northern_mexico_dem_1_2.tif',\n",
       " 'output/northern_mexico_dem_2_0.tif',\n",
       " 'output/northern_mexico_dem_2_1.tif',\n",
       " 'output/northern_mexico_dem_2_2.tif']"
      ]
     },
     "execution_count": 48,
     "metadata": {},
     "output_type": "execute_result"
    }
   ],
   "source": [
    "dem_list"
   ]
  },
  {
   "cell_type": "code",
   "execution_count": 61,
   "id": "f3f1c441-31bd-49bf-ae23-026858f3e68b",
   "metadata": {},
   "outputs": [
    {
     "name": "stdout",
     "output_type": "stream",
     "text": [
      "0...10...20...30...40...50...60...70...80...90...100 - done.\n"
     ]
    },
    {
     "data": {
      "text/plain": [
       "0"
      ]
     },
     "execution_count": 61,
     "metadata": {},
     "output_type": "execute_result"
    }
   ],
   "source": [
    "cmd = 'gdal_merge.py -ps 3 -3 -o northern_mexico_merged.tif'\n",
    "subprocess.call(cmd.split() + dem_list)"
   ]
  },
  {
   "cell_type": "code",
   "execution_count": 73,
   "id": "1d03d8e1-05de-4b8e-b8f9-feec2bba357a",
   "metadata": {},
   "outputs": [
    {
     "name": "stderr",
     "output_type": "stream",
     "text": [
      "ERROR 5: Invalid user resolution\n"
     ]
    }
   ],
   "source": [
    "vrt = gdal.BuildVRT('merged.tif', dem_list, xRes=pixel_width, yRes=pixel_height)\n",
    "#gdal.Translate('output/northern_mexico_merged.tif', vrt, xRes=3, yRes=-3)"
   ]
  },
  {
   "cell_type": "code",
   "execution_count": 65,
   "id": "ae9fc898-034a-4b17-bba3-9a39b2cbc443",
   "metadata": {},
   "outputs": [],
   "source": [
    "vrt = None"
   ]
  },
  {
   "cell_type": "code",
   "execution_count": null,
   "id": "f2c3a090-584a-4d8e-9ec1-62dbea260974",
   "metadata": {},
   "outputs": [],
   "source": []
  }
 ],
 "metadata": {
  "kernelspec": {
   "display_name": "Python 3 (ipykernel)",
   "language": "python",
   "name": "python3"
  },
  "language_info": {
   "codemirror_mode": {
    "name": "ipython",
    "version": 3
   },
   "file_extension": ".py",
   "mimetype": "text/x-python",
   "name": "python",
   "nbconvert_exporter": "python",
   "pygments_lexer": "ipython3",
   "version": "3.9.7"
  }
 },
 "nbformat": 4,
 "nbformat_minor": 5
}
