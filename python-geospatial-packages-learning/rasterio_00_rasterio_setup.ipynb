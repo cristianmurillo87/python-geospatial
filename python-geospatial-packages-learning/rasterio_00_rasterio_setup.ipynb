{
 "cells": [
  {
   "cell_type": "markdown",
   "id": "331c35da-d003-4b55-bbe1-8c9c519d9627",
   "metadata": {},
   "source": [
    "#### Download the Data"
   ]
  },
  {
   "cell_type": "code",
   "execution_count": 1,
   "id": "00c8f0ba-b66f-471a-a909-d2369a08af1c",
   "metadata": {},
   "outputs": [
    {
     "name": "stdout",
     "output_type": "stream",
     "text": [
      "  % Total    % Received % Xferd  Average Speed   Time    Time     Time  Current\n",
      "                                 Dload  Upload   Total   Spent    Left  Speed\n",
      "100  148M  100  148M    0     0  4181k      0  0:00:36  0:00:36 --:--:-- 4125k\n",
      "  % Total    % Received % Xferd  Average Speed   Time    Time     Time  Current\n",
      "                                 Dload  Upload   Total   Spent    Left  Speed\n",
      "100 10441  100 10441    0     0   8794      0  0:00:01  0:00:01 --:--:--  8803\n"
     ]
    }
   ],
   "source": [
    "# download 4-Band Analytic PlanetScope asset\n",
    "!curl -O -J https://hello.planet.com/data/s/UG2TX98suVmmi9q/download\n",
    "\n",
    "# download XML metadata\n",
    "!curl -O -J https://hello.planet.com/data/s/jqDQE8xUHiD511e/download"
   ]
  },
  {
   "cell_type": "code",
   "execution_count": 2,
   "id": "e6ca3f05-b53f-4720-b126-4e9d95a652f0",
   "metadata": {},
   "outputs": [
    {
     "name": "stdout",
     "output_type": "stream",
     "text": [
      "  % Total    % Received % Xferd  Average Speed   Time    Time     Time  Current\n",
      "                                 Dload  Upload   Total   Spent    Left  Speed\n",
      "100 65.9M  100 65.9M    0     0  3937k      0  0:00:17  0:00:17 --:--:-- 4720k\n"
     ]
    }
   ],
   "source": [
    "# download 3-Band Visual PlanetScope asset\n",
    "!curl -O -J https://hello.planet.com/data/s/ZWwAg1RcmIN5h9R/download"
   ]
  },
  {
   "cell_type": "code",
   "execution_count": null,
   "id": "d3dc848f-fa1d-4f56-b8e4-5457402fb465",
   "metadata": {},
   "outputs": [],
   "source": []
  }
 ],
 "metadata": {
  "kernelspec": {
   "display_name": "Python 3 (ipykernel)",
   "language": "python",
   "name": "python3"
  },
  "language_info": {
   "codemirror_mode": {
    "name": "ipython",
    "version": 3
   },
   "file_extension": ".py",
   "mimetype": "text/x-python",
   "name": "python",
   "nbconvert_exporter": "python",
   "pygments_lexer": "ipython3",
   "version": "3.9.7"
  }
 },
 "nbformat": 4,
 "nbformat_minor": 5
}
