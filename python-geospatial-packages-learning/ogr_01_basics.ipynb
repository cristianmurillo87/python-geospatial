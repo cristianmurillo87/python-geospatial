{
 "cells": [
  {
   "cell_type": "markdown",
   "metadata": {},
   "source": [
    "### OGR Basics"
   ]
  },
  {
   "cell_type": "markdown",
   "metadata": {},
   "source": [
    "OGR offers the following seven classes:\n",
    "\n",
    "1. Geometry\n",
    "1. Spatial Reference\n",
    "1. Feature\n",
    "1. Feature Class Definition\n",
    "1. Layer\n",
    "1. Dataset\n",
    "1. Drivers"
   ]
  },
  {
   "cell_type": "code",
   "execution_count": 2,
   "metadata": {},
   "outputs": [],
   "source": [
    "from osgeo import ogr, osr\n",
    "import os"
   ]
  },
  {
   "cell_type": "markdown",
   "metadata": {},
   "source": [
    "List the attributes of a shapefile"
   ]
  },
  {
   "cell_type": "code",
   "execution_count": 3,
   "metadata": {},
   "outputs": [
    {
     "name": "stdout",
     "output_type": "stream",
     "text": [
      "['STATEFP', 'COUNTYFP', 'TRACTCE', 'GEOID', 'NAME', 'NAMELSAD', 'MTFCC', 'FUNCSTAT', 'ALAND', 'AWATER', 'INTPTLAT', 'INTPTLON']\n"
     ]
    }
   ],
   "source": [
    "shapefile = 'data/census/tl_2019_06_tract.shp'\n",
    "source = ogr.Open(shapefile)\n",
    "layer = source.GetLayer()\n",
    "layer_def = layer.GetLayerDefn()\n",
    "schema = []\n",
    "for n in range(layer_def.GetFieldCount()):\n",
    "    field_def = layer_def.GetFieldDefn(n)\n",
    "    schema.append(field_def.name)\n",
    "print(schema)"
   ]
  },
  {
   "cell_type": "markdown",
   "metadata": {},
   "source": [
    "Get the number of features in a shapefile"
   ]
  },
  {
   "cell_type": "code",
   "execution_count": 4,
   "metadata": {},
   "outputs": [
    {
     "name": "stdout",
     "output_type": "stream",
     "text": [
      "Number of features in tl_2019_06_tract.shp: 8057\n"
     ]
    }
   ],
   "source": [
    "driver = ogr.GetDriverByName('ESRI Shapefile')\n",
    "data_source = driver.Open(shapefile, 0)\n",
    "lyr = data_source.GetLayer()\n",
    "feature_count = lyr.GetFeatureCount()\n",
    "print(f'Number of features in {os.path.basename(shapefile)}: {feature_count}')"
   ]
  },
  {
   "cell_type": "markdown",
   "metadata": {},
   "source": [
    "Get the Spatial Reference from a layer or geometry"
   ]
  },
  {
   "cell_type": "code",
   "execution_count": 14,
   "metadata": {},
   "outputs": [
    {
     "name": "stdout",
     "output_type": "stream",
     "text": [
      "GEOGCS[\"NAD83\",\n",
      "    DATUM[\"North_American_Datum_1983\",\n",
      "        SPHEROID[\"GRS 1980\",6378137,298.257222101,\n",
      "            AUTHORITY[\"EPSG\",\"7019\"]],\n",
      "        AUTHORITY[\"EPSG\",\"6269\"]],\n",
      "    PRIMEM[\"Greenwich\",0,\n",
      "        AUTHORITY[\"EPSG\",\"8901\"]],\n",
      "    UNIT[\"degree\",0.0174532925199433,\n",
      "        AUTHORITY[\"EPSG\",\"9122\"]],\n",
      "    AXIS[\"Latitude\",NORTH],\n",
      "    AXIS[\"Longitude\",EAST],\n",
      "    AUTHORITY[\"EPSG\",\"4269\"]]\n"
     ]
    }
   ],
   "source": [
    "spatial_ref = layer.GetSpatialRef()\n",
    "print(spatial_ref)"
   ]
  },
  {
   "cell_type": "code",
   "execution_count": 16,
   "metadata": {},
   "outputs": [
    {
     "name": "stdout",
     "output_type": "stream",
     "text": [
      "GEOGCS[\"NAD83\",\n",
      "    DATUM[\"North_American_Datum_1983\",\n",
      "        SPHEROID[\"GRS 1980\",6378137,298.257222101,\n",
      "            AUTHORITY[\"EPSG\",\"7019\"]],\n",
      "        AUTHORITY[\"EPSG\",\"6269\"]],\n",
      "    PRIMEM[\"Greenwich\",0,\n",
      "        AUTHORITY[\"EPSG\",\"8901\"]],\n",
      "    UNIT[\"degree\",0.0174532925199433,\n",
      "        AUTHORITY[\"EPSG\",\"9122\"]],\n",
      "    AXIS[\"Latitude\",NORTH],\n",
      "    AXIS[\"Longitude\",EAST],\n",
      "    AUTHORITY[\"EPSG\",\"4269\"]]\n"
     ]
    }
   ],
   "source": [
    "feature = layer.GetNextFeature()\n",
    "geom = feature.GetGeometryRef()\n",
    "geom_spatial_ref = geom.GetSpatialReference()\n",
    "print(geom_spatial_ref)"
   ]
  },
  {
   "cell_type": "markdown",
   "metadata": {},
   "source": [
    "Get the centroid of a geometry"
   ]
  },
  {
   "cell_type": "code",
   "execution_count": null,
   "metadata": {},
   "outputs": [],
   "source": [
    "for feature in layer:\n",
    "    geom = feature.GetGeometryRef()\n",
    "    print(geom.Centroid().ExportToWkt())"
   ]
  },
  {
   "cell_type": "markdown",
   "metadata": {},
   "source": [
    "##### Creating a geometry"
   ]
  },
  {
   "cell_type": "markdown",
   "metadata": {},
   "source": [
    "Adding the coordinates directly"
   ]
  },
  {
   "cell_type": "code",
   "execution_count": 20,
   "metadata": {},
   "outputs": [
    {
     "name": "stdout",
     "output_type": "stream",
     "text": [
      "POLYGON ((1 1 0,5 1 0,5 5 0,1 5 0,1 1 0))\n"
     ]
    }
   ],
   "source": [
    "geom = ogr.Geometry(ogr.wkbLinearRing)\n",
    "geom.AddPoint(1, 1)\n",
    "geom.AddPoint(5, 1)\n",
    "geom.AddPoint(5, 5)\n",
    "geom.AddPoint(1, 5)\n",
    "geom.AddPoint(1, 1)\n",
    "polygon = ogr.Geometry(ogr.wkbPolygon)\n",
    "polygon.AddGeometry(geom)\n",
    "print(polygon.ExportToWkt())"
   ]
  },
  {
   "cell_type": "markdown",
   "metadata": {},
   "source": [
    "from GeoJSON"
   ]
  },
  {
   "cell_type": "code",
   "execution_count": 8,
   "metadata": {},
   "outputs": [
    {
     "name": "stdout",
     "output_type": "stream",
     "text": [
      "POLYGON ((1 1,5 1,5 5,1 5,1 1))\n"
     ]
    }
   ],
   "source": [
    "geojson = \"\"\"{ \"type\": \"Polygon\", \"coordinates\": [[[1, 1], [5, 1], [5, 5], [1, 5], [1, 1]]]}\"\"\"\n",
    "polygon = ogr.CreateGeometryFromJson(geojson)\n",
    "print(polygon)"
   ]
  },
  {
   "cell_type": "markdown",
   "metadata": {},
   "source": [
    "#### Basic Operations"
   ]
  },
  {
   "cell_type": "markdown",
   "metadata": {},
   "source": [
    "Area of a polygon"
   ]
  },
  {
   "cell_type": "code",
   "execution_count": 23,
   "metadata": {},
   "outputs": [
    {
     "data": {
      "text/plain": [
       "16.0"
      ]
     },
     "execution_count": 23,
     "metadata": {},
     "output_type": "execute_result"
    }
   ],
   "source": [
    "# Area of a polygon\n",
    "polygon.Area()"
   ]
  },
  {
   "cell_type": "code",
   "execution_count": 29,
   "metadata": {},
   "outputs": [
    {
     "name": "stdout",
     "output_type": "stream",
     "text": [
      "POINT (3 3)\n"
     ]
    }
   ],
   "source": [
    "# Centroid\n",
    "print(polygon.Centroid().ExportToWkt())"
   ]
  },
  {
   "cell_type": "code",
   "execution_count": 30,
   "metadata": {},
   "outputs": [
    {
     "name": "stdout",
     "output_type": "stream",
     "text": [
      "LINESTRING (1 1,5 1,5 5,1 5,1 1)\n"
     ]
    }
   ],
   "source": [
    "# Boundary\n",
    "print(polygon.GetBoundary().ExportToWkt())"
   ]
  },
  {
   "cell_type": "code",
   "execution_count": 31,
   "metadata": {},
   "outputs": [
    {
     "name": "stdout",
     "output_type": "stream",
     "text": [
      "POLYGON ((1 1,1 5,5 5,5 1,1 1))\n"
     ]
    }
   ],
   "source": [
    "# Convex hull\n",
    "print(polygon.ConvexHull().ExportToWkt())"
   ]
  },
  {
   "cell_type": "code",
   "execution_count": 35,
   "metadata": {},
   "outputs": [
    {
     "name": "stdout",
     "output_type": "stream",
     "text": [
      "POLYGON ((1 1,1 5,5 5,5 1,1 1))\n"
     ]
    }
   ],
   "source": [
    "# Buffer\n",
    "buffer = polygon.Buffer(distance=0)\n",
    "print(buffer.ExportToWkt())"
   ]
  },
  {
   "cell_type": "code",
   "execution_count": 36,
   "metadata": {},
   "outputs": [
    {
     "name": "stdout",
     "output_type": "stream",
     "text": [
      "False\n"
     ]
    }
   ],
   "source": [
    "# Contains\n",
    "point = ogr.Geometry(ogr.wkbPoint)\n",
    "point.AddPoint(10, 10)\n",
    "print(polygon.Contains(point))"
   ]
  },
  {
   "cell_type": "markdown",
   "metadata": {},
   "source": [
    "#### Writing data to a new shapefile"
   ]
  },
  {
   "cell_type": "code",
   "execution_count": 5,
   "metadata": {},
   "outputs": [
    {
     "data": {
      "text/plain": [
       "<osgeo.osr.SpatialReference; proxy of <Swig Object of type 'OSRSpatialReferenceShadow *' at 0x7f8834aa8330> >"
      ]
     },
     "execution_count": 5,
     "metadata": {},
     "output_type": "execute_result"
    }
   ],
   "source": [
    "# Defining the spatial reference for the new data\n",
    "spatial_ref = osr.SpatialReference()\n",
    "spatial_ref.ImportFromProj4('+proj=longlat +ellps=WGS84 +datum=WGS84 +no_defs')\n",
    "spatial_ref"
   ]
  },
  {
   "cell_type": "code",
   "execution_count": 6,
   "metadata": {},
   "outputs": [
    {
     "name": "stdout",
     "output_type": "stream",
     "text": [
      "<osgeo.ogr.FeatureDefn; proxy of <Swig Object of type 'OGRFeatureDefnShadow *' at 0x7f8834aa83f0> >\n"
     ]
    }
   ],
   "source": [
    "# Creating the layer\n",
    "driver = ogr.GetDriverByName('ESRI Shapefile')\n",
    "output_shp = driver.CreateDataSource('output/output_polygon_test.shp')\n",
    "layer = output_shp.CreateLayer('Output', spatial_ref, ogr.wkbPolygon)\n",
    "layer_def = layer.GetLayerDefn()\n",
    "print(layer_def)"
   ]
  },
  {
   "cell_type": "code",
   "execution_count": 9,
   "metadata": {},
   "outputs": [
    {
     "name": "stdout",
     "output_type": "stream",
     "text": [
      "<osgeo.ogr.Feature; proxy of <Swig Object of type 'OGRFeatureShadow *' at 0x7f88604e8c60> >\n"
     ]
    }
   ],
   "source": [
    "# Creating a feature\n",
    "feature_index = 0\n",
    "feature = ogr.Feature(layer_def)\n",
    "feature.SetGeometry(polygon)\n",
    "feature.SetFID(feature_index)\n",
    "print(feature)"
   ]
  },
  {
   "cell_type": "code",
   "execution_count": 43,
   "metadata": {},
   "outputs": [
    {
     "data": {
      "text/plain": [
       "0"
      ]
     },
     "execution_count": 43,
     "metadata": {},
     "output_type": "execute_result"
    }
   ],
   "source": [
    "layer.CreateFeature(feature)"
   ]
  },
  {
   "cell_type": "markdown",
   "metadata": {},
   "source": [
    "#### Using a spatial filter to select features"
   ]
  },
  {
   "cell_type": "code",
   "execution_count": 10,
   "metadata": {},
   "outputs": [
    {
     "name": "stdout",
     "output_type": "stream",
     "text": [
      "(-124.48200299999999, -114.131211, 32.528832, 42.009502999999995)\n",
      "Total features: 38\n",
      "STATEFP\n",
      "COUNTYFP\n",
      "TRACTCE\n",
      "GEOID\n",
      "NAME\n",
      "NAMELSAD\n",
      "MTFCC\n",
      "FUNCSTAT\n",
      "ALAND\n",
      "AWATER\n",
      "INTPTLAT\n",
      "INTPTLON\n",
      "Geometry: POINT (-117.330314237958 32.9304065070288)\n",
      "Field value: 990100\n",
      "Geometry: POINT (-116.779177059395 32.6667234678629)\n",
      "Field value: 021302\n",
      "Geometry: POINT (-116.438560708022 32.7043953032112)\n",
      "Field value: 021100\n"
     ]
    }
   ],
   "source": [
    "extent = lyr.GetExtent()\n",
    "print(extent)\n",
    "# minx, miny, maxx, maxy\n",
    "lyr.SetSpatialFilterRect(extent[0] + 1, extent[1] + 1, extent[2] - 10, extent[3] - 9.41)\n",
    "print(f'Total features: {lyr.GetFeatureCount()}')\n",
    "\n",
    "layer_def = lyr.GetLayerDefn()\n",
    "for index in range(layer_def.GetFieldCount()):\n",
    "    field_def = layer_def.GetFieldDefn(index)\n",
    "    print(field_def.name)\n",
    "field_def = layer_def.GetFieldDefn(0)\n",
    "# print(field_def.name)\n",
    "\n",
    "\n",
    "for feature in lyr:\n",
    "    if feature.GetField('TRACTCE').startswith('01'):\n",
    "        continue\n",
    "    else:\n",
    "        geom = feature.GetGeometryRef()\n",
    "        print(f'Centroid: {geom.Centroid().ExportToWkt()}')\n",
    "        print(f'Field value: {feature.GetField(\"TRACTCE\")}')"
   ]
  },
  {
   "cell_type": "code",
   "execution_count": null,
   "metadata": {},
   "outputs": [],
   "source": []
  }
 ],
 "metadata": {
  "kernelspec": {
   "display_name": "Python 3 (ipykernel)",
   "language": "python",
   "name": "python3"
  },
  "language_info": {
   "codemirror_mode": {
    "name": "ipython",
    "version": 3
   },
   "file_extension": ".py",
   "mimetype": "text/x-python",
   "name": "python",
   "nbconvert_exporter": "python",
   "pygments_lexer": "ipython3",
   "version": "3.9.7"
  }
 },
 "nbformat": 4,
 "nbformat_minor": 4
}
